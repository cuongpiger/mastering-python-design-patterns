{
 "cells": [
  {
   "cell_type": "markdown",
   "metadata": {},
   "source": [
    "# Object Pool pattern\n",
    "- The object pool pattern is a creational design pattern that allows you to reuse existing objects instead of creating new ones when they are needed. This pattern is particularly useful when the cost, in terms of system resources, time, and so on of initializing a new object is high."
   ]
  },
  {
   "cell_type": "code",
   "execution_count": 1,
   "metadata": {},
   "outputs": [],
   "source": [
    "class Car:\n",
    "    def __init__(self, make: str, model: str):\n",
    "        self.make = make\n",
    "        self.model = model\n",
    "        self.in_use = False"
   ]
  },
  {
   "cell_type": "code",
   "execution_count": 2,
   "metadata": {},
   "outputs": [],
   "source": [
    "class CarPool:\n",
    "    def __init__(self):\n",
    "        self._available = []\n",
    "        self._in_use = []\n",
    "\n",
    "    def acquire_car(self) -> Car:\n",
    "        if len(self._available) == 0:\n",
    "            new_car = Car(\"BMW\", \"M3\")\n",
    "            self._available.append(new_car)\n",
    "        car = self._available.pop()\n",
    "        self._in_use.append(car)\n",
    "        car.in_use = True\n",
    "        return car\n",
    "\n",
    "    def release_car(self, car: Car) -> None:\n",
    "        car.in_use = False\n",
    "        self._in_use.remove(car)\n",
    "        self._available.append(car)"
   ]
  },
  {
   "cell_type": "code",
   "execution_count": 3,
   "metadata": {},
   "outputs": [
    {
     "name": "stdout",
     "output_type": "stream",
     "text": [
      "Acquire Car 1\n",
      "Car 1 in use: True\n",
      "Now release Car 1\n",
      "Car 1 in use: False\n"
     ]
    }
   ],
   "source": [
    "pool = CarPool()\n",
    "car_name = \"Car 1\"\n",
    "\n",
    "print(f\"Acquire {car_name}\")\n",
    "car1 = pool.acquire_car()\n",
    "print(f\"{car_name} in use: {car1.in_use}\")\n",
    "\n",
    "print(f\"Now release {car_name}\")\n",
    "pool.release_car(car1)\n",
    "print(f\"{car_name} in use: {car1.in_use}\")"
   ]
  },
  {
   "cell_type": "code",
   "execution_count": null,
   "metadata": {},
   "outputs": [],
   "source": [
    "|"
   ]
  }
 ],
 "metadata": {
  "kernelspec": {
   "display_name": "misc",
   "language": "python",
   "name": "python3"
  },
  "language_info": {
   "codemirror_mode": {
    "name": "ipython",
    "version": 3
   },
   "file_extension": ".py",
   "mimetype": "text/x-python",
   "name": "python",
   "nbconvert_exporter": "python",
   "pygments_lexer": "ipython3",
   "version": "3.12.8"
  }
 },
 "nbformat": 4,
 "nbformat_minor": 2
}
