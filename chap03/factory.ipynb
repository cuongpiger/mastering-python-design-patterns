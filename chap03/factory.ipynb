{
 "cells": [
  {
   "cell_type": "markdown",
   "metadata": {},
   "source": [
    "# Factory pattern"
   ]
  },
  {
   "cell_type": "code",
   "execution_count": 1,
   "metadata": {},
   "outputs": [],
   "source": [
    "import json\n",
    "import os\n",
    "import xml.etree.ElementTree as ET\n",
    "\n",
    "from pathlib import Path"
   ]
  },
  {
   "cell_type": "code",
   "execution_count": 2,
   "metadata": {},
   "outputs": [
    {
     "name": "stdout",
     "output_type": "stream",
     "text": [
      "/mnt/Exdisk/git-cuongpiger/mastering-python-design-patterns/chap03\n"
     ]
    }
   ],
   "source": [
    "print(os.path.dirname(os.path.realpath(\"__file__\")))"
   ]
  },
  {
   "cell_type": "code",
   "execution_count": 3,
   "metadata": {},
   "outputs": [],
   "source": [
    "class JSONDataExtractor:\n",
    "    def __init__(self, filepath: Path):\n",
    "        self.data = {}\n",
    "        with open(filepath) as f:\n",
    "            self.data = json.load(f)\n",
    "\n",
    "    @property\n",
    "    def parsed_data(self):\n",
    "        return self.data"
   ]
  },
  {
   "cell_type": "code",
   "execution_count": 4,
   "metadata": {},
   "outputs": [],
   "source": [
    "class XMLDataExtractor:\n",
    "    def __init__(self, filepath: Path):\n",
    "        self.tree = ET.parse(filepath)\n",
    "\n",
    "    @property\n",
    "    def parsed_data(self):\n",
    "        return self.tree"
   ]
  },
  {
   "cell_type": "code",
   "execution_count": 5,
   "metadata": {},
   "outputs": [],
   "source": [
    "def extract_factory(filepath: Path):\n",
    "    ext = filepath.name.split(\".\")[-1]\n",
    "    if ext == \"json\":\n",
    "        return JSONDataExtractor(filepath)\n",
    "    elif ext == \"xml\":\n",
    "        return XMLDataExtractor(filepath)\n",
    "    else:\n",
    "        raise ValueError(\"Cannot extract data\")"
   ]
  },
  {
   "cell_type": "code",
   "execution_count": 6,
   "metadata": {},
   "outputs": [],
   "source": [
    "def extract(case: str):\n",
    "    dir_path = Path(os.path.realpath(\"__file__\")).parent\n",
    "\n",
    "    if case == \"json\":\n",
    "        path = dir_path / Path(\"movies.json\")\n",
    "        factory = extract_factory(path)\n",
    "        data = factory.parsed_data\n",
    "\n",
    "        for movie in data:\n",
    "            print(f\"- {movie['title']}\")\n",
    "            director = movie[\"director\"]\n",
    "            if director:\n",
    "                print(f\"   Director: {director}\")\n",
    "            genre = movie[\"genre\"]\n",
    "            if genre:\n",
    "                print(f\"   Genre: {genre}\")\n",
    "    elif case == \"xml\":\n",
    "        path = dir_path / Path(\"person.xml\")\n",
    "        factory = extract_factory(path)\n",
    "        data = factory.parsed_data\n",
    "\n",
    "        search_xpath = \".//person[lastName='Liar']\"\n",
    "        items = data.findall(search_xpath)\n",
    "        for item in items:\n",
    "            first = item.find(\"firstName\").text\n",
    "            last = item.find(\"lastName\").text\n",
    "            print(f\"- {first} {last}\")\n",
    "            for pn in item.find(\"phoneNumbers\"):\n",
    "                pn_type = pn.attrib[\"type\"]\n",
    "                pn_val = pn.text\n",
    "                phone = f\"{pn_type}: {pn_val}\"\n",
    "                print(f\"   {phone}\")"
   ]
  },
  {
   "cell_type": "code",
   "execution_count": 7,
   "metadata": {},
   "outputs": [
    {
     "name": "stdout",
     "output_type": "stream",
     "text": [
      "* JSON case *\n",
      "- After Dark in Central Park\n",
      "- Boarding School Girls' Pajama Parade\n",
      "- Buffalo Bill's Wild West Parad\n",
      "- Caught\n",
      "- Clowns Spinning Hats\n",
      "- Capture of Boer Battery by British\n",
      "   Director: James H. White\n",
      "   Genre: Short documentary\n",
      "- The Enchanted Drawing\n",
      "   Director: J. Stuart Blackton\n",
      "- Family Troubles\n",
      "- Feeding Sea Lions\n",
      "* XML case *\n",
      "- Jimy Liar\n",
      "   home: 212 555-1234\n",
      "- Patty Liar\n",
      "   home: 212 555-1234\n",
      "   mobile: 001 452-8819\n"
     ]
    }
   ],
   "source": [
    "print(\"* JSON case *\")\n",
    "extract(case=\"json\")\n",
    "print(\"* XML case *\")\n",
    "extract(case=\"xml\")"
   ]
  },
  {
   "cell_type": "markdown",
   "metadata": {},
   "source": [
    "# Abstract factory pattern"
   ]
  },
  {
   "cell_type": "code",
   "execution_count": 13,
   "metadata": {},
   "outputs": [],
   "source": [
    "class Frog:\n",
    "    def __init__(self, name):\n",
    "        self.name = name\n",
    "\n",
    "    def __str__(self):\n",
    "        return self.name\n",
    "\n",
    "    def interact_with(self, obstacle):\n",
    "        act = obstacle.action()\n",
    "        msg = f\"{self} the Frog encounters {obstacle} and {act}!\"\n",
    "        print(msg)"
   ]
  },
  {
   "cell_type": "code",
   "execution_count": 14,
   "metadata": {},
   "outputs": [],
   "source": [
    "class FrogWorld:\n",
    "    def __init__(self, name):\n",
    "        print(self)\n",
    "        self.player_name = name\n",
    "\n",
    "    def __str__(self):\n",
    "        return \"\\n\\n\\t------ Frog World -------\"\n",
    "\n",
    "    def make_character(self):\n",
    "        return Frog(self.player_name)\n",
    "\n",
    "    def make_obstacle(self):\n",
    "        return Bug()"
   ]
  },
  {
   "cell_type": "code",
   "execution_count": 15,
   "metadata": {},
   "outputs": [],
   "source": [
    "class Wizard:\n",
    "    def __init__(self, name):\n",
    "        self.name = name\n",
    "\n",
    "    def __str__(self):\n",
    "        return self.name\n",
    "\n",
    "    def interact_with(self, obstacle):\n",
    "        act = obstacle.action()\n",
    "        msg = f\"{self} the Wizard battles against {obstacle} and {act}!\"\n",
    "        print(msg)"
   ]
  },
  {
   "cell_type": "code",
   "execution_count": 16,
   "metadata": {},
   "outputs": [],
   "source": [
    "class WizardWorld:\n",
    "    def __init__(self, name):\n",
    "        print(self)\n",
    "        self.player_name = name\n",
    "\n",
    "    def __str__(self):\n",
    "        return \"\\n\\n\\t------ Wizard World -------\"\n",
    "\n",
    "    def make_character(self):\n",
    "        return Wizard(self.player_name)\n",
    "\n",
    "    def make_obstacle(self):\n",
    "        return Ork()"
   ]
  },
  {
   "cell_type": "code",
   "execution_count": 17,
   "metadata": {},
   "outputs": [],
   "source": [
    "class Ork:\n",
    "    def __str__(self):\n",
    "        return \"an evil ork\"\n",
    "\n",
    "    def action(self):\n",
    "        return \"kills it\""
   ]
  },
  {
   "cell_type": "code",
   "execution_count": 18,
   "metadata": {},
   "outputs": [],
   "source": [
    "class Bug:\n",
    "    def __str__(self):\n",
    "        return \"a bug\"\n",
    "\n",
    "    def action(self):\n",
    "        return \"eats it\""
   ]
  },
  {
   "cell_type": "code",
   "execution_count": 19,
   "metadata": {},
   "outputs": [],
   "source": [
    "class GameEnvironment:\n",
    "    def __init__(self, factory):\n",
    "        self.hero = factory.make_character()\n",
    "        self.obstacle = factory.make_obstacle()\n",
    "\n",
    "    def play(self):\n",
    "        self.hero.interact_with(self.obstacle)"
   ]
  },
  {
   "cell_type": "code",
   "execution_count": 20,
   "metadata": {},
   "outputs": [],
   "source": [
    "def validate_age(name):\n",
    "    age = None\n",
    "    try:\n",
    "        age_input = input(f\"Welcome {name}. How old are you? \")\n",
    "        age = int(age_input)\n",
    "    except ValueError:\n",
    "        print(f\"Age '{age_input}' is invalid, please try again...\")\n",
    "        return False, age\n",
    "    return True, age"
   ]
  },
  {
   "cell_type": "code",
   "execution_count": 21,
   "metadata": {},
   "outputs": [
    {
     "name": "stdout",
     "output_type": "stream",
     "text": [
      "\n",
      "\n",
      "\t------ Wizard World -------\n",
      "Cuong the Wizard battles against an evil ork and kills it!\n"
     ]
    }
   ],
   "source": [
    "name = input(\"Hello. What's your name? \")\n",
    "valid_input = False\n",
    "while not valid_input:\n",
    "    valid_input, age = validate_age(name)\n",
    "game = FrogWorld if age < 18 else WizardWorld\n",
    "environment = GameEnvironment(game(name))\n",
    "environment.play()"
   ]
  },
  {
   "cell_type": "code",
   "execution_count": 22,
   "metadata": {},
   "outputs": [
    {
     "name": "stdout",
     "output_type": "stream",
     "text": [
      "\n",
      "\n",
      "\t------ Frog World -------\n",
      "Van the Frog encounters a bug and eats it!\n"
     ]
    }
   ],
   "source": [
    "name = input(\"Hello. What's your name? \")\n",
    "valid_input = False\n",
    "while not valid_input:\n",
    "    valid_input, age = validate_age(name)\n",
    "game = FrogWorld if age < 18 else WizardWorld\n",
    "environment = GameEnvironment(game(name))\n",
    "environment.play()"
   ]
  },
  {
   "cell_type": "code",
   "execution_count": null,
   "metadata": {},
   "outputs": [],
   "source": []
  }
 ],
 "metadata": {
  "kernelspec": {
   "display_name": "misc",
   "language": "python",
   "name": "python3"
  },
  "language_info": {
   "codemirror_mode": {
    "name": "ipython",
    "version": 3
   },
   "file_extension": ".py",
   "mimetype": "text/x-python",
   "name": "python",
   "nbconvert_exporter": "python",
   "pygments_lexer": "ipython3",
   "version": "3.12.8"
  }
 },
 "nbformat": 4,
 "nbformat_minor": 2
}
