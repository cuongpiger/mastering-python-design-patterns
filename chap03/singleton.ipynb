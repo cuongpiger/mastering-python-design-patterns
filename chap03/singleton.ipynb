{
 "cells": [
  {
   "cell_type": "markdown",
   "metadata": {},
   "source": [
    "# Singleton pattern\n",
    "- The singleton design pattern is useful when you need to create only one object or you need some sort of object capable of maintaining a global state for your program."
   ]
  },
  {
   "cell_type": "code",
   "execution_count": 1,
   "metadata": {},
   "outputs": [],
   "source": [
    "import urllib.request"
   ]
  },
  {
   "cell_type": "code",
   "execution_count": 2,
   "metadata": {},
   "outputs": [],
   "source": [
    "class SingletonType(type):\n",
    "    _instances = {}\n",
    "\n",
    "    def __call__(cls, *args, **kwargs):\n",
    "        if cls._instances.get(cls) is None:\n",
    "            obj = super(SingletonType, cls).__call__(*args, **kwargs)\n",
    "            cls._instances[cls] = obj\n",
    "        return cls._instances[cls]"
   ]
  },
  {
   "cell_type": "code",
   "execution_count": 3,
   "metadata": {},
   "outputs": [],
   "source": [
    "class URLFetcher(metaclass=SingletonType):\n",
    "    def __init__(self):\n",
    "        self.urls = []\n",
    "\n",
    "    def fetch(self, url):\n",
    "        req = urllib.request.Request(url)\n",
    "        with urllib.request.urlopen(req) as response:\n",
    "            if response.code == 200:\n",
    "                page_content = response.read()\n",
    "                with open(\"content.html\", \"a\") as f:\n",
    "                    f.write(str(page_content))\n",
    "                self.urls.append(url)"
   ]
  },
  {
   "cell_type": "code",
   "execution_count": 4,
   "metadata": {},
   "outputs": [],
   "source": [
    "def main():\n",
    "    my_urls = [\n",
    "        \"http://python.org\",\n",
    "        \"https://planetpython.org/\",\n",
    "        \"https://www.djangoproject.com/\",\n",
    "    ]\n",
    "\n",
    "    print(URLFetcher() is URLFetcher())\n",
    "\n",
    "    fetcher = URLFetcher()\n",
    "    for url in my_urls:\n",
    "        fetcher.fetch(url)\n",
    "\n",
    "    print(f\"Done URLs: {fetcher.urls}\")"
   ]
  },
  {
   "cell_type": "code",
   "execution_count": 5,
   "metadata": {},
   "outputs": [
    {
     "name": "stdout",
     "output_type": "stream",
     "text": [
      "True\n",
      "Done URLs: ['http://python.org', 'https://planetpython.org/', 'https://www.djangoproject.com/']\n"
     ]
    }
   ],
   "source": [
    "main()"
   ]
  },
  {
   "cell_type": "markdown",
   "metadata": {},
   "source": [
    "## Prevent race condition"
   ]
  },
  {
   "cell_type": "code",
   "execution_count": 6,
   "metadata": {},
   "outputs": [],
   "source": [
    "import urllib.request\n",
    "import threading"
   ]
  },
  {
   "cell_type": "code",
   "execution_count": 7,
   "metadata": {},
   "outputs": [],
   "source": [
    "class SingletonType(type):\n",
    "    _instances = {}\n",
    "    _lock = threading.Lock()  # Ensure thread-safe singleton initialization\n",
    "\n",
    "    def __call__(cls, *args, **kwargs):\n",
    "        with cls._lock:\n",
    "            if cls._instances.get(cls) is None:\n",
    "                obj = super(SingletonType, cls).__call__(*args, **kwargs)\n",
    "                cls._instances[cls] = obj\n",
    "        return cls._instances[cls]"
   ]
  },
  {
   "cell_type": "code",
   "execution_count": 8,
   "metadata": {},
   "outputs": [],
   "source": [
    "class URLFetcher(metaclass=SingletonType):\n",
    "    def __init__(self):\n",
    "        self.urls = []\n",
    "        self._lock = threading.Lock()  # Protect shared resources\n",
    "\n",
    "    def fetch(self, url):\n",
    "        req = urllib.request.Request(url)\n",
    "        with urllib.request.urlopen(req) as response:\n",
    "            if response.code == 200:\n",
    "                page_content = response.read()\n",
    "                with self._lock:  # Locking before writing to the file and modifying shared resources\n",
    "                    with open(\"content.html\", \"a\") as f:\n",
    "                        f.write(str(page_content))\n",
    "                    self.urls.append(url)"
   ]
  },
  {
   "cell_type": "code",
   "execution_count": 9,
   "metadata": {},
   "outputs": [],
   "source": [
    "def main():\n",
    "    my_urls = [\n",
    "        \"http://python.org\",\n",
    "        \"https://planetpython.org/\",\n",
    "        \"https://www.djangoproject.com/\",\n",
    "    ]\n",
    "\n",
    "    print(URLFetcher() is URLFetcher())  # Verify singleton behavior\n",
    "\n",
    "    fetcher = URLFetcher()\n",
    "\n",
    "    # Launch threads to fetch URLs concurrently\n",
    "    threads = []\n",
    "    for url in my_urls:\n",
    "        t = threading.Thread(target=fetcher.fetch, args=(url,))\n",
    "        threads.append(t)\n",
    "        t.start()\n",
    "\n",
    "    # Wait for all threads to complete\n",
    "    for t in threads:\n",
    "        t.join()\n",
    "\n",
    "    print(f\"Done URLs: {fetcher.urls}\")"
   ]
  },
  {
   "cell_type": "code",
   "execution_count": 10,
   "metadata": {},
   "outputs": [
    {
     "name": "stdout",
     "output_type": "stream",
     "text": [
      "True\n",
      "Done URLs: ['http://python.org', 'https://www.djangoproject.com/', 'https://planetpython.org/']\n"
     ]
    }
   ],
   "source": [
    "main()"
   ]
  },
  {
   "cell_type": "code",
   "execution_count": null,
   "metadata": {},
   "outputs": [],
   "source": []
  }
 ],
 "metadata": {
  "kernelspec": {
   "display_name": "misc",
   "language": "python",
   "name": "python3"
  },
  "language_info": {
   "codemirror_mode": {
    "name": "ipython",
    "version": 3
   },
   "file_extension": ".py",
   "mimetype": "text/x-python",
   "name": "python",
   "nbconvert_exporter": "python",
   "pygments_lexer": "ipython3",
   "version": "3.12.8"
  }
 },
 "nbformat": 4,
 "nbformat_minor": 2
}
