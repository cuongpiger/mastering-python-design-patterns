{
 "cells": [
  {
   "cell_type": "markdown",
   "metadata": {},
   "source": [
    "# Prototype pattern\n",
    "- The **prototype pattern** allows you to create new objects by copying existing ones, rather than creating them from scratch.\n",
    "- This pattern is particularly useful when the cost initializing an object is more expensive or complex than copying an existing object.\n",
    "- In essence, the prototype pattern enables you tp create a new instance of a class by duplicating an existing instance, thereby avoiding the overhead of initializing a new object."
   ]
  },
  {
   "cell_type": "code",
   "execution_count": 5,
   "metadata": {},
   "outputs": [],
   "source": [
    "import copy"
   ]
  },
  {
   "cell_type": "code",
   "execution_count": 6,
   "metadata": {},
   "outputs": [],
   "source": [
    "class Website:\n",
    "    def __init__(\n",
    "        self,\n",
    "        name: str,\n",
    "        domain: str,\n",
    "        description: str,\n",
    "        **kwargs,\n",
    "    ):\n",
    "        self.name = name\n",
    "        self.domain = domain\n",
    "        self.description = description\n",
    "\n",
    "        for key in kwargs:\n",
    "            setattr(self, key, kwargs[key])\n",
    "\n",
    "    def __str__(self) -> str:\n",
    "        summary = [\n",
    "            f\"- {self.name} (ID: {id(self)})\\n\",\n",
    "        ]\n",
    "\n",
    "        infos = vars(self).items()\n",
    "        ordered_infos = sorted(infos)\n",
    "        for attr, val in ordered_infos:\n",
    "            if attr == \"name\":\n",
    "                continue\n",
    "            summary.append(f\"{attr}: {val}\\n\")\n",
    "\n",
    "        return \"\".join(summary)"
   ]
  },
  {
   "cell_type": "code",
   "execution_count": 7,
   "metadata": {},
   "outputs": [],
   "source": [
    "class Prototype:\n",
    "    def __init__(self):\n",
    "        self.registry = {}\n",
    "\n",
    "    def register(self, identifier: int, obj: object):\n",
    "        self.registry[identifier] = obj\n",
    "\n",
    "    def unregister(self, identifier: int):\n",
    "        del self.registry[identifier]\n",
    "\n",
    "    def clone(self, identifier: int, **attrs) -> object:\n",
    "        found = self.registry.get(identifier)\n",
    "        if not found:\n",
    "            raise ValueError(f\"Incorrect object identifier: {identifier}\")\n",
    "        obj = copy.deepcopy(found)\n",
    "        for key in attrs:\n",
    "            setattr(obj, key, attrs[key])\n",
    "\n",
    "        return obj"
   ]
  },
  {
   "cell_type": "code",
   "execution_count": 8,
   "metadata": {},
   "outputs": [],
   "source": [
    "def main():\n",
    "    keywords = (\n",
    "        \"python\",\n",
    "        \"programming\",\n",
    "        \"scripting\",\n",
    "        \"data\",\n",
    "        \"automation\",\n",
    "    )\n",
    "    site1 = Website(\n",
    "        \"Python\",\n",
    "        domain=\"python.org\",\n",
    "        description=\"Programming language and ecosystem\",\n",
    "        category=\"Open Source Software\",\n",
    "        keywords=keywords,\n",
    "    )\n",
    "\n",
    "    proto = Prototype()\n",
    "    proto.register(\"python-001\", site1)\n",
    "\n",
    "    site2 = proto.clone(\n",
    "        \"python-001\",\n",
    "        name=\"Python Package Index\",\n",
    "        domain=\"pypi.org\",\n",
    "        description=\"Repository for published packages\",\n",
    "        category=\"Open Source Software\",\n",
    "    )\n",
    "\n",
    "    for site in (site1, site2):\n",
    "        print(site)"
   ]
  },
  {
   "cell_type": "code",
   "execution_count": 9,
   "metadata": {},
   "outputs": [
    {
     "name": "stdout",
     "output_type": "stream",
     "text": [
      "- Python (ID: 138989577294752)\n",
      "category: Open Source Software\n",
      "description: Programming language and ecosystem\n",
      "domain: python.org\n",
      "keywords: ('python', 'programming', 'scripting', 'data', 'automation')\n",
      "\n",
      "- Python Package Index (ID: 138989577294176)\n",
      "category: Open Source Software\n",
      "description: Repository for published packages\n",
      "domain: pypi.org\n",
      "keywords: ('python', 'programming', 'scripting', 'data', 'automation')\n",
      "\n"
     ]
    }
   ],
   "source": [
    "main()"
   ]
  }
 ],
 "metadata": {
  "kernelspec": {
   "display_name": "misc",
   "language": "python",
   "name": "python3"
  },
  "language_info": {
   "codemirror_mode": {
    "name": "ipython",
    "version": 3
   },
   "file_extension": ".py",
   "mimetype": "text/x-python",
   "name": "python",
   "nbconvert_exporter": "python",
   "pygments_lexer": "ipython3",
   "version": "3.12.8"
  }
 },
 "nbformat": 4,
 "nbformat_minor": 2
}
