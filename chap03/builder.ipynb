{
 "cells": [
  {
   "cell_type": "markdown",
   "metadata": {},
   "source": [
    "# Builder"
   ]
  },
  {
   "cell_type": "code",
   "execution_count": 2,
   "metadata": {},
   "outputs": [],
   "source": [
    "import time\n",
    "from enum import Enum"
   ]
  },
  {
   "cell_type": "code",
   "execution_count": 3,
   "metadata": {},
   "outputs": [],
   "source": [
    "PizzaProgress = Enum(\"PizzaProgress\", \"queued preparation baking ready\")\n",
    "PizzaDough = Enum(\"PizzaDough\", \"thin thick\")\n",
    "PizzaSauce = Enum(\"PizzaSauce\", \"tomato creme_fraiche\")\n",
    "PizzaTopping = Enum(\n",
    "    \"PizzaTopping\",\n",
    "    \"mozzarella double_mozzarella bacon ham mushrooms red_onion oregano\",\n",
    ")"
   ]
  },
  {
   "cell_type": "code",
   "execution_count": 4,
   "metadata": {},
   "outputs": [],
   "source": [
    "# Delay in seconds\n",
    "STEP_DELAY = 3"
   ]
  },
  {
   "cell_type": "code",
   "execution_count": 5,
   "metadata": {},
   "outputs": [],
   "source": [
    "class Pizza:\n",
    "    def __init__(self, name):\n",
    "        self.name = name\n",
    "        self.dough = None\n",
    "        self.sauce = None\n",
    "        self.topping = []\n",
    "\n",
    "    def __str__(self):\n",
    "        return self.name\n",
    "\n",
    "    def prepare_dough(self, dough):\n",
    "        self.dough = dough\n",
    "        print(f\"preparing the {self.dough.name} dough of your {self}...\")\n",
    "        time.sleep(STEP_DELAY)\n",
    "        print(f\"done with the {self.dough.name} dough\")"
   ]
  },
  {
   "cell_type": "code",
   "execution_count": 6,
   "metadata": {},
   "outputs": [],
   "source": [
    "class MargaritaBuilder:\n",
    "    def __init__(self):\n",
    "        self.pizza = Pizza(\"margarita\")\n",
    "        self.progress = PizzaProgress.queued\n",
    "        # in seconds for the sake of the example\n",
    "        self.baking_time = 5\n",
    "\n",
    "    def prepare_dough(self):\n",
    "        self.progress = PizzaProgress.preparation\n",
    "        self.pizza.prepare_dough(PizzaDough.thin)\n",
    "\n",
    "    def add_sauce(self):\n",
    "        print(\"adding the tomato sauce to your margarita...\")\n",
    "        self.pizza.sauce = PizzaSauce.tomato\n",
    "        time.sleep(STEP_DELAY)\n",
    "        print(\"done with the tomato sauce\")\n",
    "\n",
    "    def add_topping(self):\n",
    "        topping_desc = \"double mozzarella, oregano\"\n",
    "        topping_items = (\n",
    "            PizzaTopping.double_mozzarella,\n",
    "            PizzaTopping.oregano,\n",
    "        )\n",
    "        print(f\"adding the topping ({topping_desc}) to your margarita\")\n",
    "        self.pizza.topping.append([t for t in topping_items])\n",
    "        time.sleep(STEP_DELAY)\n",
    "        print(f\"done with the topping ({topping_desc})\")\n",
    "\n",
    "    def bake(self):\n",
    "        self.progress = PizzaProgress.baking\n",
    "        print(f\"baking your margarita for {self.baking_time} seconds\")\n",
    "        time.sleep(self.baking_time)\n",
    "        self.progress = PizzaProgress.ready\n",
    "        print(\"your margarita is ready\")"
   ]
  },
  {
   "cell_type": "code",
   "execution_count": 7,
   "metadata": {},
   "outputs": [],
   "source": [
    "class CreamyBaconBuilder:\n",
    "    def __init__(self):\n",
    "        self.pizza = Pizza(\"creamy bacon\")\n",
    "        self.progress = PizzaProgress.queued\n",
    "        # in seconds for the sake of the example\n",
    "        self.baking_time = 7\n",
    "\n",
    "    def prepare_dough(self):\n",
    "        self.progress = PizzaProgress.preparation\n",
    "        self.pizza.prepare_dough(PizzaDough.thick)\n",
    "\n",
    "    def add_sauce(self):\n",
    "        print(\"adding the crème fraîche sauce to your creamy bacon\")\n",
    "        self.pizza.sauce = PizzaSauce.creme_fraiche\n",
    "        time.sleep(STEP_DELAY)\n",
    "        print(\"done with the crème fraîche sauce\")\n",
    "\n",
    "    def add_topping(self):\n",
    "        topping_desc = \"mozzarella, bacon, ham, mushrooms, red onion, oregano\"\n",
    "        topping_items = (\n",
    "            PizzaTopping.mozzarella,\n",
    "            PizzaTopping.bacon,\n",
    "            PizzaTopping.ham,\n",
    "            PizzaTopping.mushrooms,\n",
    "            PizzaTopping.red_onion,\n",
    "            PizzaTopping.oregano,\n",
    "        )\n",
    "        print(f\"adding the topping ({topping_desc}) to your creamy bacon\")\n",
    "        self.pizza.topping.append([t for t in topping_items])\n",
    "        time.sleep(STEP_DELAY)\n",
    "        print(f\"done with the topping ({topping_desc})\")\n",
    "\n",
    "    def bake(self):\n",
    "        self.progress = PizzaProgress.baking\n",
    "        print(f\"baking your creamy bacon for {self.baking_time} seconds\")\n",
    "        time.sleep(self.baking_time)\n",
    "        self.progress = PizzaProgress.ready\n",
    "        print(\"your creamy bacon is ready\")"
   ]
  },
  {
   "cell_type": "code",
   "execution_count": 8,
   "metadata": {},
   "outputs": [],
   "source": [
    "class Waiter:\n",
    "    def __init__(self):\n",
    "        self.builder = None\n",
    "\n",
    "    def construct_pizza(self, builder):\n",
    "        self.builder = builder\n",
    "        steps = (\n",
    "            builder.prepare_dough,\n",
    "            builder.add_sauce,\n",
    "            builder.add_topping,\n",
    "            builder.bake,\n",
    "        )\n",
    "        [step() for step in steps]\n",
    "\n",
    "    @property\n",
    "    def pizza(self):\n",
    "        return self.builder.pizza"
   ]
  },
  {
   "cell_type": "code",
   "execution_count": 9,
   "metadata": {},
   "outputs": [],
   "source": [
    "def validate_style(builders):\n",
    "    try:\n",
    "        input_msg = \"What pizza would you like, [m]argarita or [c]reamy bacon? \"\n",
    "        pizza_style = input(input_msg)\n",
    "        builder = builders[pizza_style]()\n",
    "        valid_input = True\n",
    "    except KeyError:\n",
    "        error_msg = (\n",
    "            \"Sorry, only margarita (key m) and creamy bacon (key c) are available\"\n",
    "        )\n",
    "        print(error_msg)\n",
    "        return (False, None)\n",
    "    return (True, builder)"
   ]
  },
  {
   "cell_type": "code",
   "execution_count": 10,
   "metadata": {},
   "outputs": [],
   "source": [
    "def main():\n",
    "    builders = dict(m=MargaritaBuilder, c=CreamyBaconBuilder)\n",
    "    valid_input = False\n",
    "    while not valid_input:\n",
    "        valid_input, builder = validate_style(builders)\n",
    "    print()\n",
    "    waiter = Waiter()\n",
    "    waiter.construct_pizza(builder)\n",
    "    pizza = waiter.pizza\n",
    "    print()\n",
    "    print(f\"Enjoy your {pizza}!\")"
   ]
  },
  {
   "cell_type": "code",
   "execution_count": 11,
   "metadata": {},
   "outputs": [
    {
     "name": "stdout",
     "output_type": "stream",
     "text": [
      "\n",
      "preparing the thin dough of your margarita...\n",
      "done with the thin dough\n",
      "adding the tomato sauce to your margarita...\n",
      "done with the tomato sauce\n",
      "adding the topping (double mozzarella, oregano) to your margarita\n",
      "done with the topping (double mozzarella, oregano)\n",
      "baking your margarita for 5 seconds\n",
      "your margarita is ready\n",
      "\n",
      "Enjoy your margarita!\n"
     ]
    }
   ],
   "source": [
    "main()"
   ]
  },
  {
   "cell_type": "code",
   "execution_count": null,
   "metadata": {},
   "outputs": [],
   "source": []
  }
 ],
 "metadata": {
  "kernelspec": {
   "display_name": "misc",
   "language": "python",
   "name": "python3"
  },
  "language_info": {
   "codemirror_mode": {
    "name": "ipython",
    "version": 3
   },
   "file_extension": ".py",
   "mimetype": "text/x-python",
   "name": "python",
   "nbconvert_exporter": "python",
   "pygments_lexer": "ipython3",
   "version": "3.12.8"
  }
 },
 "nbformat": 4,
 "nbformat_minor": 2
}
