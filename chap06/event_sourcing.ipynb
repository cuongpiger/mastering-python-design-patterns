{
 "cells": [
  {
   "cell_type": "markdown",
   "metadata": {},
   "source": [
    "# The event sourcing\n",
    "- The Event Sourcing pattern stores state changes as a sequence of events, allowing the reconstruction of past states and providing an audit trail. This pattern is particularly useful in systems where the state is complex and the business rules for transitions are complex.\n",
    "- As we will see in implementation examples later, the Event Sourcing pattern emphasizes the importance of capturing all changes to an application state as a sequence of events. An outcome of this is that the application state can be reconstructed at any point in time by replaying these events.\n",
    "\n",
    "- There are several real-world examples in the software category:\n",
    "  - Audit trails: Keeping a record of all changes made to a database for compliance\n",
    "  - Collaborative editing: Allowing multiple users to edit a document simultaneously\n",
    "  - Undo/redo features: Providing the ability to undo or redo actions in an application"
   ]
  },
  {
   "cell_type": "code",
   "execution_count": 1,
   "metadata": {},
   "outputs": [],
   "source": [
    "class Account:\n",
    "    def __init__(self):\n",
    "        self.balance = 0\n",
    "        self.events = []\n",
    "\n",
    "    def apply_event(self, event):\n",
    "        if event[\"type\"] == \"deposited\":\n",
    "            self.balance += event[\"amount\"]\n",
    "        elif event[\"type\"] == \"withdrawn\":\n",
    "            self.balance -= event[\"amount\"]\n",
    "        self.events.append(event)\n",
    "\n",
    "    def deposit(self, amount):\n",
    "        event = {\"type\": \"deposited\", \"amount\": amount}\n",
    "        self.apply_event(event)\n",
    "\n",
    "    def withdraw(self, amount):\n",
    "        event = {\"type\": \"withdrawn\", \"amount\": amount}\n",
    "        self.apply_event(event)"
   ]
  },
  {
   "cell_type": "code",
   "execution_count": 2,
   "metadata": {},
   "outputs": [],
   "source": [
    "def main():\n",
    "    account = Account()\n",
    "    account.deposit(100)\n",
    "    account.deposit(50)\n",
    "    account.withdraw(30)\n",
    "    account.deposit(30)\n",
    "\n",
    "    for evt in account.events:\n",
    "        print(evt)\n",
    "    print(f\"Balance: {account.balance}\")"
   ]
  },
  {
   "cell_type": "code",
   "execution_count": 3,
   "metadata": {},
   "outputs": [
    {
     "name": "stdout",
     "output_type": "stream",
     "text": [
      "{'type': 'deposited', 'amount': 100}\n",
      "{'type': 'deposited', 'amount': 50}\n",
      "{'type': 'withdrawn', 'amount': 30}\n",
      "{'type': 'deposited', 'amount': 30}\n",
      "Balance: 150\n"
     ]
    }
   ],
   "source": [
    "main()"
   ]
  },
  {
   "cell_type": "markdown",
   "metadata": {},
   "source": [
    "<hr>"
   ]
  },
  {
   "cell_type": "code",
   "execution_count": 6,
   "metadata": {},
   "outputs": [
    {
     "name": "stdout",
     "output_type": "stream",
     "text": [
      "Requirement already satisfied: eventsourcing in /mnt/Exdisk/git-cuongpiger/mastering-python-design-patterns/.conda/lib/python3.11/site-packages (9.3.5)\n",
      "Requirement already satisfied: typing_extensions in /mnt/Exdisk/git-cuongpiger/mastering-python-design-patterns/.conda/lib/python3.11/site-packages (from eventsourcing) (4.12.2)\n"
     ]
    }
   ],
   "source": [
    "!pip install eventsourcing"
   ]
  },
  {
   "cell_type": "code",
   "execution_count": 7,
   "metadata": {},
   "outputs": [],
   "source": [
    "from eventsourcing.domain import Aggregate, event\n",
    "from eventsourcing.application import Application"
   ]
  },
  {
   "cell_type": "code",
   "execution_count": 8,
   "metadata": {},
   "outputs": [],
   "source": [
    "class InventoryItem(Aggregate):\n",
    "    @event(\"ItemCreated\")\n",
    "    def __init__(self, name, quantity=0):\n",
    "        self.name = name\n",
    "        self.quantity = quantity\n",
    "\n",
    "    @event(\"QuantityIncreased\")\n",
    "    def increase_quantity(self, amount):\n",
    "        self.quantity += amount\n",
    "\n",
    "    @event(\"QuantityDecreased\")\n",
    "    def decrease_quantity(self, amount):\n",
    "        self.quantity -= amount"
   ]
  },
  {
   "cell_type": "code",
   "execution_count": 9,
   "metadata": {},
   "outputs": [],
   "source": [
    "class InventoryApp(Application):\n",
    "    def create_item(self, name, quantity):\n",
    "        item = InventoryItem(name, quantity)\n",
    "        self.save(item)\n",
    "        return item.id\n",
    "\n",
    "    def increase_item_quantity(self, item_id, amount):\n",
    "        item = self.repository.get(item_id)\n",
    "        item.increase_quantity(amount)\n",
    "        self.save(item)\n",
    "\n",
    "    def decrease_item_quantity(self, item_id, amount):\n",
    "        item = self.repository.get(item_id)\n",
    "        item.decrease_quantity(amount)\n",
    "        self.save(item)"
   ]
  },
  {
   "cell_type": "code",
   "execution_count": 10,
   "metadata": {},
   "outputs": [],
   "source": [
    "def main():\n",
    "    app = InventoryApp()\n",
    "\n",
    "    # Create a new item\n",
    "    item_id = app.create_item(\"Laptop\", 10)\n",
    "    # Increase quantity\n",
    "    app.increase_item_quantity(item_id, 5)\n",
    "    # Decrease quantity\n",
    "    app.decrease_item_quantity(item_id, 3)\n",
    "\n",
    "    notifs = app.notification_log.select(start=1, limit=5)\n",
    "    notifs = [notif.state for notif in notifs]\n",
    "    for notif in notifs:\n",
    "        print(notif.decode())"
   ]
  },
  {
   "cell_type": "code",
   "execution_count": 11,
   "metadata": {},
   "outputs": [
    {
     "name": "stdout",
     "output_type": "stream",
     "text": [
      "{\"timestamp\":{\"_type_\":\"datetime_iso\",\"_data_\":\"2025-01-29T12:41:59.543282+00:00\"},\"originator_topic\":\"__main__:InventoryItem\",\"name\":\"Laptop\",\"quantity\":10}\n",
      "{\"timestamp\":{\"_type_\":\"datetime_iso\",\"_data_\":\"2025-01-29T12:41:59.543568+00:00\"},\"amount\":5}\n",
      "{\"timestamp\":{\"_type_\":\"datetime_iso\",\"_data_\":\"2025-01-29T12:41:59.543740+00:00\"},\"amount\":3}\n"
     ]
    }
   ],
   "source": [
    "main()"
   ]
  },
  {
   "cell_type": "code",
   "execution_count": null,
   "metadata": {},
   "outputs": [],
   "source": []
  }
 ],
 "metadata": {
  "kernelspec": {
   "display_name": "Python 3",
   "language": "python",
   "name": "python3"
  },
  "language_info": {
   "codemirror_mode": {
    "name": "ipython",
    "version": 3
   },
   "file_extension": ".py",
   "mimetype": "text/x-python",
   "name": "python",
   "nbconvert_exporter": "python",
   "pygments_lexer": "ipython3",
   "version": "3.11.11"
  }
 },
 "nbformat": 4,
 "nbformat_minor": 2
}
