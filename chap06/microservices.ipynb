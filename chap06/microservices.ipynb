{
 "cells": [
  {
   "cell_type": "markdown",
   "metadata": {},
   "source": [
    "# The microservices pattern"
   ]
  },
  {
   "cell_type": "code",
   "execution_count": 3,
   "metadata": {},
   "outputs": [
    {
     "name": "stdout",
     "output_type": "stream",
     "text": [
      "Requirement already satisfied: grpcio in /mnt/Exdisk/git-cuongpiger/mastering-python-design-patterns/.conda/lib/python3.11/site-packages (1.70.0)\n",
      "Requirement already satisfied: grpcio-tools in /mnt/Exdisk/git-cuongpiger/mastering-python-design-patterns/.conda/lib/python3.11/site-packages (1.70.0)\n",
      "Requirement already satisfied: protobuf<6.0dev,>=5.26.1 in /mnt/Exdisk/git-cuongpiger/mastering-python-design-patterns/.conda/lib/python3.11/site-packages (from grpcio-tools) (5.29.3)\n",
      "Requirement already satisfied: grpcio>=1.70.0 in /mnt/Exdisk/git-cuongpiger/mastering-python-design-patterns/.conda/lib/python3.11/site-packages (from grpcio-tools) (1.70.0)\n",
      "Requirement already satisfied: setuptools in /mnt/Exdisk/git-cuongpiger/mastering-python-design-patterns/.conda/lib/python3.11/site-packages (from grpcio-tools) (75.8.0)\n",
      "Requirement already satisfied: lanarky==0.8.6 in /mnt/Exdisk/git-cuongpiger/mastering-python-design-patterns/.conda/lib/python3.11/site-packages (from lanarky[openai]==0.8.6) (0.8.6)\n",
      "Requirement already satisfied: uvicorn==0.29.0 in /mnt/Exdisk/git-cuongpiger/mastering-python-design-patterns/.conda/lib/python3.11/site-packages (0.29.0)\n",
      "Requirement already satisfied: fastapi>=0.97.0 in /mnt/Exdisk/git-cuongpiger/mastering-python-design-patterns/.conda/lib/python3.11/site-packages (from lanarky==0.8.6->lanarky[openai]==0.8.6) (0.115.7)\n",
      "Requirement already satisfied: httpx-sse<0.4.0,>=0.3.1 in /mnt/Exdisk/git-cuongpiger/mastering-python-design-patterns/.conda/lib/python3.11/site-packages (from lanarky==0.8.6->lanarky[openai]==0.8.6) (0.3.1)\n",
      "Requirement already satisfied: loguru<0.8.0,>=0.7.2 in /mnt/Exdisk/git-cuongpiger/mastering-python-design-patterns/.conda/lib/python3.11/site-packages (from lanarky==0.8.6->lanarky[openai]==0.8.6) (0.7.3)\n",
      "Requirement already satisfied: pydantic<3,>=1 in /mnt/Exdisk/git-cuongpiger/mastering-python-design-patterns/.conda/lib/python3.11/site-packages (from lanarky==0.8.6->lanarky[openai]==0.8.6) (2.10.6)\n",
      "Requirement already satisfied: sse-starlette<2.0.0,>=1.6.5 in /mnt/Exdisk/git-cuongpiger/mastering-python-design-patterns/.conda/lib/python3.11/site-packages (from lanarky==0.8.6->lanarky[openai]==0.8.6) (1.8.2)\n",
      "Requirement already satisfied: websockets<12.0 in /mnt/Exdisk/git-cuongpiger/mastering-python-design-patterns/.conda/lib/python3.11/site-packages (from lanarky==0.8.6->lanarky[openai]==0.8.6) (11.0.3)\n",
      "Requirement already satisfied: click>=7.0 in /mnt/Exdisk/git-cuongpiger/mastering-python-design-patterns/.conda/lib/python3.11/site-packages (from uvicorn==0.29.0) (8.1.8)\n",
      "Requirement already satisfied: h11>=0.8 in /mnt/Exdisk/git-cuongpiger/mastering-python-design-patterns/.conda/lib/python3.11/site-packages (from uvicorn==0.29.0) (0.14.0)\n",
      "Requirement already satisfied: openai<2,>=1 in /mnt/Exdisk/git-cuongpiger/mastering-python-design-patterns/.conda/lib/python3.11/site-packages (from lanarky[openai]==0.8.6) (1.60.2)\n",
      "Requirement already satisfied: tiktoken<0.5.0,>=0.4.0 in /mnt/Exdisk/git-cuongpiger/mastering-python-design-patterns/.conda/lib/python3.11/site-packages (from lanarky[openai]==0.8.6) (0.4.0)\n",
      "Requirement already satisfied: starlette<0.46.0,>=0.40.0 in /mnt/Exdisk/git-cuongpiger/mastering-python-design-patterns/.conda/lib/python3.11/site-packages (from fastapi>=0.97.0->lanarky==0.8.6->lanarky[openai]==0.8.6) (0.45.3)\n",
      "Requirement already satisfied: typing-extensions>=4.8.0 in /mnt/Exdisk/git-cuongpiger/mastering-python-design-patterns/.conda/lib/python3.11/site-packages (from fastapi>=0.97.0->lanarky==0.8.6->lanarky[openai]==0.8.6) (4.12.2)\n",
      "Requirement already satisfied: anyio<5,>=3.5.0 in /mnt/Exdisk/git-cuongpiger/mastering-python-design-patterns/.conda/lib/python3.11/site-packages (from openai<2,>=1->lanarky[openai]==0.8.6) (4.8.0)\n",
      "Requirement already satisfied: distro<2,>=1.7.0 in /mnt/Exdisk/git-cuongpiger/mastering-python-design-patterns/.conda/lib/python3.11/site-packages (from openai<2,>=1->lanarky[openai]==0.8.6) (1.9.0)\n",
      "Requirement already satisfied: httpx<1,>=0.23.0 in /mnt/Exdisk/git-cuongpiger/mastering-python-design-patterns/.conda/lib/python3.11/site-packages (from openai<2,>=1->lanarky[openai]==0.8.6) (0.28.1)\n",
      "Requirement already satisfied: jiter<1,>=0.4.0 in /mnt/Exdisk/git-cuongpiger/mastering-python-design-patterns/.conda/lib/python3.11/site-packages (from openai<2,>=1->lanarky[openai]==0.8.6) (0.8.2)\n",
      "Requirement already satisfied: sniffio in /mnt/Exdisk/git-cuongpiger/mastering-python-design-patterns/.conda/lib/python3.11/site-packages (from openai<2,>=1->lanarky[openai]==0.8.6) (1.3.1)\n",
      "Requirement already satisfied: tqdm>4 in /mnt/Exdisk/git-cuongpiger/mastering-python-design-patterns/.conda/lib/python3.11/site-packages (from openai<2,>=1->lanarky[openai]==0.8.6) (4.67.1)\n",
      "Requirement already satisfied: annotated-types>=0.6.0 in /mnt/Exdisk/git-cuongpiger/mastering-python-design-patterns/.conda/lib/python3.11/site-packages (from pydantic<3,>=1->lanarky==0.8.6->lanarky[openai]==0.8.6) (0.7.0)\n",
      "Requirement already satisfied: pydantic-core==2.27.2 in /mnt/Exdisk/git-cuongpiger/mastering-python-design-patterns/.conda/lib/python3.11/site-packages (from pydantic<3,>=1->lanarky==0.8.6->lanarky[openai]==0.8.6) (2.27.2)\n",
      "Requirement already satisfied: regex>=2022.1.18 in /mnt/Exdisk/git-cuongpiger/mastering-python-design-patterns/.conda/lib/python3.11/site-packages (from tiktoken<0.5.0,>=0.4.0->lanarky[openai]==0.8.6) (2024.11.6)\n",
      "Requirement already satisfied: requests>=2.26.0 in /mnt/Exdisk/git-cuongpiger/mastering-python-design-patterns/.conda/lib/python3.11/site-packages (from tiktoken<0.5.0,>=0.4.0->lanarky[openai]==0.8.6) (2.32.3)\n",
      "Requirement already satisfied: idna>=2.8 in /mnt/Exdisk/git-cuongpiger/mastering-python-design-patterns/.conda/lib/python3.11/site-packages (from anyio<5,>=3.5.0->openai<2,>=1->lanarky[openai]==0.8.6) (3.10)\n",
      "Requirement already satisfied: certifi in /mnt/Exdisk/git-cuongpiger/mastering-python-design-patterns/.conda/lib/python3.11/site-packages (from httpx<1,>=0.23.0->openai<2,>=1->lanarky[openai]==0.8.6) (2024.12.14)\n",
      "Requirement already satisfied: httpcore==1.* in /mnt/Exdisk/git-cuongpiger/mastering-python-design-patterns/.conda/lib/python3.11/site-packages (from httpx<1,>=0.23.0->openai<2,>=1->lanarky[openai]==0.8.6) (1.0.7)\n",
      "Requirement already satisfied: charset-normalizer<4,>=2 in /mnt/Exdisk/git-cuongpiger/mastering-python-design-patterns/.conda/lib/python3.11/site-packages (from requests>=2.26.0->tiktoken<0.5.0,>=0.4.0->lanarky[openai]==0.8.6) (3.4.1)\n",
      "Requirement already satisfied: urllib3<3,>=1.21.1 in /mnt/Exdisk/git-cuongpiger/mastering-python-design-patterns/.conda/lib/python3.11/site-packages (from requests>=2.26.0->tiktoken<0.5.0,>=0.4.0->lanarky[openai]==0.8.6) (2.3.0)\n"
     ]
    }
   ],
   "source": [
    "!python -m pip install grpcio\n",
    "!python -m pip install grpcio-tools\n",
    "!python -m pip install \"lanarky[openai]\"==0.8.6 uvicorn==0.29.0"
   ]
  },
  {
   "cell_type": "code",
   "execution_count": 4,
   "metadata": {},
   "outputs": [],
   "source": [
    "!python -m grpc_tools.protoc -I. --python_out=. --grpc_python_out=. payment.proto"
   ]
  },
  {
   "cell_type": "markdown",
   "metadata": {},
   "source": [
    "Run the GRPC server:\n",
    "```bash\n",
    "python payment_service.py\n",
    "```\n",
    "\n",
    "  ![](./../assets/images/chap06/01.png)"
   ]
  },
  {
   "cell_type": "code",
   "execution_count": 5,
   "metadata": {},
   "outputs": [],
   "source": [
    "import grpc\n",
    "import payment_pb2\n",
    "import payment_pb2_grpc"
   ]
  },
  {
   "cell_type": "code",
   "execution_count": 6,
   "metadata": {},
   "outputs": [
    {
     "name": "stdout",
     "output_type": "stream",
     "text": [
      "Payment Service responded.\n",
      "Response status: SUCCESS\n"
     ]
    }
   ],
   "source": [
    "with grpc.insecure_channel(\"localhost:50051\") as chan:\n",
    "    stub = payment_pb2_grpc.PaymentServiceStub(chan)\n",
    "    resp = stub.ProcessPayment(\n",
    "        payment_pb2.PaymentRequest(\n",
    "            order_id=\"order123\",\n",
    "            amount=99.99,\n",
    "            currency=\"USD\",\n",
    "            user_id=\"user456\",\n",
    "        )\n",
    "    )\n",
    "    print(\"Payment Service responded.\")\n",
    "    print(f\"Response status: {resp.status}\")"
   ]
  }
 ],
 "metadata": {
  "kernelspec": {
   "display_name": "Python 3",
   "language": "python",
   "name": "python3"
  },
  "language_info": {
   "codemirror_mode": {
    "name": "ipython",
    "version": 3
   },
   "file_extension": ".py",
   "mimetype": "text/x-python",
   "name": "python",
   "nbconvert_exporter": "python",
   "pygments_lexer": "ipython3",
   "version": "3.11.11"
  }
 },
 "nbformat": 4,
 "nbformat_minor": 2
}
