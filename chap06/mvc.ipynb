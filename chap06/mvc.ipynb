{
 "cells": [
  {
   "cell_type": "markdown",
   "metadata": {},
   "source": [
    "# The MVC pattern"
   ]
  },
  {
   "cell_type": "code",
   "execution_count": 4,
   "metadata": {},
   "outputs": [],
   "source": [
    "from typing import List, Tuple"
   ]
  },
  {
   "cell_type": "code",
   "execution_count": 5,
   "metadata": {},
   "outputs": [],
   "source": [
    "quotes = (\n",
    "    \"A man is not complete until he is married. Then he is finished.\",\n",
    "    \"As I said before, I never repeat myself.\",\n",
    "    \"Behind a successful man is an exhausted woman.\",\n",
    "    \"Black holes really suck...\",\n",
    "    \"Facts are stubborn things.\",\n",
    ")"
   ]
  },
  {
   "cell_type": "code",
   "execution_count": 6,
   "metadata": {},
   "outputs": [],
   "source": [
    "class QuoteModel:\n",
    "    def get_quote(self, n: int) -> str:\n",
    "        try:\n",
    "            value = quotes[n]\n",
    "        except IndexError as err:\n",
    "            value = \"Not found!\"\n",
    "        return value"
   ]
  },
  {
   "cell_type": "code",
   "execution_count": 7,
   "metadata": {},
   "outputs": [],
   "source": [
    "class QuoteTerminalView:\n",
    "    def show(self, quote: str):\n",
    "        print(f'And the quote is: \"{quote}\"')\n",
    "\n",
    "    def error(self, msg):\n",
    "        print(f\"Error: {msg}\")\n",
    "\n",
    "    def select_quote(self):\n",
    "        return input(\"Which quote number would you like to see? \")"
   ]
  },
  {
   "cell_type": "code",
   "execution_count": 8,
   "metadata": {},
   "outputs": [],
   "source": [
    "class QuoteTerminalController:\n",
    "    def __init__(self):\n",
    "        self.model = QuoteModel()\n",
    "        self.view = QuoteTerminalView()\n",
    "\n",
    "    def run(self):\n",
    "        valid_input = False\n",
    "        while not valid_input:\n",
    "            try:\n",
    "                n = self.view.select_quote()\n",
    "                n = int(n)\n",
    "                valid_input = True\n",
    "            except ValueError as err:\n",
    "                self.view.error(f\"Incorrect index '{n}'\")\n",
    "        quote = self.model.get_quote(n)\n",
    "        self.view.show(quote)"
   ]
  },
  {
   "cell_type": "code",
   "execution_count": 9,
   "metadata": {},
   "outputs": [],
   "source": [
    "def main():\n",
    "    controller = QuoteTerminalController()\n",
    "    while True:\n",
    "        controller.run()"
   ]
  },
  {
   "cell_type": "code",
   "execution_count": null,
   "metadata": {},
   "outputs": [
    {
     "name": "stdout",
     "output_type": "stream",
     "text": [
      "And the quote is: \"Black holes really suck...\"\n",
      "And the quote is: \"As I said before, I never repeat myself.\"\n",
      "And the quote is: \"Facts are stubborn things.\"\n",
      "Error: Incorrect index 'quit'\n",
      "Error: Incorrect index ''\n",
      "Error: Incorrect index ''\n",
      "Error: Incorrect index ''\n"
     ]
    }
   ],
   "source": [
    "main()"
   ]
  },
  {
   "cell_type": "code",
   "execution_count": null,
   "metadata": {},
   "outputs": [],
   "source": []
  }
 ],
 "metadata": {
  "kernelspec": {
   "display_name": "misc",
   "language": "python",
   "name": "python3"
  },
  "language_info": {
   "codemirror_mode": {
    "name": "ipython",
    "version": 3
   },
   "file_extension": ".py",
   "mimetype": "text/x-python",
   "name": "python",
   "nbconvert_exporter": "python",
   "pygments_lexer": "ipython3",
   "version": "3.12.8"
  }
 },
 "nbformat": 4,
 "nbformat_minor": 2
}
