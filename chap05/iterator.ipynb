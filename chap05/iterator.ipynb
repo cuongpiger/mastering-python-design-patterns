{
 "cells": [
  {
   "cell_type": "markdown",
   "metadata": {},
   "source": [
    "# Iterator pattern\n",
    "- The Iterator Pattern is a behavioral design pattern that allows sequential access to the elements of a collection without exposing the internal structure of the collection. It provides a way to iterate over a collection (like a list, array, or set) in a standardized manner.\n",
    "\n",
    "##### When to Use the Iterator Pattern?\n",
    "- When you need to access elements of a collection in a specific order without exposing its internal structure.\n",
    "- When you want to iterate over a complex collection (such as a tree or graph) that might not be as simple as an array or list.\n",
    "- When you need multiple ways to iterate over a collection, possibly in different directions or orders."
   ]
  },
  {
   "cell_type": "code",
   "execution_count": 1,
   "metadata": {},
   "outputs": [],
   "source": [
    "class FootballTeamIterator:\n",
    "    def __init__(self, members):\n",
    "        self.members = members\n",
    "        self.index = 0\n",
    "\n",
    "    def __iter__(self):\n",
    "        return self\n",
    "\n",
    "    def __next__(self):\n",
    "        if self.index < len(self.members):\n",
    "            val = self.members[self.index]\n",
    "            self.index += 1\n",
    "            return val\n",
    "        else:\n",
    "            raise StopIteration()"
   ]
  },
  {
   "cell_type": "code",
   "execution_count": 2,
   "metadata": {},
   "outputs": [],
   "source": [
    "class FootballTeam:\n",
    "    def __init__(self, members):\n",
    "        self.members = members\n",
    "\n",
    "    def __iter__(self):\n",
    "        return FootballTeamIterator(self.members)"
   ]
  },
  {
   "cell_type": "code",
   "execution_count": 3,
   "metadata": {},
   "outputs": [],
   "source": [
    "def main():\n",
    "    members = [f\"player{str(x)}\" for x in range(1, 23)]\n",
    "    members = members + [\"coach1\", \"coach2\", \"coach3\"]\n",
    "    team = FootballTeam(members)\n",
    "    team_it = iter(team)\n",
    "\n",
    "    try:\n",
    "        while True:\n",
    "            print(next(team_it))\n",
    "    except StopIteration:\n",
    "        print(\"(End)\")"
   ]
  },
  {
   "cell_type": "code",
   "execution_count": 4,
   "metadata": {},
   "outputs": [
    {
     "name": "stdout",
     "output_type": "stream",
     "text": [
      "player1\n",
      "player2\n",
      "player3\n",
      "player4\n",
      "player5\n",
      "player6\n",
      "player7\n",
      "player8\n",
      "player9\n",
      "player10\n",
      "player11\n",
      "player12\n",
      "player13\n",
      "player14\n",
      "player15\n",
      "player16\n",
      "player17\n",
      "player18\n",
      "player19\n",
      "player20\n",
      "player21\n",
      "player22\n",
      "coach1\n",
      "coach2\n",
      "coach3\n",
      "(End)\n"
     ]
    }
   ],
   "source": [
    "main()"
   ]
  },
  {
   "cell_type": "code",
   "execution_count": null,
   "metadata": {},
   "outputs": [],
   "source": []
  }
 ],
 "metadata": {
  "kernelspec": {
   "display_name": "misc",
   "language": "python",
   "name": "python3"
  },
  "language_info": {
   "codemirror_mode": {
    "name": "ipython",
    "version": 3
   },
   "file_extension": ".py",
   "mimetype": "text/x-python",
   "name": "python",
   "nbconvert_exporter": "python",
   "pygments_lexer": "ipython3",
   "version": "3.12.8"
  }
 },
 "nbformat": 4,
 "nbformat_minor": 2
}
