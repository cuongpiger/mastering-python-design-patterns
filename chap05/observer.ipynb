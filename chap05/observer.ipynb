{
 "cells": [
  {
   "cell_type": "markdown",
   "metadata": {},
   "source": [
    "# Observer pattern\n",
    "- The Observer pattern describes a publish-subscribe relationship between a single object, the publisher, which is also known as the subject or observable, and one or more objects, the subscribers, also known as observers. So, the subject notifies the subscribers of any state changes, typically by calling one of their methods."
   ]
  },
  {
   "cell_type": "code",
   "execution_count": 1,
   "metadata": {},
   "outputs": [],
   "source": [
    "class Observer:\n",
    "    def update(self, temperature, humidity, pressure):\n",
    "        pass"
   ]
  },
  {
   "cell_type": "code",
   "execution_count": 2,
   "metadata": {},
   "outputs": [],
   "source": [
    "class WeatherStation:\n",
    "    def __init__(self):\n",
    "        self.observers = []\n",
    "\n",
    "    def add_observer(self, observer):\n",
    "        self.observers.append(observer)\n",
    "\n",
    "    def remove_observer(self, observer):\n",
    "        self.observers.remove(observer)\n",
    "\n",
    "    def set_weather_data(self, temperature, humidity, pressure):\n",
    "        # When weather data changes, notify all observers\n",
    "        for observer in self.observers:\n",
    "            observer.update(temperature, humidity, pressure)"
   ]
  },
  {
   "cell_type": "code",
   "execution_count": 3,
   "metadata": {},
   "outputs": [],
   "source": [
    "# DisplayDevice observer\n",
    "class DisplayDevice(Observer):\n",
    "    def __init__(self, name):\n",
    "        self.name = name\n",
    "\n",
    "    def update(self, temperature, humidity, pressure):\n",
    "        print(f\"{self.name} Display\")\n",
    "        print(\n",
    "            f\" - Temperature: {temperature}°C, Humidity: {humidity}%, Pressure: {pressure}hPa\"\n",
    "        )"
   ]
  },
  {
   "cell_type": "code",
   "execution_count": 4,
   "metadata": {},
   "outputs": [],
   "source": [
    "# WeatherApp observer\n",
    "class WeatherApp(Observer):\n",
    "    def __init__(self, name):\n",
    "        self.name = name\n",
    "\n",
    "    def update(self, temperature, humidity, pressure):\n",
    "        print(f\"{self.name} App - Weather Update\")\n",
    "        print(\n",
    "            f\" - Temperature: {temperature}°C, Humidity: {humidity}%, Pressure: {pressure}hPa\"\n",
    "        )"
   ]
  },
  {
   "cell_type": "code",
   "execution_count": 5,
   "metadata": {},
   "outputs": [],
   "source": [
    "def main():\n",
    "    # Create the WeatherStation\n",
    "    weather_station = WeatherStation()\n",
    "\n",
    "    # Create and register observers\n",
    "    display1 = DisplayDevice(\"Living Room\")\n",
    "    display2 = DisplayDevice(\"Bedroom\")\n",
    "    app1 = WeatherApp(\"Mobile App\")\n",
    "\n",
    "    weather_station.add_observer(display1)\n",
    "    weather_station.add_observer(display2)\n",
    "    weather_station.add_observer(app1)\n",
    "\n",
    "    # Simulate weather data changes\n",
    "    weather_station.set_weather_data(25.5, 60, 1013.2)\n",
    "    weather_station.set_weather_data(26.0, 58, 1012.8)"
   ]
  },
  {
   "cell_type": "code",
   "execution_count": 6,
   "metadata": {},
   "outputs": [
    {
     "name": "stdout",
     "output_type": "stream",
     "text": [
      "Living Room Display\n",
      " - Temperature: 25.5°C, Humidity: 60%, Pressure: 1013.2hPa\n",
      "Bedroom Display\n",
      " - Temperature: 25.5°C, Humidity: 60%, Pressure: 1013.2hPa\n",
      "Mobile App App - Weather Update\n",
      " - Temperature: 25.5°C, Humidity: 60%, Pressure: 1013.2hPa\n",
      "Living Room Display\n",
      " - Temperature: 26.0°C, Humidity: 58%, Pressure: 1012.8hPa\n",
      "Bedroom Display\n",
      " - Temperature: 26.0°C, Humidity: 58%, Pressure: 1012.8hPa\n",
      "Mobile App App - Weather Update\n",
      " - Temperature: 26.0°C, Humidity: 58%, Pressure: 1012.8hPa\n"
     ]
    }
   ],
   "source": [
    "main()"
   ]
  },
  {
   "cell_type": "code",
   "execution_count": null,
   "metadata": {},
   "outputs": [],
   "source": []
  }
 ],
 "metadata": {
  "kernelspec": {
   "display_name": "misc",
   "language": "python",
   "name": "python3"
  },
  "language_info": {
   "codemirror_mode": {
    "name": "ipython",
    "version": 3
   },
   "file_extension": ".py",
   "mimetype": "text/x-python",
   "name": "python",
   "nbconvert_exporter": "python",
   "pygments_lexer": "ipython3",
   "version": "3.12.8"
  }
 },
 "nbformat": 4,
 "nbformat_minor": 2
}
