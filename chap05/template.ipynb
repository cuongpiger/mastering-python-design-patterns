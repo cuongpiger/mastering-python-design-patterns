{
 "cells": [
  {
   "cell_type": "markdown",
   "metadata": {},
   "source": [
    "# Template pattern\n",
    "- The Template Method Pattern is a behavioral design pattern that defines the skeleton of an algorithm in a method, deferring some steps to subclasses. This allows subclasses to implement certain steps of the algorithm without changing the overall structure.\n",
    "\n",
    "##### When to Use the Template Method Pattern?\n",
    "- When you have a fixed algorithm structure that you want to preserve, but you want to allow subclasses to modify some parts of the algorithm.\n",
    "- When you have several classes with similar behaviors but need to allow specific steps of the behavior to vary.\n",
    "- When you want to avoid duplicating code for common functionality while still allowing for flexibility in some parts of the algorithm."
   ]
  },
  {
   "cell_type": "code",
   "execution_count": 3,
   "metadata": {},
   "outputs": [
    {
     "name": "stdout",
     "output_type": "stream",
     "text": [
      "Requirement already satisfied: cowpy in /home/cuongdm/anaconda3/envs/misc/lib/python3.12/site-packages (1.1.5)\n"
     ]
    }
   ],
   "source": [
    "!pip install cowpy"
   ]
  },
  {
   "cell_type": "code",
   "execution_count": 4,
   "metadata": {},
   "outputs": [],
   "source": [
    "from cowpy import cow"
   ]
  },
  {
   "cell_type": "code",
   "execution_count": 5,
   "metadata": {},
   "outputs": [],
   "source": [
    "def generate_banner(msg, style):\n",
    "    print(\"-- start of banner --\")\n",
    "    print(style(msg))\n",
    "    print(\"-- end of banner --nn\")"
   ]
  },
  {
   "cell_type": "code",
   "execution_count": 6,
   "metadata": {},
   "outputs": [],
   "source": [
    "def dots_style(msg):\n",
    "    msg = msg.capitalize()\n",
    "    ten_dots = \".\" * 10\n",
    "    msg = f\"{ten_dots}{msg}{ten_dots}\"\n",
    "    return msg"
   ]
  },
  {
   "cell_type": "code",
   "execution_count": 7,
   "metadata": {},
   "outputs": [],
   "source": [
    "def admire_style(msg):\n",
    "    msg = msg.upper()\n",
    "    return \"!\".join(msg)"
   ]
  },
  {
   "cell_type": "code",
   "execution_count": 8,
   "metadata": {},
   "outputs": [],
   "source": [
    "def cow_style(msg):\n",
    "    msg = cow.milk_random_cow(msg)\n",
    "    return msg"
   ]
  },
  {
   "cell_type": "code",
   "execution_count": 9,
   "metadata": {},
   "outputs": [],
   "source": [
    "def main():\n",
    "    styles = (dots_style, admire_style, cow_style)\n",
    "    msg = \"happy coding\"\n",
    "    [generate_banner(msg, style) for style in styles]"
   ]
  },
  {
   "cell_type": "code",
   "execution_count": 10,
   "metadata": {},
   "outputs": [
    {
     "name": "stdout",
     "output_type": "stream",
     "text": [
      "-- start of banner --\n",
      "..........Happy coding..........\n",
      "-- end of banner --nn\n",
      "-- start of banner --\n",
      "H!A!P!P!Y! !C!O!D!I!N!G\n",
      "-- end of banner --nn\n",
      "-- start of banner --\n",
      " ______________ \n",
      "< happy coding >\n",
      " -------------- \n",
      "     \\\n",
      "      \\\n",
      "        ,__, |    | \n",
      "        (oo)\\|    |___\n",
      "        (__)\\|    |   )\\_\n",
      "             |    |_w |  \\\n",
      "             |    |  ||   *\n",
      "\n",
      "             Cower....\n",
      "-- end of banner --nn\n"
     ]
    }
   ],
   "source": [
    "main()"
   ]
  },
  {
   "cell_type": "code",
   "execution_count": null,
   "metadata": {},
   "outputs": [],
   "source": []
  }
 ],
 "metadata": {
  "kernelspec": {
   "display_name": "misc",
   "language": "python",
   "name": "python3"
  },
  "language_info": {
   "codemirror_mode": {
    "name": "ipython",
    "version": 3
   },
   "file_extension": ".py",
   "mimetype": "text/x-python",
   "name": "python",
   "nbconvert_exporter": "python",
   "pygments_lexer": "ipython3",
   "version": "3.12.8"
  }
 },
 "nbformat": 4,
 "nbformat_minor": 2
}
