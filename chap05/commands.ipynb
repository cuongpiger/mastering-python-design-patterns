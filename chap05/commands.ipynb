{
 "cells": [
  {
   "cell_type": "markdown",
   "metadata": {},
   "source": [
    "# Commands pattern"
   ]
  },
  {
   "cell_type": "code",
   "execution_count": 1,
   "metadata": {},
   "outputs": [],
   "source": [
    "import logging\n",
    "import os"
   ]
  },
  {
   "cell_type": "code",
   "execution_count": 2,
   "metadata": {},
   "outputs": [],
   "source": [
    "logging.basicConfig(level=logging.DEBUG)"
   ]
  },
  {
   "cell_type": "code",
   "execution_count": 3,
   "metadata": {},
   "outputs": [],
   "source": [
    "class RenameFile:\n",
    "    def __init__(self, src, dest):\n",
    "        self.src = src\n",
    "        self.dest = dest\n",
    "\n",
    "    def execute(self):\n",
    "        logging.info(f\"[renaming '{self.src}' to '{self.dest}']\")\n",
    "        os.rename(self.src, self.dest)\n",
    "\n",
    "    def undo(self):\n",
    "        logging.info(f\"[renaming '{self.dest}' back to '{self.src}']\")\n",
    "        os.rename(self.dest, self.src)"
   ]
  },
  {
   "cell_type": "code",
   "execution_count": 4,
   "metadata": {},
   "outputs": [],
   "source": [
    "class CreateFile:\n",
    "    def __init__(self, path, txt=\"hello world\\n\"):\n",
    "        self.path = path\n",
    "        self.txt = txt\n",
    "\n",
    "    def execute(self):\n",
    "        logging.info(f\"[creating file '{self.path}']\")\n",
    "        with open(self.path, \"w\", encoding=\"utf-8\") as out_file:\n",
    "            out_file.write(self.txt)\n",
    "\n",
    "    def undo(self):\n",
    "        logging.info(f\"deleting file {self.path}\")\n",
    "        os.remove(self.path)"
   ]
  },
  {
   "cell_type": "code",
   "execution_count": 5,
   "metadata": {},
   "outputs": [],
   "source": [
    "class ReadFile:\n",
    "    def __init__(self, path):\n",
    "        self.path = path\n",
    "\n",
    "    def execute(self):\n",
    "        logging.info(f\"[reading file '{self.path}']\")\n",
    "        with open(self.path, \"r\", encoding=\"utf-8\") as in_file:\n",
    "            print(in_file.read(), end=\"\")"
   ]
  },
  {
   "cell_type": "code",
   "execution_count": 6,
   "metadata": {},
   "outputs": [],
   "source": [
    "def main():\n",
    "\n",
    "    orig_name, new_name = \"file1\", \"file2\"\n",
    "\n",
    "    commands = (\n",
    "        CreateFile(orig_name),\n",
    "        ReadFile(orig_name),\n",
    "        RenameFile(orig_name, new_name),\n",
    "    )\n",
    "\n",
    "    for c in commands:\n",
    "        c.execute()\n",
    "\n",
    "    answer = input(\"reverse the executed commands? [y/n] \")\n",
    "\n",
    "    if answer not in \"yY\":\n",
    "        print(f\"the result is {new_name}\")\n",
    "        exit()\n",
    "\n",
    "    for c in reversed(commands):\n",
    "        try:\n",
    "            c.undo()\n",
    "        except AttributeError as e:\n",
    "            logging.error(str(e))"
   ]
  },
  {
   "cell_type": "code",
   "execution_count": 7,
   "metadata": {},
   "outputs": [
    {
     "name": "stderr",
     "output_type": "stream",
     "text": [
      "INFO:root:[creating file 'file1']\n",
      "INFO:root:[reading file 'file1']\n",
      "INFO:root:[renaming 'file1' to 'file2']\n"
     ]
    },
    {
     "name": "stdout",
     "output_type": "stream",
     "text": [
      "hello world\n"
     ]
    },
    {
     "name": "stderr",
     "output_type": "stream",
     "text": [
      "INFO:root:[renaming 'file2' back to 'file1']\n",
      "ERROR:root:'ReadFile' object has no attribute 'undo'\n",
      "INFO:root:deleting file file1\n"
     ]
    }
   ],
   "source": [
    "main()"
   ]
  }
 ],
 "metadata": {
  "kernelspec": {
   "display_name": "misc",
   "language": "python",
   "name": "python3"
  },
  "language_info": {
   "codemirror_mode": {
    "name": "ipython",
    "version": 3
   },
   "file_extension": ".py",
   "mimetype": "text/x-python",
   "name": "python",
   "nbconvert_exporter": "python",
   "pygments_lexer": "ipython3",
   "version": "3.12.8"
  }
 },
 "nbformat": 4,
 "nbformat_minor": 2
}
