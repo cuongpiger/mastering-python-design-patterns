{
 "cells": [
  {
   "cell_type": "markdown",
   "metadata": {},
   "source": [
    "# Memento\n",
    "- The Memento Pattern is a behavioral design pattern that allows an object to save and restore its previous state without violating encapsulation. It is useful for implementing undo/redo functionality in applications.\n",
    "\n",
    "##### When to Use the Memento Pattern?\n",
    "  - When you need to save and restore an object's state (e.g., undo functionality).\n",
    "  - When an object's state changes frequently, and you want to store snapshots of its state.\n",
    "  - When you want to preserve encapsulation by preventing direct access to the object's internal state."
   ]
  },
  {
   "cell_type": "code",
   "execution_count": 1,
   "metadata": {},
   "outputs": [],
   "source": [
    "import pickle"
   ]
  },
  {
   "cell_type": "code",
   "execution_count": 2,
   "metadata": {},
   "outputs": [],
   "source": [
    "class Quote:\n",
    "    def __init__(self, text, author):\n",
    "        self.text = text\n",
    "        self.author = author\n",
    "\n",
    "    def save_state(self):\n",
    "        current_state = pickle.dumps(self.__dict__)\n",
    "\n",
    "        return current_state\n",
    "\n",
    "    def restore_state(self, memento):\n",
    "        previous_state = pickle.loads(memento)\n",
    "\n",
    "        self.__dict__.clear()\n",
    "        self.__dict__.update(previous_state)\n",
    "\n",
    "    def __str__(self):\n",
    "        return f\"{self.text}\\n- By {self.author}.\""
   ]
  },
  {
   "cell_type": "code",
   "execution_count": 3,
   "metadata": {},
   "outputs": [],
   "source": [
    "def main():\n",
    "    print(\"** Quote 1 **\")\n",
    "    q1 = Quote(\n",
    "        \"A room without books is like a body without a soul.\",\n",
    "        \"Unknown author\",\n",
    "    )\n",
    "    print(f\"\\nOriginal version:\\n{q1}\")\n",
    "    q1_mem = q1.save_state()\n",
    "\n",
    "    # Now, we found the author's name\n",
    "    q1.author = \"Marcus Tullius Cicero\"\n",
    "    print(f\"\\nWe found the author, and did an updated:\\n{q1}\")\n",
    "\n",
    "    # Restoring previous state (Undo)\n",
    "    q1.restore_state(q1_mem)\n",
    "    print(f\"\\nWe had to restore the previous version:\\n{q1}\")\n",
    "\n",
    "    print()\n",
    "    print(\"** Quote 2 **\")\n",
    "    text = (\n",
    "        \"To be you in a world that is constantly \\n\"\n",
    "        \"trying to make you be something else is \\n\"\n",
    "        \"the greatest accomplishment.\"\n",
    "    )\n",
    "    q2 = Quote(\n",
    "        text,\n",
    "        \"Ralph Waldo Emerson\",\n",
    "    )\n",
    "    print(f\"\\nOriginal version:\\n{q2}\")\n",
    "    _ = q2.save_state()\n",
    "\n",
    "    # changes to the text\n",
    "    q2.text = (\n",
    "        \"To be yourself in a world that is constantly \\n\"\n",
    "        \"trying to make you something else is the greatest \\n\"\n",
    "        \"accomplishment.\"\n",
    "    )\n",
    "    print(f\"\\nWe fixed the text:\\n{q2}\")\n",
    "    q2_mem2 = q2.save_state()\n",
    "\n",
    "    q2.text = (\n",
    "        \"To be yourself when the world is constantly \\n\"\n",
    "        \"trying to make you something else is the greatest \\n\"\n",
    "        \"accomplishment.\"\n",
    "    )\n",
    "    print(f\"\\nWe fixed the text again:\\n{q2}\")\n",
    "\n",
    "    # Restoring previous state (Undo)\n",
    "    q2.restore_state(q2_mem2)\n",
    "    print(f\"\\nWe restored the 2nd version, the correct one:\\n{q2}\")"
   ]
  },
  {
   "cell_type": "code",
   "execution_count": 4,
   "metadata": {},
   "outputs": [
    {
     "name": "stdout",
     "output_type": "stream",
     "text": [
      "** Quote 1 **\n",
      "\n",
      "Original version:\n",
      "A room without books is like a body without a soul.\n",
      "- By Unknown author.\n",
      "\n",
      "We found the author, and did an updated:\n",
      "A room without books is like a body without a soul.\n",
      "- By Marcus Tullius Cicero.\n",
      "\n",
      "We had to restore the previous version:\n",
      "A room without books is like a body without a soul.\n",
      "- By Unknown author.\n",
      "\n",
      "** Quote 2 **\n",
      "\n",
      "Original version:\n",
      "To be you in a world that is constantly \n",
      "trying to make you be something else is \n",
      "the greatest accomplishment.\n",
      "- By Ralph Waldo Emerson.\n",
      "\n",
      "We fixed the text:\n",
      "To be yourself in a world that is constantly \n",
      "trying to make you something else is the greatest \n",
      "accomplishment.\n",
      "- By Ralph Waldo Emerson.\n",
      "\n",
      "We fixed the text again:\n",
      "To be yourself when the world is constantly \n",
      "trying to make you something else is the greatest \n",
      "accomplishment.\n",
      "- By Ralph Waldo Emerson.\n",
      "\n",
      "We restored the 2nd version, the correct one:\n",
      "To be yourself in a world that is constantly \n",
      "trying to make you something else is the greatest \n",
      "accomplishment.\n",
      "- By Ralph Waldo Emerson.\n"
     ]
    }
   ],
   "source": [
    "main()"
   ]
  },
  {
   "cell_type": "code",
   "execution_count": null,
   "metadata": {},
   "outputs": [],
   "source": []
  }
 ],
 "metadata": {
  "kernelspec": {
   "display_name": "misc",
   "language": "python",
   "name": "python3"
  },
  "language_info": {
   "codemirror_mode": {
    "name": "ipython",
    "version": 3
   },
   "file_extension": ".py",
   "mimetype": "text/x-python",
   "name": "python",
   "nbconvert_exporter": "python",
   "pygments_lexer": "ipython3",
   "version": "3.12.8"
  }
 },
 "nbformat": 4,
 "nbformat_minor": 2
}
