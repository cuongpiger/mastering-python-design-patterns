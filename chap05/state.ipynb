{
 "cells": [
  {
   "cell_type": "markdown",
   "metadata": {},
   "source": [
    "# State pattern"
   ]
  },
  {
   "cell_type": "code",
   "execution_count": 1,
   "metadata": {},
   "outputs": [
    {
     "name": "stdout",
     "output_type": "stream",
     "text": [
      "Requirement already satisfied: state-machine in /home/cuongdm/anaconda3/envs/misc/lib/python3.12/site-packages (0.2.10)\n"
     ]
    }
   ],
   "source": [
    "!pip install state-machine"
   ]
  },
  {
   "cell_type": "code",
   "execution_count": 2,
   "metadata": {},
   "outputs": [],
   "source": [
    "from state_machine import (\n",
    "    Event,\n",
    "    InvalidStateTransition,\n",
    "    State,\n",
    "    acts_as_state_machine,\n",
    "    after,\n",
    "    before,\n",
    ")"
   ]
  },
  {
   "cell_type": "code",
   "execution_count": 3,
   "metadata": {},
   "outputs": [],
   "source": [
    "@acts_as_state_machine\n",
    "class Process:\n",
    "    created = State(initial=True)\n",
    "    waiting = State()\n",
    "    running = State()\n",
    "    terminated = State()\n",
    "    blocked = State()\n",
    "    swapped_out_waiting = State()\n",
    "    swapped_out_blocked = State()\n",
    "\n",
    "    wait = Event(\n",
    "        from_states=(\n",
    "            created,\n",
    "            running,\n",
    "            blocked,\n",
    "            swapped_out_waiting,\n",
    "        ),\n",
    "        to_state=waiting,\n",
    "    )\n",
    "    run = Event(from_states=waiting, to_state=running)\n",
    "    terminate = Event(from_states=running, to_state=terminated)\n",
    "    block = Event(\n",
    "        from_states=(\n",
    "            running,\n",
    "            swapped_out_blocked,\n",
    "        ),\n",
    "        to_state=blocked,\n",
    "    )\n",
    "    swap_wait = Event(\n",
    "        from_states=waiting,\n",
    "        to_state=swapped_out_waiting,\n",
    "    )\n",
    "    swap_block = Event(\n",
    "        from_states=blocked,\n",
    "        to_state=swapped_out_blocked,\n",
    "    )\n",
    "\n",
    "    def __init__(self, name):\n",
    "        self.name = name\n",
    "\n",
    "    @after(\"wait\")\n",
    "    def wait_info(self):\n",
    "        print(f\"{self.name} entered waiting mode\")\n",
    "\n",
    "    @after(\"run\")\n",
    "    def run_info(self):\n",
    "        print(f\"{self.name} is running\")\n",
    "\n",
    "    @before(\"terminate\")\n",
    "    def terminate_info(self):\n",
    "        print(f\"{self.name} terminated\")\n",
    "\n",
    "    @after(\"block\")\n",
    "    def block_info(self):\n",
    "        print(f\"{self.name} is blocked\")\n",
    "\n",
    "    @after(\"swap_wait\")\n",
    "    def swap_wait_info(self):\n",
    "        print(f\"{self.name} is swapped out and waiting\")\n",
    "\n",
    "    @after(\"swap_block\")\n",
    "    def swap_block_info(self):\n",
    "        print(f\"{self.name} is swapped out and blocked\")"
   ]
  },
  {
   "cell_type": "code",
   "execution_count": 4,
   "metadata": {},
   "outputs": [],
   "source": [
    "def transition(proc, event, event_name):\n",
    "    try:\n",
    "        event()\n",
    "    except InvalidStateTransition:\n",
    "        msg = (\n",
    "            f\"Transition of {proc.name} from {proc.current_state} \"\n",
    "            f\"to {event_name} failed\"\n",
    "        )\n",
    "        print(msg)"
   ]
  },
  {
   "cell_type": "code",
   "execution_count": 5,
   "metadata": {},
   "outputs": [],
   "source": [
    "def state_info(proc: Process):\n",
    "    print(f\"state of {proc.name}: {proc.current_state}\")"
   ]
  },
  {
   "cell_type": "code",
   "execution_count": 6,
   "metadata": {},
   "outputs": [],
   "source": [
    "def main():\n",
    "    RUNNING = \"running\"\n",
    "    WAITING = \"waiting\"\n",
    "    BLOCKED = \"blocked\"\n",
    "    TERMINATED = \"terminated\"\n",
    "\n",
    "    p1, p2 = Process(\"process1\"), Process(\"process2\")\n",
    "    [state_info(p) for p in (p1, p2)]\n",
    "\n",
    "    print()\n",
    "    transition(p1, p1.wait, WAITING)\n",
    "    transition(p2, p2.terminate, TERMINATED)\n",
    "    [state_info(p) for p in (p1, p2)]\n",
    "\n",
    "    print()\n",
    "    transition(p1, p1.run, RUNNING)\n",
    "    transition(p2, p2.wait, WAITING)\n",
    "    [state_info(p) for p in (p1, p2)]\n",
    "\n",
    "    print()\n",
    "    transition(p2, p2.run, RUNNING)\n",
    "    [state_info(p) for p in (p1, p2)]\n",
    "\n",
    "    print()\n",
    "    [transition(p, p.block, BLOCKED) for p in (p1, p2)]\n",
    "    [state_info(p) for p in (p1, p2)]\n",
    "\n",
    "    print()\n",
    "    [transition(p, p.terminate, TERMINATED) for p in (p1, p2)]\n",
    "    [state_info(p) for p in (p1, p2)]"
   ]
  },
  {
   "cell_type": "code",
   "execution_count": 7,
   "metadata": {},
   "outputs": [
    {
     "name": "stdout",
     "output_type": "stream",
     "text": [
      "state of process1: created\n",
      "state of process2: created\n",
      "\n",
      "process1 entered waiting mode\n",
      "Transition of process2 from created to terminated failed\n",
      "state of process1: waiting\n",
      "state of process2: created\n",
      "\n",
      "process1 is running\n",
      "process2 entered waiting mode\n",
      "state of process1: running\n",
      "state of process2: waiting\n",
      "\n",
      "process2 is running\n",
      "state of process1: running\n",
      "state of process2: running\n",
      "\n",
      "process1 is blocked\n",
      "process2 is blocked\n",
      "state of process1: blocked\n",
      "state of process2: blocked\n",
      "\n",
      "Transition of process1 from blocked to terminated failed\n",
      "Transition of process2 from blocked to terminated failed\n",
      "state of process1: blocked\n",
      "state of process2: blocked\n"
     ]
    }
   ],
   "source": [
    "main()"
   ]
  },
  {
   "cell_type": "code",
   "execution_count": null,
   "metadata": {},
   "outputs": [],
   "source": []
  }
 ],
 "metadata": {
  "kernelspec": {
   "display_name": "misc",
   "language": "python",
   "name": "python3"
  },
  "language_info": {
   "codemirror_mode": {
    "name": "ipython",
    "version": 3
   },
   "file_extension": ".py",
   "mimetype": "text/x-python",
   "name": "python",
   "nbconvert_exporter": "python",
   "pygments_lexer": "ipython3",
   "version": "3.12.8"
  }
 },
 "nbformat": 4,
 "nbformat_minor": 2
}
