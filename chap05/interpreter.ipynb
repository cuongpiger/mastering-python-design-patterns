{
 "cells": [
  {
   "cell_type": "markdown",
   "metadata": {},
   "source": [
    "# Interpreter pattern\n",
    "- The Interpreter Pattern is a behavioral design pattern used to define a language's grammar and provide an interpreter to process expressions in that language.\n",
    "- Key Idea:\n",
    "  - It defines a grammar for a language and provides an interpreter to interpret sentences in that language.\n",
    "  - It is commonly used in scenarios like expression evaluation, compilers, and rule-based systems.\n",
    "\n",
    "\n",
    "##### When to Use the Interpreter Pattern?\n",
    "  - When you need to interpret a language (e.g., math expressions, SQL-like queries, or boolean logic).\n",
    "  - When the grammar is simple and well-defined.\n",
    "  - When the same operations need to be applied to different types of expressions."
   ]
  },
  {
   "cell_type": "code",
   "execution_count": 1,
   "metadata": {},
   "outputs": [
    {
     "name": "stdout",
     "output_type": "stream",
     "text": [
      "Requirement already satisfied: pyparsing in /home/cuongdm/anaconda3/envs/misc/lib/python3.12/site-packages (3.2.1)\n"
     ]
    }
   ],
   "source": [
    "!pip install pyparsing"
   ]
  },
  {
   "cell_type": "code",
   "execution_count": 2,
   "metadata": {},
   "outputs": [],
   "source": [
    "from pyparsing import Group, OneOrMore, Optional, Suppress, Word, alphanums"
   ]
  },
  {
   "cell_type": "code",
   "execution_count": 3,
   "metadata": {},
   "outputs": [],
   "source": [
    "class Boiler:\n",
    "    def __init__(self):\n",
    "        self.temperature = 83  # in celsius\n",
    "\n",
    "    def __str__(self):\n",
    "        return f\"boiler temperature: {self.temperature}\"\n",
    "\n",
    "    def increase_temperature(self, amount):\n",
    "        print(f\"increasing the boiler's temperature by {amount} degrees\")\n",
    "        self.temperature += amount\n",
    "\n",
    "    def decrease_temperature(self, amount):\n",
    "        print(f\"decreasing the boiler's temperature by {amount} degrees\")\n",
    "        self.temperature -= amount"
   ]
  },
  {
   "cell_type": "code",
   "execution_count": 4,
   "metadata": {},
   "outputs": [],
   "source": [
    "word = Word(alphanums)\n",
    "command = Group(OneOrMore(word))\n",
    "token = Suppress(\"->\")\n",
    "device = Group(OneOrMore(word))\n",
    "argument = Group(OneOrMore(word))\n",
    "event = command + token + device + Optional(token + argument)"
   ]
  },
  {
   "cell_type": "code",
   "execution_count": 5,
   "metadata": {},
   "outputs": [],
   "source": [
    "boiler = Boiler()"
   ]
  },
  {
   "cell_type": "code",
   "execution_count": 6,
   "metadata": {},
   "outputs": [],
   "source": [
    "test = \"increase -> boiler temperature -> 3 degrees\"\n",
    "cmd, dev, arg = event.parseString(test)\n",
    "cmd_str = \" \".join(cmd)\n",
    "dev_str = \" \".join(dev)"
   ]
  },
  {
   "cell_type": "code",
   "execution_count": 7,
   "metadata": {},
   "outputs": [
    {
     "name": "stdout",
     "output_type": "stream",
     "text": [
      "increasing the boiler's temperature by 3 degrees\n",
      "boiler temperature: 86\n"
     ]
    }
   ],
   "source": [
    "if \"increase\" in cmd_str and \"boiler\" in dev_str:\n",
    "    boiler.increase_temperature(int(arg[0]))\n",
    "\n",
    "print(boiler)"
   ]
  },
  {
   "cell_type": "markdown",
   "metadata": {},
   "source": [
    "<hr>"
   ]
  },
  {
   "cell_type": "code",
   "execution_count": 8,
   "metadata": {},
   "outputs": [],
   "source": [
    "from pyparsing import Group, OneOrMore, Optional, Suppress, Word, alphanums"
   ]
  },
  {
   "cell_type": "code",
   "execution_count": 9,
   "metadata": {},
   "outputs": [],
   "source": [
    "class Gate:\n",
    "    def __init__(self):\n",
    "        self.is_open = False\n",
    "\n",
    "    def __str__(self):\n",
    "        return \"open\" if self.is_open else \"closed\"\n",
    "\n",
    "    def open(self):\n",
    "        print(\"opening the gate\")\n",
    "        self.is_open = True\n",
    "\n",
    "    def close(self):\n",
    "        print(\"closing the gate\")\n",
    "        self.is_open = False"
   ]
  },
  {
   "cell_type": "code",
   "execution_count": 10,
   "metadata": {},
   "outputs": [],
   "source": [
    "class Garage:\n",
    "    def __init__(self):\n",
    "        self.is_open = False\n",
    "\n",
    "    def __str__(self):\n",
    "        return \"open\" if self.is_open else \"closed\"\n",
    "\n",
    "    def open(self):\n",
    "        print(\"opening the garage\")\n",
    "        self.is_open = True\n",
    "\n",
    "    def close(self):\n",
    "        print(\"closing the garage\")\n",
    "        self.is_open = False"
   ]
  },
  {
   "cell_type": "code",
   "execution_count": 11,
   "metadata": {},
   "outputs": [],
   "source": [
    "class Aircondition:\n",
    "    def __init__(self):\n",
    "        self.is_on = False\n",
    "\n",
    "    def __str__(self):\n",
    "        return \"on\" if self.is_on else \"off\"\n",
    "\n",
    "    def turn_on(self):\n",
    "        print(\"turning on the air condition\")\n",
    "        self.is_on = True\n",
    "\n",
    "    def turn_off(self):\n",
    "        print(\"turning off the air condition\")\n",
    "        self.is_on = False"
   ]
  },
  {
   "cell_type": "code",
   "execution_count": 12,
   "metadata": {},
   "outputs": [],
   "source": [
    "class Heating:\n",
    "    def __init__(self):\n",
    "        self.is_on = False\n",
    "\n",
    "    def __str__(self):\n",
    "        return \"on\" if self.is_on else \"off\"\n",
    "\n",
    "    def turn_on(self):\n",
    "        print(\"turning on the heating\")\n",
    "        self.is_on = True\n",
    "\n",
    "    def turn_off(self):\n",
    "        print(\"turning off the heating\")\n",
    "        self.is_on = False"
   ]
  },
  {
   "cell_type": "code",
   "execution_count": 13,
   "metadata": {},
   "outputs": [],
   "source": [
    "class Boiler:\n",
    "    def __init__(self):\n",
    "        self.temperature = 83  # in celsius\n",
    "\n",
    "    def __str__(self):\n",
    "        return f\"boiler temperature: {self.temperature}\"\n",
    "\n",
    "    def increase_temperature(self, amount):\n",
    "        print(f\"increasing the boiler's temperature by {amount} degrees\")\n",
    "        self.temperature += amount\n",
    "\n",
    "    def decrease_temperature(self, amount):\n",
    "        print(f\"decreasing the boiler's temperature by {amount} degrees\")\n",
    "        self.temperature -= amount"
   ]
  },
  {
   "cell_type": "code",
   "execution_count": 14,
   "metadata": {},
   "outputs": [],
   "source": [
    "class Fridge:\n",
    "    def __init__(self):\n",
    "        self.temperature = 2  # in celsius\n",
    "\n",
    "    def __str__(self):\n",
    "        return f\"fridge temperature: {self.temperature}\"\n",
    "\n",
    "    def increase_temperature(self, amount):\n",
    "        print(f\"increasing the fridge's temperature by {amount} degrees\")\n",
    "        self.temperature += amount\n",
    "\n",
    "    def decrease_temperature(self, amount):\n",
    "        print(f\"decreasing the fridge's temperature by {amount} degrees\")\n",
    "        self.temperature -= amount"
   ]
  },
  {
   "cell_type": "code",
   "execution_count": 15,
   "metadata": {},
   "outputs": [],
   "source": [
    "def main():\n",
    "    word = Word(alphanums)\n",
    "    command = Group(OneOrMore(word))\n",
    "    token = Suppress(\"->\")\n",
    "    device = Group(OneOrMore(word))\n",
    "    argument = Group(OneOrMore(word))\n",
    "    event = command + token + device + Optional(token + argument)\n",
    "\n",
    "    gate = Gate()\n",
    "    garage = Garage()\n",
    "    airco = Aircondition()\n",
    "    heating = Heating()\n",
    "    boiler = Boiler()\n",
    "    fridge = Fridge()\n",
    "\n",
    "    tests = (\n",
    "        \"open -> gate\",\n",
    "        \"close -> garage\",\n",
    "        \"turn on -> air condition\",\n",
    "        \"turn off -> heating\",\n",
    "        \"increase -> boiler temperature -> 5 degrees\",\n",
    "        \"decrease -> fridge temperature -> 2 degrees\",\n",
    "    )\n",
    "\n",
    "    open_actions = {\n",
    "        \"gate\": gate.open,\n",
    "        \"garage\": garage.open,\n",
    "        \"air condition\": airco.turn_on,\n",
    "        \"heating\": heating.turn_on,\n",
    "        \"boiler temperature\": boiler.increase_temperature,\n",
    "        \"fridge temperature\": fridge.increase_temperature,\n",
    "    }\n",
    "    close_actions = {\n",
    "        \"gate\": gate.close,\n",
    "        \"garage\": garage.close,\n",
    "        \"air condition\": airco.turn_off,\n",
    "        \"heating\": heating.turn_off,\n",
    "        \"boiler temperature\": boiler.decrease_temperature,\n",
    "        \"fridge temperature\": fridge.decrease_temperature,\n",
    "    }\n",
    "\n",
    "    for t in tests:\n",
    "        if len(event.parseString(t)) == 2:\n",
    "            cmd, dev = event.parseString(t)\n",
    "            cmd_str, dev_str = \" \".join(cmd), \" \".join(dev)\n",
    "            if \"open\" in cmd_str or \"turn on\" in cmd_str:\n",
    "                open_actions[dev_str]()\n",
    "            elif \"close\" in cmd_str or \"turn off\" in cmd_str:\n",
    "                close_actions[dev_str]()\n",
    "        elif len(event.parseString(t)) == 3:\n",
    "            cmd, dev, arg = event.parseString(t)\n",
    "            cmd_str = \" \".join(cmd)\n",
    "            dev_str = \" \".join(dev)\n",
    "            arg_str = \" \".join(arg)\n",
    "            num_arg = 0\n",
    "            try:\n",
    "                # extract the numeric part\n",
    "                num_arg = int(arg_str.split()[0])\n",
    "            except ValueError:\n",
    "                print(f\"expected number but got: '{arg_str[0]}'\")\n",
    "            if \"increase\" in cmd_str and num_arg > 0:\n",
    "                open_actions[dev_str](num_arg)\n",
    "            elif \"decrease\" in cmd_str and num_arg > 0:\n",
    "                close_actions[dev_str](num_arg)"
   ]
  },
  {
   "cell_type": "code",
   "execution_count": 16,
   "metadata": {},
   "outputs": [
    {
     "name": "stdout",
     "output_type": "stream",
     "text": [
      "opening the gate\n",
      "closing the garage\n",
      "turning on the air condition\n",
      "turning off the heating\n",
      "increasing the boiler's temperature by 5 degrees\n",
      "decreasing the fridge's temperature by 2 degrees\n"
     ]
    }
   ],
   "source": [
    "main()"
   ]
  },
  {
   "cell_type": "code",
   "execution_count": null,
   "metadata": {},
   "outputs": [],
   "source": []
  }
 ],
 "metadata": {
  "kernelspec": {
   "display_name": "misc",
   "language": "python",
   "name": "python3"
  },
  "language_info": {
   "codemirror_mode": {
    "name": "ipython",
    "version": 3
   },
   "file_extension": ".py",
   "mimetype": "text/x-python",
   "name": "python",
   "nbconvert_exporter": "python",
   "pygments_lexer": "ipython3",
   "version": "3.12.8"
  }
 },
 "nbformat": 4,
 "nbformat_minor": 2
}
