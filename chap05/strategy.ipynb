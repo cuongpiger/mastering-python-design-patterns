{
 "cells": [
  {
   "cell_type": "markdown",
   "metadata": {},
   "source": [
    "# Strategy pattern\n",
    "- The Strategy Pattern is a behavioral design pattern that allows you to define a family of algorithms, encapsulate them, and make them interchangeable at runtime. It helps in selecting an algorithm dynamically without modifying the client code.\n",
    "\n",
    "##### When to Use the Strategy Pattern?\n",
    "  - When you have multiple ways to perform an operation, and you want to switch between them dynamically.\n",
    "  - When you want to avoid conditional statements (if-else or switch) that determine which algorithm to use.\n",
    "  - When different behaviors need to be easily extendable without modifying existing code."
   ]
  },
  {
   "cell_type": "code",
   "execution_count": 1,
   "metadata": {},
   "outputs": [],
   "source": [
    "import time"
   ]
  },
  {
   "cell_type": "code",
   "execution_count": 2,
   "metadata": {},
   "outputs": [],
   "source": [
    "def pairs(seq):\n",
    "    n = len(seq)\n",
    "    for i in range(n):\n",
    "        yield seq[i], seq[(i + 1) % n]"
   ]
  },
  {
   "cell_type": "code",
   "execution_count": 3,
   "metadata": {},
   "outputs": [],
   "source": [
    "SLOW = 3  # in seconds\n",
    "LIMIT = 5  # in characters\n",
    "WARNING = \"too bad, you picked the slow algorithm :(\""
   ]
  },
  {
   "cell_type": "code",
   "execution_count": 4,
   "metadata": {},
   "outputs": [],
   "source": [
    "def allUniqueSort(s):\n",
    "    if len(s) > LIMIT:\n",
    "        print(WARNING)\n",
    "        time.sleep(SLOW)\n",
    "    srtStr = sorted(s)\n",
    "    for c1, c2 in pairs(srtStr):\n",
    "        if c1 == c2:\n",
    "            return False\n",
    "    return True"
   ]
  },
  {
   "cell_type": "code",
   "execution_count": 5,
   "metadata": {},
   "outputs": [],
   "source": [
    "def allUniqueSet(s):\n",
    "    if len(s) < LIMIT:\n",
    "        print(WARNING)\n",
    "        time.sleep(SLOW)\n",
    "\n",
    "    return True if len(set(s)) == len(s) else False"
   ]
  },
  {
   "cell_type": "code",
   "execution_count": 6,
   "metadata": {},
   "outputs": [],
   "source": [
    "def allUnique(word, strategy):\n",
    "    return strategy(word)"
   ]
  },
  {
   "cell_type": "code",
   "execution_count": 7,
   "metadata": {},
   "outputs": [],
   "source": [
    "def main():\n",
    "    WORD_IN_DESC = \"Insert word (type quit to exit)> \"\n",
    "    STRAT_IN_DESC = \"Choose strategy: [1] Use a set, [2] Sort and pair> \"\n",
    "\n",
    "    while True:\n",
    "        word = None\n",
    "        while not word:\n",
    "            word = input(WORD_IN_DESC)\n",
    "\n",
    "            if word == \"quit\":\n",
    "                print(\"bye\")\n",
    "                return\n",
    "\n",
    "            strategy_picked = None\n",
    "            strategies = {\"1\": allUniqueSet, \"2\": allUniqueSort}\n",
    "            while strategy_picked not in strategies.keys():\n",
    "                strategy_picked = input(STRAT_IN_DESC)\n",
    "\n",
    "                try:\n",
    "                    strategy = strategies[strategy_picked]\n",
    "                    result = allUnique(word, strategy)\n",
    "                    print(f\"allUnique({word}): {result}\")\n",
    "                except KeyError:\n",
    "                    print(f\"Incorrect option: {strategy_picked}\")"
   ]
  },
  {
   "cell_type": "code",
   "execution_count": 8,
   "metadata": {},
   "outputs": [
    {
     "name": "stdout",
     "output_type": "stream",
     "text": [
      "allUnique(hello): False\n",
      "allUnique(world): True\n",
      "allUnique(history): True\n",
      "bye\n"
     ]
    }
   ],
   "source": [
    "main()"
   ]
  },
  {
   "cell_type": "code",
   "execution_count": null,
   "metadata": {},
   "outputs": [],
   "source": []
  }
 ],
 "metadata": {
  "kernelspec": {
   "display_name": "misc",
   "language": "python",
   "name": "python3"
  },
  "language_info": {
   "codemirror_mode": {
    "name": "ipython",
    "version": 3
   },
   "file_extension": ".py",
   "mimetype": "text/x-python",
   "name": "python",
   "nbconvert_exporter": "python",
   "pygments_lexer": "ipython3",
   "version": "3.12.8"
  }
 },
 "nbformat": 4,
 "nbformat_minor": 2
}
