{
 "cells": [
  {
   "cell_type": "markdown",
   "metadata": {},
   "source": [
    "# Chain responsibility pattern\n",
    "- The Chain of Responsibility pattern offers an elegant way to handle requests by passing them through a chain of handlers. Each handler in the chain has the autonomy to decide whether it can process the request or if it should delegate it further along the chain. This pattern shines when dealing with operations that involve multiple handlers but don’t necessarily require all of them to be involved."
   ]
  },
  {
   "cell_type": "code",
   "execution_count": 1,
   "metadata": {},
   "outputs": [],
   "source": [
    "class Event:\n",
    "    def __init__(self, name):\n",
    "        self.name = name\n",
    "\n",
    "    def __str__(self):\n",
    "        return self.name"
   ]
  },
  {
   "cell_type": "code",
   "execution_count": 2,
   "metadata": {},
   "outputs": [],
   "source": [
    "class Widget:\n",
    "    def __init__(self, parent=None):\n",
    "        self.parent = parent\n",
    "\n",
    "    def handle(self, event):\n",
    "        handler = f\"handle_{event}\"\n",
    "        if hasattr(self, handler):\n",
    "            method = getattr(self, handler)\n",
    "            method(event)\n",
    "        elif self.parent is not None:\n",
    "            self.parent.handle(event)\n",
    "        elif hasattr(self, \"handle_default\"):\n",
    "            self.handle_default(event)"
   ]
  },
  {
   "cell_type": "code",
   "execution_count": 3,
   "metadata": {},
   "outputs": [],
   "source": [
    "class MainWindow(Widget):\n",
    "    def handle_close(self, event):\n",
    "        print(f\"MainWindow: {event}\")\n",
    "\n",
    "    def handle_default(self, event):\n",
    "        print(f\"MainWindow Default: {event}\")"
   ]
  },
  {
   "cell_type": "code",
   "execution_count": 4,
   "metadata": {},
   "outputs": [],
   "source": [
    "class SendDialog(Widget):\n",
    "    def handle_paint(self, event):\n",
    "        print(f\"SendDialog: {event}\")"
   ]
  },
  {
   "cell_type": "code",
   "execution_count": 5,
   "metadata": {},
   "outputs": [],
   "source": [
    "class MsgText(Widget):\n",
    "    def handle_down(self, event):\n",
    "        print(f\"MsgText: {event}\")"
   ]
  },
  {
   "cell_type": "code",
   "execution_count": 6,
   "metadata": {},
   "outputs": [],
   "source": [
    "def main():\n",
    "    mw = MainWindow()\n",
    "    sd = SendDialog(mw)\n",
    "    msg = MsgText(sd)\n",
    "\n",
    "    for e in (\"down\", \"paint\", \"unhandled\", \"close\"):\n",
    "        evt = Event(e)\n",
    "        print(f\"Sending event -{evt}- to MainWindow\")\n",
    "        mw.handle(evt)\n",
    "        print(f\"Sending event -{evt}- to SendDialog\")\n",
    "        sd.handle(evt)\n",
    "        print(f\"Sending event -{evt}- to MsgText\")\n",
    "        msg.handle(evt)"
   ]
  },
  {
   "cell_type": "code",
   "execution_count": 7,
   "metadata": {},
   "outputs": [
    {
     "name": "stdout",
     "output_type": "stream",
     "text": [
      "Sending event -down- to MainWindow\n",
      "MainWindow Default: down\n",
      "Sending event -down- to SendDialog\n",
      "MainWindow Default: down\n",
      "Sending event -down- to MsgText\n",
      "MsgText: down\n",
      "Sending event -paint- to MainWindow\n",
      "MainWindow Default: paint\n",
      "Sending event -paint- to SendDialog\n",
      "SendDialog: paint\n",
      "Sending event -paint- to MsgText\n",
      "SendDialog: paint\n",
      "Sending event -unhandled- to MainWindow\n",
      "MainWindow Default: unhandled\n",
      "Sending event -unhandled- to SendDialog\n",
      "MainWindow Default: unhandled\n",
      "Sending event -unhandled- to MsgText\n",
      "MainWindow Default: unhandled\n",
      "Sending event -close- to MainWindow\n",
      "MainWindow: close\n",
      "Sending event -close- to SendDialog\n",
      "MainWindow: close\n",
      "Sending event -close- to MsgText\n",
      "MainWindow: close\n"
     ]
    }
   ],
   "source": [
    "main()"
   ]
  },
  {
   "cell_type": "code",
   "execution_count": null,
   "metadata": {},
   "outputs": [],
   "source": []
  }
 ],
 "metadata": {
  "kernelspec": {
   "display_name": "misc",
   "language": "python",
   "name": "python3"
  },
  "language_info": {
   "codemirror_mode": {
    "name": "ipython",
    "version": 3
   },
   "file_extension": ".py",
   "mimetype": "text/x-python",
   "name": "python",
   "nbconvert_exporter": "python",
   "pygments_lexer": "ipython3",
   "version": "3.12.8"
  }
 },
 "nbformat": 4,
 "nbformat_minor": 2
}
