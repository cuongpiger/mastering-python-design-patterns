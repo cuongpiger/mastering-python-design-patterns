{
 "cells": [
  {
   "cell_type": "markdown",
   "metadata": {},
   "source": [
    "# SRP - Single responsibility principle\n",
    "- **A class** SHOULD only have **a single responsibility** (function).\n",
    "- For example, we can completely turn the `save_to_file` function into a method of the `Report` class. But according to the SRP, we should create a  new class called `ReportSaver` and turn this function into a method of this class.\n",
    "- Because later, where there is more logic and functions, the class will become bloated, making it difficult to maintain and change."
   ]
  },
  {
   "cell_type": "code",
   "execution_count": 1,
   "metadata": {},
   "outputs": [],
   "source": [
    "class Report:\n",
    "    def __init__(self, content: str):\n",
    "        self.content: str = content\n",
    "\n",
    "    def generate(self):\n",
    "        print(f\"Report content: {self.content}\")\n",
    "\n",
    "    # DO NOT DO THIS\n",
    "    # def save_to_file(self, filename: str):\n",
    "    #     with open(filename, \"w\") as file:\n",
    "    #         file.write(self.content)"
   ]
  },
  {
   "cell_type": "code",
   "execution_count": 2,
   "metadata": {},
   "outputs": [],
   "source": [
    "class ReportSaver:\n",
    "    def __init__(self, report: Report):\n",
    "        self.report: Report = report\n",
    "\n",
    "    def save_to_file(self, filename: str):\n",
    "        with open(filename, \"w\") as file:\n",
    "            file.write(self.report.content)"
   ]
  },
  {
   "cell_type": "code",
   "execution_count": 3,
   "metadata": {},
   "outputs": [
    {
     "name": "stdout",
     "output_type": "stream",
     "text": [
      "Report content: This is the content.\n"
     ]
    }
   ],
   "source": [
    "report_content = \"This is the content.\"\n",
    "report = Report(report_content)\n",
    "\n",
    "report.generate()\n",
    "\n",
    "report_saver = ReportSaver(report)\n",
    "report_saver.save_to_file(\"report.txt\")"
   ]
  },
  {
   "cell_type": "markdown",
   "metadata": {},
   "source": [
    "# OCP - Open-closed principle\n",
    "- OCP refers to the fact that we SHOULD NOT change the code of an existing class/module because this may affect the correctness of the program.\n",
    "- Instead, we should inherit these classes/modules into larger classes/modules. These new classes/modules ensure the properties and features of the parent class while ensuring that they meet the new properties and features.\n",
    "- For example, here we have a class called `Shape` with only one method called `area`. The classes `Rectangle` and `Circle` inherit this class and override the `area` method."
   ]
  },
  {
   "cell_type": "code",
   "execution_count": 4,
   "metadata": {},
   "outputs": [],
   "source": [
    "import math\n",
    "from typing import Protocol"
   ]
  },
  {
   "cell_type": "code",
   "execution_count": 5,
   "metadata": {},
   "outputs": [],
   "source": [
    "class Shape(Protocol):\n",
    "    def area(self) -> float: ..."
   ]
  },
  {
   "cell_type": "code",
   "execution_count": 6,
   "metadata": {},
   "outputs": [],
   "source": [
    "class Rectangle:\n",
    "    def __init__(self, width: float, height: float):\n",
    "        self.width: float = width\n",
    "        self.height: float = height\n",
    "\n",
    "    def area(self) -> float:\n",
    "        return self.width * self.height"
   ]
  },
  {
   "cell_type": "code",
   "execution_count": 7,
   "metadata": {},
   "outputs": [],
   "source": [
    "class Circle:\n",
    "    def __init__(self, radius: float):\n",
    "        self.radius: float = radius\n",
    "\n",
    "    def area(self) -> float:\n",
    "        return math.pi * (self.radius**2)"
   ]
  },
  {
   "cell_type": "code",
   "execution_count": 8,
   "metadata": {},
   "outputs": [],
   "source": [
    "def calculate_area(shape: Shape) -> float:\n",
    "    return shape.area()"
   ]
  },
  {
   "cell_type": "code",
   "execution_count": 9,
   "metadata": {},
   "outputs": [
    {
     "name": "stdout",
     "output_type": "stream",
     "text": [
      "Rectangle area: 96\n",
      "Circle area: 132.73\n"
     ]
    }
   ],
   "source": [
    "rect = Rectangle(12, 8)\n",
    "rect_area = calculate_area(rect)\n",
    "print(f\"Rectangle area: {rect_area}\")\n",
    "\n",
    "circ = Circle(6.5)\n",
    "circ_area = calculate_area(circ)\n",
    "print(f\"Circle area: {circ_area:.2f}\")"
   ]
  },
  {
   "cell_type": "markdown",
   "metadata": {},
   "source": [
    "# LSP - Liskov substitution principle\n",
    "- LSP in object-oriented programming states that child classes should be related to parent classes.\n",
    "- In object-oriented programming, child classes inherit from parent classes. When overriding methods of parent class, programmers should ensure that the correctness and expected behaviour of the parent class are not misleading.\n",
    "- For example, here we have a class called `Bird` with a method called `move`. The classes `FlyingBird` and `FlightlessBird` inherit this class and override the `move` method. The `FlightlessBird` class override the `move` method with message `I'm walking`. Whereas, the `FlyingBird` class override the `move` method with message `I'm flying`."
   ]
  },
  {
   "cell_type": "code",
   "execution_count": 10,
   "metadata": {},
   "outputs": [],
   "source": [
    "class Bird:\n",
    "    def move(self):\n",
    "        print(\"I'm moving\")"
   ]
  },
  {
   "cell_type": "code",
   "execution_count": 11,
   "metadata": {},
   "outputs": [],
   "source": [
    "class FlyingBird(Bird):\n",
    "    def move(self):\n",
    "        print(\"I'm flying\")"
   ]
  },
  {
   "cell_type": "code",
   "execution_count": 12,
   "metadata": {},
   "outputs": [],
   "source": [
    "class FlightlessBird(Bird):\n",
    "    def move(self):\n",
    "        print(\"I'm walking\")"
   ]
  },
  {
   "cell_type": "code",
   "execution_count": 13,
   "metadata": {},
   "outputs": [],
   "source": [
    "# Function that expects a Bird object\n",
    "def make_bird_move(bird):\n",
    "    bird.move()"
   ]
  },
  {
   "cell_type": "code",
   "execution_count": 14,
   "metadata": {},
   "outputs": [
    {
     "name": "stdout",
     "output_type": "stream",
     "text": [
      "I'm moving\n",
      "I'm flying\n",
      "I'm walking\n"
     ]
    }
   ],
   "source": [
    "generic_bird = Bird()\n",
    "eagle = FlyingBird()\n",
    "penguin = FlightlessBird()\n",
    "\n",
    "make_bird_move(generic_bird)\n",
    "make_bird_move(eagle)\n",
    "make_bird_move(penguin)"
   ]
  },
  {
   "cell_type": "markdown",
   "metadata": {},
   "source": [
    "# ISP - Interface segregation principle\n",
    "- ISP mentions that a class should not implement an interface with too many methods while this class is not used.\n",
    "- Instead, we should separate this large interface into smaller interfaces and allocate functions into this interfaces more specifically.\n",
    "- For example, the functions related to a printing-machine class can be scanned, printed, and faxed. We can create three interfaces `Scanner`, `Printer`, and `Fax`. But not all printing machines have the ability to scan, print, and fax. So we can create a class that implements only the `Printer` interface and another class that implements all three interfaces."
   ]
  },
  {
   "cell_type": "code",
   "execution_count": 15,
   "metadata": {},
   "outputs": [],
   "source": [
    "class Printer(Protocol):\n",
    "    def print_document(self): ...\n",
    "\n",
    "\n",
    "class Scanner(Protocol):\n",
    "    def scan_document(self): ...\n",
    "\n",
    "\n",
    "class Fax(Protocol):\n",
    "    def fax_document(self): ..."
   ]
  },
  {
   "cell_type": "code",
   "execution_count": 16,
   "metadata": {},
   "outputs": [],
   "source": [
    "class AllInOnePrinter:\n",
    "    def print_document(self):\n",
    "        print(\"Printing\")\n",
    "\n",
    "    def scan_document(self):\n",
    "        print(\"Scanning\")\n",
    "\n",
    "    def fax_document(self):\n",
    "        print(\"Faxing\")"
   ]
  },
  {
   "cell_type": "code",
   "execution_count": 17,
   "metadata": {},
   "outputs": [],
   "source": [
    "class SimplePrinter:\n",
    "    def print_document(self):\n",
    "        print(\"Simply Printing\")"
   ]
  },
  {
   "cell_type": "code",
   "execution_count": 18,
   "metadata": {},
   "outputs": [],
   "source": [
    "def do_the_print(printer: Printer):\n",
    "    printer.print_document()"
   ]
  },
  {
   "cell_type": "code",
   "execution_count": 19,
   "metadata": {},
   "outputs": [
    {
     "name": "stdout",
     "output_type": "stream",
     "text": [
      "Scanning\n",
      "Faxing\n",
      "Printing\n",
      "Simply Printing\n"
     ]
    }
   ],
   "source": [
    "all_in_one = AllInOnePrinter()\n",
    "all_in_one.scan_document()\n",
    "all_in_one.fax_document()\n",
    "do_the_print(all_in_one)\n",
    "\n",
    "simple = SimplePrinter()\n",
    "do_the_print(simple)"
   ]
  },
  {
   "cell_type": "markdown",
   "metadata": {},
   "source": [
    "# DIP - Dependency inversion principle\n",
    "- DIP is a principle that emphasizes that high-level modules should only depend on abstractions/interfaces of low-level modules.\n",
    "- For example, the class `Email` implement the `MessageSender` interface. The `MessageSender` interface has a method called `send`. The `Email` class implements the `send` method to send an email. The `Notification` class has a method called `send_message` that accepts an object that implements the `MessageSender` interface. The `Notification` class can send messages via email, SMS, or any other method that implements the `MessageSender` interface."
   ]
  },
  {
   "cell_type": "code",
   "execution_count": 20,
   "metadata": {},
   "outputs": [],
   "source": [
    "class MessageSender(Protocol):\n",
    "    def send(self, message: str): ..."
   ]
  },
  {
   "cell_type": "code",
   "execution_count": 21,
   "metadata": {},
   "outputs": [],
   "source": [
    "class Email:\n",
    "    def send(self, message: str):\n",
    "        print(f\"Sending email: {message}\")"
   ]
  },
  {
   "cell_type": "code",
   "execution_count": 22,
   "metadata": {},
   "outputs": [],
   "source": [
    "class Notification:\n",
    "    def __init__(self, sender: MessageSender):\n",
    "        self.sender: MessageSender = sender\n",
    "\n",
    "    def send(self, message: str):\n",
    "        self.sender.send(message)"
   ]
  },
  {
   "cell_type": "code",
   "execution_count": 23,
   "metadata": {},
   "outputs": [
    {
     "name": "stdout",
     "output_type": "stream",
     "text": [
      "Sending email: This is the message.\n"
     ]
    }
   ],
   "source": [
    "email = Email()\n",
    "notif = Notification(sender=email)\n",
    "notif.send(message=\"This is the message.\")"
   ]
  },
  {
   "cell_type": "code",
   "execution_count": null,
   "metadata": {},
   "outputs": [],
   "source": []
  }
 ],
 "metadata": {
  "kernelspec": {
   "display_name": "misc",
   "language": "python",
   "name": "python3"
  },
  "language_info": {
   "codemirror_mode": {
    "name": "ipython",
    "version": 3
   },
   "file_extension": ".py",
   "mimetype": "text/x-python",
   "name": "python",
   "nbconvert_exporter": "python",
   "pygments_lexer": "ipython3",
   "version": "3.12.8"
  }
 },
 "nbformat": 4,
 "nbformat_minor": 2
}
