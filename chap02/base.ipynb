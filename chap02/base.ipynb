{
 "cells": [
  {
   "cell_type": "markdown",
   "metadata": {},
   "source": [
    "# SRP - Single responsibility principle"
   ]
  },
  {
   "cell_type": "code",
   "execution_count": 1,
   "metadata": {},
   "outputs": [],
   "source": [
    "class Report:\n",
    "    def __init__(self, content: str):\n",
    "        self.content: str = content\n",
    "\n",
    "    def generate(self):\n",
    "        print(f\"Report content: {self.content}\")"
   ]
  },
  {
   "cell_type": "code",
   "execution_count": 2,
   "metadata": {},
   "outputs": [],
   "source": [
    "class ReportSaver:\n",
    "    def __init__(self, report: Report):\n",
    "        self.report: Report = report\n",
    "\n",
    "    def save_to_file(self, filename: str):\n",
    "        with open(filename, \"w\") as file:\n",
    "            file.write(self.report.content)"
   ]
  },
  {
   "cell_type": "code",
   "execution_count": 3,
   "metadata": {},
   "outputs": [
    {
     "name": "stdout",
     "output_type": "stream",
     "text": [
      "Report content: This is the content.\n"
     ]
    }
   ],
   "source": [
    "report_content = \"This is the content.\"\n",
    "report = Report(report_content)\n",
    "\n",
    "report.generate()\n",
    "\n",
    "report_saver = ReportSaver(report)\n",
    "report_saver.save_to_file(\"report.txt\")"
   ]
  },
  {
   "cell_type": "code",
   "execution_count": null,
   "metadata": {},
   "outputs": [],
   "source": []
  }
 ],
 "metadata": {
  "kernelspec": {
   "display_name": "misc",
   "language": "python",
   "name": "python3"
  },
  "language_info": {
   "codemirror_mode": {
    "name": "ipython",
    "version": 3
   },
   "file_extension": ".py",
   "mimetype": "text/x-python",
   "name": "python",
   "nbconvert_exporter": "python",
   "pygments_lexer": "ipython3",
   "version": "3.12.8"
  }
 },
 "nbformat": 4,
 "nbformat_minor": 2
}
