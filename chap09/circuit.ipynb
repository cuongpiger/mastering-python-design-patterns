{
 "cells": [
  {
   "cell_type": "markdown",
   "metadata": {},
   "source": [
    "# The Circuit Breaker pattern"
   ]
  },
  {
   "cell_type": "code",
   "execution_count": 3,
   "metadata": {},
   "outputs": [
    {
     "name": "stdout",
     "output_type": "stream",
     "text": [
      "Requirement already satisfied: pybreaker in /mnt/Exdisk/git-cuongpiger/mastering-python-design-patterns/.conda/lib/python3.11/site-packages (1.2.0)\n"
     ]
    }
   ],
   "source": [
    "!pip install pybreaker"
   ]
  },
  {
   "cell_type": "code",
   "execution_count": 4,
   "metadata": {},
   "outputs": [],
   "source": [
    "import pybreaker\n",
    "from datetime import datetime\n",
    "import random\n",
    "from time import sleep"
   ]
  },
  {
   "cell_type": "code",
   "execution_count": 5,
   "metadata": {},
   "outputs": [],
   "source": [
    "breaker = pybreaker.CircuitBreaker(fail_max=2, reset_timeout=5)"
   ]
  },
  {
   "cell_type": "code",
   "execution_count": 6,
   "metadata": {},
   "outputs": [],
   "source": [
    "@breaker\n",
    "def fragile_function():\n",
    "    if not random.choice([True, False]):\n",
    "        print(\" / OK\", end=\"\")\n",
    "    else:\n",
    "        print(\" / FAIL\", end=\"\")\n",
    "        raise Exception(\"This is a sample Exception\")"
   ]
  },
  {
   "cell_type": "code",
   "execution_count": 7,
   "metadata": {},
   "outputs": [],
   "source": [
    "def main():\n",
    "    while True:\n",
    "        print(datetime.now().strftime(\"%Y-%m-%d %H:%M:%S\"), end=\"\")\n",
    "\n",
    "        try:\n",
    "            fragile_function()\n",
    "        except Exception as e:\n",
    "            print(\" / {} {}\".format(type(e), e), end=\"\")\n",
    "        finally:\n",
    "            print(\"\")\n",
    "            sleep(1)"
   ]
  },
  {
   "cell_type": "code",
   "execution_count": null,
   "metadata": {},
   "outputs": [
    {
     "name": "stdout",
     "output_type": "stream",
     "text": [
      "2025-01-30 16:16:23 / OK\n",
      "2025-01-30 16:16:24 / OK\n",
      "2025-01-30 16:16:25 / OK\n",
      "2025-01-30 16:16:26 / OK\n",
      "2025-01-30 16:16:27 / OK\n",
      "2025-01-30 16:16:28 / OK\n",
      "2025-01-30 16:16:29 / FAIL / <class 'Exception'> This is a sample Exception\n",
      "2025-01-30 16:16:30 / OK\n",
      "2025-01-30 16:16:31 / FAIL / <class 'Exception'> This is a sample Exception\n",
      "2025-01-30 16:16:32 / OK\n",
      "2025-01-30 16:16:33 / OK\n",
      "2025-01-30 16:16:34 / FAIL / <class 'Exception'> This is a sample Exception\n",
      "2025-01-30 16:16:35 / FAIL / <class 'pybreaker.CircuitBreakerError'> Failures threshold reached, circuit breaker opened\n",
      "2025-01-30 16:16:36 / <class 'pybreaker.CircuitBreakerError'> Timeout not elapsed yet, circuit breaker still open\n",
      "2025-01-30 16:16:37 / <class 'pybreaker.CircuitBreakerError'> Timeout not elapsed yet, circuit breaker still open\n",
      "2025-01-30 16:16:38 / <class 'pybreaker.CircuitBreakerError'> Timeout not elapsed yet, circuit breaker still open\n",
      "2025-01-30 16:16:39 / <class 'pybreaker.CircuitBreakerError'> Timeout not elapsed yet, circuit breaker still open\n",
      "2025-01-30 16:16:40 / FAIL / <class 'pybreaker.CircuitBreakerError'> Trial call failed, circuit breaker opened\n",
      "2025-01-30 16:16:41 / <class 'pybreaker.CircuitBreakerError'> Timeout not elapsed yet, circuit breaker still open\n",
      "2025-01-30 16:16:42 / <class 'pybreaker.CircuitBreakerError'> Timeout not elapsed yet, circuit breaker still open\n",
      "2025-01-30 16:16:43 / <class 'pybreaker.CircuitBreakerError'> Timeout not elapsed yet, circuit breaker still open\n",
      "2025-01-30 16:16:44 / <class 'pybreaker.CircuitBreakerError'> Timeout not elapsed yet, circuit breaker still open\n",
      "2025-01-30 16:16:45 / FAIL / <class 'pybreaker.CircuitBreakerError'> Trial call failed, circuit breaker opened\n",
      "2025-01-30 16:16:46 / <class 'pybreaker.CircuitBreakerError'> Timeout not elapsed yet, circuit breaker still open\n",
      "2025-01-30 16:16:47 / <class 'pybreaker.CircuitBreakerError'> Timeout not elapsed yet, circuit breaker still open\n",
      "2025-01-30 16:16:48 / <class 'pybreaker.CircuitBreakerError'> Timeout not elapsed yet, circuit breaker still open\n",
      "2025-01-30 16:16:49 / <class 'pybreaker.CircuitBreakerError'> Timeout not elapsed yet, circuit breaker still open\n",
      "2025-01-30 16:16:50 / OK\n",
      "2025-01-30 16:16:51 / OK\n",
      "2025-01-30 16:16:52 / OK\n",
      "2025-01-30 16:16:53 / FAIL / <class 'Exception'> This is a sample Exception\n",
      "2025-01-30 16:16:54 / OK\n",
      "2025-01-30 16:16:55 / FAIL / <class 'Exception'> This is a sample Exception\n",
      "2025-01-30 16:16:56 / OK\n",
      "2025-01-30 16:16:57 / FAIL / <class 'Exception'> This is a sample Exception\n",
      "2025-01-30 16:16:58 / OK\n",
      "2025-01-30 16:16:59 / FAIL / <class 'Exception'> This is a sample Exception\n",
      "2025-01-30 16:17:00 / FAIL / <class 'pybreaker.CircuitBreakerError'> Failures threshold reached, circuit breaker opened\n",
      "2025-01-30 16:17:01 / <class 'pybreaker.CircuitBreakerError'> Timeout not elapsed yet, circuit breaker still open\n",
      "2025-01-30 16:17:02 / <class 'pybreaker.CircuitBreakerError'> Timeout not elapsed yet, circuit breaker still open\n",
      "2025-01-30 16:17:03 / <class 'pybreaker.CircuitBreakerError'> Timeout not elapsed yet, circuit breaker still open\n"
     ]
    }
   ],
   "source": [
    "main()"
   ]
  },
  {
   "cell_type": "code",
   "execution_count": null,
   "metadata": {},
   "outputs": [],
   "source": []
  }
 ],
 "metadata": {
  "kernelspec": {
   "display_name": "Python 3",
   "language": "python",
   "name": "python3"
  },
  "language_info": {
   "codemirror_mode": {
    "name": "ipython",
    "version": 3
   },
   "file_extension": ".py",
   "mimetype": "text/x-python",
   "name": "python",
   "nbconvert_exporter": "python",
   "pygments_lexer": "ipython3",
   "version": "3.11.11"
  }
 },
 "nbformat": 4,
 "nbformat_minor": 2
}
