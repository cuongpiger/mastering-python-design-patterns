{
 "cells": [
  {
   "cell_type": "markdown",
   "metadata": {},
   "source": [
    "# The Future and Promise pattern"
   ]
  },
  {
   "cell_type": "code",
   "execution_count": 1,
   "metadata": {},
   "outputs": [],
   "source": [
    "from concurrent.futures import ThreadPoolExecutor, as_completed"
   ]
  },
  {
   "cell_type": "code",
   "execution_count": 2,
   "metadata": {},
   "outputs": [],
   "source": [
    "def square(x):\n",
    "    return x * x"
   ]
  },
  {
   "cell_type": "code",
   "execution_count": 3,
   "metadata": {},
   "outputs": [
    {
     "name": "stdout",
     "output_type": "stream",
     "text": [
      "Result: 4\n",
      "Result: 16\n",
      "Result: 9\n"
     ]
    }
   ],
   "source": [
    "with ThreadPoolExecutor() as executor:\n",
    "    # Submit tasks and get Future objects\n",
    "    future1 = executor.submit(square, 2)\n",
    "    future2 = executor.submit(square, 3)\n",
    "    future3 = executor.submit(square, 4)\n",
    "\n",
    "    # Collect completed futures\n",
    "    futures = [future1, future2, future3]\n",
    "\n",
    "    for future in as_completed(futures):\n",
    "        print(f\"Result: {future.result()}\")"
   ]
  },
  {
   "cell_type": "markdown",
   "metadata": {},
   "source": [
    "<hr>"
   ]
  },
  {
   "cell_type": "code",
   "execution_count": 4,
   "metadata": {},
   "outputs": [],
   "source": [
    "import asyncio"
   ]
  },
  {
   "cell_type": "code",
   "execution_count": 8,
   "metadata": {},
   "outputs": [],
   "source": [
    "async def square(x):\n",
    "    # Simulate some IO-bound operation\n",
    "    await asyncio.sleep(1)\n",
    "    return x * x"
   ]
  },
  {
   "cell_type": "code",
   "execution_count": 9,
   "metadata": {},
   "outputs": [],
   "source": [
    "async def main():\n",
    "    # Create Future objects\n",
    "    future1 = asyncio.ensure_future(square(2))\n",
    "    future2 = asyncio.ensure_future(square(3))\n",
    "    future3 = asyncio.ensure_future(square(4))\n",
    "\n",
    "    # Wait for futures to complete and gather results\n",
    "    results = await asyncio.gather(future1, future2, future3)\n",
    "\n",
    "    for result in results:\n",
    "        print(f\"Result: {result}\")"
   ]
  },
  {
   "cell_type": "code",
   "execution_count": 13,
   "metadata": {},
   "outputs": [],
   "source": [
    "# Using this function if you run the script as a standalone program\n",
    "# asyncio.run(main())"
   ]
  },
  {
   "cell_type": "code",
   "execution_count": 14,
   "metadata": {},
   "outputs": [
    {
     "name": "stdout",
     "output_type": "stream",
     "text": [
      "Result: 4\n",
      "Result: 9\n",
      "Result: 16\n"
     ]
    }
   ],
   "source": [
    "# Run this if you run the script in Juptyer notebook\n",
    "await main()"
   ]
  },
  {
   "cell_type": "code",
   "execution_count": null,
   "metadata": {},
   "outputs": [],
   "source": []
  }
 ],
 "metadata": {
  "kernelspec": {
   "display_name": "Python 3",
   "language": "python",
   "name": "python3"
  },
  "language_info": {
   "codemirror_mode": {
    "name": "ipython",
    "version": 3
   },
   "file_extension": ".py",
   "mimetype": "text/x-python",
   "name": "python",
   "nbconvert_exporter": "python",
   "pygments_lexer": "ipython3",
   "version": "3.11.11"
  }
 },
 "nbformat": 4,
 "nbformat_minor": 2
}
