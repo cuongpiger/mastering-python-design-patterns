{
 "cells": [
  {
   "cell_type": "markdown",
   "metadata": {},
   "source": [
    "# The Thread Pool pattern"
   ]
  },
  {
   "cell_type": "code",
   "execution_count": 2,
   "metadata": {},
   "outputs": [],
   "source": [
    "from concurrent.futures import ThreadPoolExecutor\n",
    "import time"
   ]
  },
  {
   "cell_type": "code",
   "execution_count": 3,
   "metadata": {},
   "outputs": [],
   "source": [
    "def task(n):\n",
    "    print(f\"Executing task {n}\")\n",
    "    time.sleep(1)\n",
    "    print(f\"Task {n} completed\")"
   ]
  },
  {
   "cell_type": "code",
   "execution_count": 4,
   "metadata": {},
   "outputs": [
    {
     "name": "stdout",
     "output_type": "stream",
     "text": [
      "Executing task 0\n",
      "Executing task 1\n",
      "Executing task 2\n",
      "Executing task 3\n",
      "Executing task 4\n",
      "Task 0 completed\n",
      "Executing task 5\n",
      "Task 1 completed\n",
      "Executing task 6\n",
      "Task 4 completed\n",
      "Executing task 7\n",
      "Task 2 completed\n",
      "Executing task 8\n",
      "Task 3 completed\n",
      "Executing task 9\n",
      "Task 5 completed\n",
      "Task 6 completed\n",
      "Task 8 completed\n",
      "Task 7 completed\n",
      "Task 9 completed\n"
     ]
    }
   ],
   "source": [
    "with ThreadPoolExecutor(max_workers=5) as executor:\n",
    "    # Submit tasks to the thread pool\n",
    "    for i in range(10):\n",
    "        executor.submit(task, i)"
   ]
  },
  {
   "cell_type": "code",
   "execution_count": null,
   "metadata": {},
   "outputs": [],
   "source": []
  }
 ],
 "metadata": {
  "kernelspec": {
   "display_name": "Python 3",
   "language": "python",
   "name": "python3"
  },
  "language_info": {
   "codemirror_mode": {
    "name": "ipython",
    "version": 3
   },
   "file_extension": ".py",
   "mimetype": "text/x-python",
   "name": "python",
   "nbconvert_exporter": "python",
   "pygments_lexer": "ipython3",
   "version": "3.11.11"
  }
 },
 "nbformat": 4,
 "nbformat_minor": 2
}
