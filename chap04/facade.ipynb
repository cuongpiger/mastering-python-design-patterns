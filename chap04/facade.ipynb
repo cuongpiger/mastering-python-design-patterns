{
 "cells": [
  {
   "cell_type": "markdown",
   "metadata": {},
   "source": [
    "# Facade pattern\n",
    "- The facade design pattern helps us hide the internal complexity of our systems and expose only what is necessary to the client through a simplified interface. In essence, facade is an abstraction layer implemented over an existing complex system.\n",
    "- Let’s take the example of the computer to illustrate things. A computer is a complex machine that depends on several parts to be fully functional. To keep things simple, the word “computer,” in this case, refers to an IBM derivative that uses a von Neumann architecture. Booting a computer is a particularly complex procedure. The CPU, main memory, and hard disk need to be up and running, the boot loader must be loaded from the hard disk to the main memory, the CPU must boot the operating system kernel, and so forth. Instead of exposing all this complexity to the client, we create a facade that encapsulates the whole procedure, making sure that all steps are executed in the right order."
   ]
  },
  {
   "cell_type": "code",
   "execution_count": 1,
   "metadata": {},
   "outputs": [],
   "source": [
    "from abc import ABC, abstractmethod\n",
    "from enum import Enum"
   ]
  },
  {
   "cell_type": "code",
   "execution_count": 2,
   "metadata": {},
   "outputs": [],
   "source": [
    "State = Enum(\n",
    "    \"State\",\n",
    "    \"NEW RUNNING SLEEPING RESTART ZOMBIE\",\n",
    ")"
   ]
  },
  {
   "cell_type": "code",
   "execution_count": 5,
   "metadata": {},
   "outputs": [],
   "source": [
    "class Server(ABC):\n",
    "    @abstractmethod\n",
    "    def __init__(self):\n",
    "        pass\n",
    "\n",
    "    def __str__(self):\n",
    "        return self.name\n",
    "\n",
    "    @abstractmethod\n",
    "    def boot(self):\n",
    "        pass\n",
    "\n",
    "    @abstractmethod\n",
    "    def kill(self, restart=True):\n",
    "        pass"
   ]
  },
  {
   "cell_type": "code",
   "execution_count": 6,
   "metadata": {},
   "outputs": [],
   "source": [
    "class FileServer(Server):\n",
    "    def __init__(self):\n",
    "        \"\"\"actions for initializing the file server\"\"\"\n",
    "        self.name = \"FileServer\"\n",
    "        self.state = State.NEW\n",
    "\n",
    "    def boot(self):\n",
    "        \"\"\"actions for booting the file server\"\"\"\n",
    "        print(f\"booting the {self}\")\n",
    "        self.state = State.RUNNING\n",
    "\n",
    "    def kill(self, restart=True):\n",
    "        \"\"\"actions for killing the file server\"\"\"\n",
    "        print(f\"Killing {self}\")\n",
    "        self.state = State.RESTART if restart else State.ZOMBIE\n",
    "\n",
    "    def create_file(self, user, name, perms):\n",
    "        \"\"\"check validity of permissions, user rights, etc.\"\"\"\n",
    "        msg = (\n",
    "            f\"trying to create file '{name}' \"\n",
    "            f\"for user '{user}' \"\n",
    "            f\"with permissions {perms}\"\n",
    "        )\n",
    "        print(msg)"
   ]
  },
  {
   "cell_type": "code",
   "execution_count": 7,
   "metadata": {},
   "outputs": [],
   "source": [
    "class ProcessServer(Server):\n",
    "    def __init__(self):\n",
    "        \"\"\"actions for initializing the process server\"\"\"\n",
    "        self.name = \"ProcessServer\"\n",
    "        self.state = State.NEW\n",
    "\n",
    "    def boot(self):\n",
    "        \"\"\"actions for booting the process server\"\"\"\n",
    "        print(f\"booting the {self}\")\n",
    "        self.state = State.RUNNING\n",
    "\n",
    "    def kill(self, restart=True):\n",
    "        \"\"\"actions for killing the process server\"\"\"\n",
    "        print(f\"Killing {self}\")\n",
    "        self.state = State.RESTART if restart else State.ZOMBIE\n",
    "\n",
    "    def create_process(self, user, name):\n",
    "        \"\"\"check user rights, generate PID, etc.\"\"\"\n",
    "        msg = f\"trying to create process '{name}' \" f\"for user '{user}'\"\n",
    "        print(msg)"
   ]
  },
  {
   "cell_type": "code",
   "execution_count": 9,
   "metadata": {},
   "outputs": [],
   "source": [
    "class OperatingSystem:\n",
    "    \"\"\"The Facade\"\"\"\n",
    "\n",
    "    def __init__(self):\n",
    "        self.fs = FileServer()\n",
    "        self.ps = ProcessServer()\n",
    "\n",
    "    def start(self):\n",
    "        [i.boot() for i in (self.fs, self.ps)]\n",
    "\n",
    "    def create_file(self, user, name, perms):\n",
    "        return self.fs.create_file(user, name, perms)\n",
    "\n",
    "    def create_process(self, user, name):\n",
    "        return self.ps.create_process(user, name)"
   ]
  },
  {
   "cell_type": "code",
   "execution_count": 10,
   "metadata": {},
   "outputs": [],
   "source": [
    "def main():\n",
    "    os = OperatingSystem()\n",
    "    os.start()\n",
    "    os.create_file(\"foo\", \"hello.txt\", \"-rw-r-r\")\n",
    "    os.create_process(\"bar\", \"ls /tmp\")"
   ]
  },
  {
   "cell_type": "code",
   "execution_count": 11,
   "metadata": {},
   "outputs": [
    {
     "name": "stdout",
     "output_type": "stream",
     "text": [
      "booting the FileServer\n",
      "booting the ProcessServer\n",
      "trying to create file 'hello.txt' for user 'foo' with permissions -rw-r-r\n",
      "trying to create process 'ls /tmp' for user 'bar'\n"
     ]
    }
   ],
   "source": [
    "main()"
   ]
  },
  {
   "cell_type": "code",
   "execution_count": null,
   "metadata": {},
   "outputs": [],
   "source": []
  }
 ],
 "metadata": {
  "kernelspec": {
   "display_name": "misc",
   "language": "python",
   "name": "python3"
  },
  "language_info": {
   "codemirror_mode": {
    "name": "ipython",
    "version": 3
   },
   "file_extension": ".py",
   "mimetype": "text/x-python",
   "name": "python",
   "nbconvert_exporter": "python",
   "pygments_lexer": "ipython3",
   "version": "3.12.8"
  }
 },
 "nbformat": 4,
 "nbformat_minor": 2
}
