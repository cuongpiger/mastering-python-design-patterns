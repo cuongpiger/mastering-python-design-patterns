{
 "cells": [
  {
   "cell_type": "markdown",
   "metadata": {},
   "source": [
    "# Proxy pattern\n",
    "- The proxy design pattern gets its name from the proxy (also known as surrogate) object used to perform an important action before accessing the actual object. There are four well-known types of proxy. They are as follows:"
   ]
  },
  {
   "cell_type": "code",
   "execution_count": 1,
   "metadata": {},
   "outputs": [],
   "source": [
    "class LazyProperty:\n",
    "    def __init__(self, method):\n",
    "        self.method = method\n",
    "        self.method_name = method.__name__\n",
    "        print(f\"function overriden: {self.method}\")\n",
    "        print(f\"function's name: {self.method_name}\")\n",
    "\n",
    "    def __get__(self, obj, cls):\n",
    "        if not obj:\n",
    "            print(\"obj is None\")\n",
    "            return None\n",
    "\n",
    "        print(f\"The object is: {obj}\")\n",
    "        value = self.method(obj)\n",
    "        print(f\"value {value}\")\n",
    "        setattr(obj, self.method_name, value)\n",
    "        return value"
   ]
  },
  {
   "cell_type": "code",
   "execution_count": 2,
   "metadata": {},
   "outputs": [
    {
     "name": "stdout",
     "output_type": "stream",
     "text": [
      "function overriden: <function Test.resource at 0x701b111019e0>\n",
      "function's name: resource\n"
     ]
    }
   ],
   "source": [
    "class Test:\n",
    "    def __init__(self):\n",
    "        self.x = \"foo\"\n",
    "        self.y = \"bar\"\n",
    "        self._resource = None\n",
    "\n",
    "    @LazyProperty\n",
    "    def resource(self):\n",
    "        print(\"initializing self._resource...\")\n",
    "        print(f\"... which is: {self._resource}\")\n",
    "        self._resource = tuple(range(5))  # expensive\n",
    "        return self._resource"
   ]
  },
  {
   "cell_type": "code",
   "execution_count": 3,
   "metadata": {},
   "outputs": [],
   "source": [
    "def main():\n",
    "    t = Test()\n",
    "    print(t.x)\n",
    "    print(t.y)\n",
    "    # do more work...\n",
    "    print(t.resource)\n",
    "    print(t.resource)\n",
    "    print(t.resource)"
   ]
  },
  {
   "cell_type": "code",
   "execution_count": 4,
   "metadata": {},
   "outputs": [
    {
     "name": "stdout",
     "output_type": "stream",
     "text": [
      "foo\n",
      "bar\n",
      "The object is: <__main__.Test object at 0x701b1110c290>\n",
      "initializing self._resource...\n",
      "... which is: None\n",
      "value (0, 1, 2, 3, 4)\n",
      "(0, 1, 2, 3, 4)\n",
      "(0, 1, 2, 3, 4)\n",
      "(0, 1, 2, 3, 4)\n"
     ]
    }
   ],
   "source": [
    "main()"
   ]
  },
  {
   "cell_type": "markdown",
   "metadata": {},
   "source": [
    "<hr>"
   ]
  },
  {
   "cell_type": "code",
   "execution_count": 5,
   "metadata": {},
   "outputs": [],
   "source": [
    "class SensitiveInfo:\n",
    "    def __init__(self):\n",
    "        self.users = [\"nick\", \"tom\", \"ben\", \"mike\"]\n",
    "\n",
    "    def read(self):\n",
    "        nb = len(self.users)\n",
    "        print(f\"There are {nb} users: {' '.join(self.users)}\")\n",
    "\n",
    "    def add(self, user):\n",
    "        self.users.append(user)\n",
    "        print(f\"Added user {user}\")"
   ]
  },
  {
   "cell_type": "code",
   "execution_count": 6,
   "metadata": {},
   "outputs": [],
   "source": [
    "class Info:\n",
    "    \"\"\"protection proxy to SensitiveInfo\"\"\"\n",
    "\n",
    "    def __init__(self):\n",
    "        self.protected = SensitiveInfo()\n",
    "        self.secret = \"0xdeadbeef\"\n",
    "\n",
    "    def read(self):\n",
    "        self.protected.read()\n",
    "\n",
    "    def add(self, user):\n",
    "        sec = input(\"what is the secret? \")\n",
    "        if sec == self.secret:\n",
    "            self.protected.add(user)\n",
    "        else:\n",
    "            print(\"That's wrong!\")"
   ]
  },
  {
   "cell_type": "code",
   "execution_count": 7,
   "metadata": {},
   "outputs": [],
   "source": [
    "def main():\n",
    "    info = Info()\n",
    "    while True:\n",
    "        print(\"1. read list |==| 2. add user |==| 3. quit\")\n",
    "        key = input(\"choose option: \")\n",
    "        if key == \"1\":\n",
    "            info.read()\n",
    "        elif key == \"2\":\n",
    "            name = input(\"choose username: \")\n",
    "            info.add(name)\n",
    "        elif key == \"3\":\n",
    "            break\n",
    "        else:\n",
    "            print(f\"unknown option: {key}\")"
   ]
  },
  {
   "cell_type": "code",
   "execution_count": 8,
   "metadata": {},
   "outputs": [
    {
     "name": "stdout",
     "output_type": "stream",
     "text": [
      "1. read list |==| 2. add user |==| 3. quit\n",
      "unknown option: \n",
      "1. read list |==| 2. add user |==| 3. quit\n",
      "There are 4 users: nick tom ben mike\n",
      "1. read list |==| 2. add user |==| 3. quit\n",
      "That's wrong!\n",
      "1. read list |==| 2. add user |==| 3. quit\n",
      "unknown option: 0xdeadbeef\n",
      "1. read list |==| 2. add user |==| 3. quit\n",
      "There are 4 users: nick tom ben mike\n",
      "1. read list |==| 2. add user |==| 3. quit\n",
      "There are 4 users: nick tom ben mike\n",
      "1. read list |==| 2. add user |==| 3. quit\n",
      "That's wrong!\n",
      "1. read list |==| 2. add user |==| 3. quit\n",
      "unknown option: 0xdeadbeef\n",
      "1. read list |==| 2. add user |==| 3. quit\n"
     ]
    }
   ],
   "source": [
    "main()"
   ]
  },
  {
   "cell_type": "markdown",
   "metadata": {},
   "source": [
    "<hr>"
   ]
  },
  {
   "cell_type": "code",
   "execution_count": 9,
   "metadata": {},
   "outputs": [],
   "source": [
    "from abc import ABC, abstractmethod"
   ]
  },
  {
   "cell_type": "code",
   "execution_count": 10,
   "metadata": {},
   "outputs": [],
   "source": [
    "class RemoteServiceInterface(ABC):\n",
    "    @abstractmethod\n",
    "    def read_file(self, file_name):\n",
    "        pass\n",
    "\n",
    "    @abstractmethod\n",
    "    def write_file(self, file_name, contents):\n",
    "        pass\n",
    "\n",
    "    @abstractmethod\n",
    "    def delete_file(self, file_name):\n",
    "        pass"
   ]
  },
  {
   "cell_type": "code",
   "execution_count": 11,
   "metadata": {},
   "outputs": [],
   "source": [
    "class RemoteService(RemoteServiceInterface):\n",
    "    def read_file(self, file_name):\n",
    "        # Implementation for reading a file from the server\n",
    "        return \"Reading file from remote server\"\n",
    "\n",
    "    def write_file(self, file_name, contents):\n",
    "        # Implementation for writing to a file on the server\n",
    "        return \"Writing to file on remote server\"\n",
    "\n",
    "    def delete_file(self, file_name):\n",
    "        # Implementation for deleting a file from the server\n",
    "        return \"Deleting file from remote server\""
   ]
  },
  {
   "cell_type": "code",
   "execution_count": 12,
   "metadata": {},
   "outputs": [],
   "source": [
    "class ProxyService(RemoteServiceInterface):\n",
    "    def __init__(self):\n",
    "        self.remote_service = RemoteService()\n",
    "\n",
    "    def read_file(self, file_name):\n",
    "        print(\"Proxy: Forwarding read request to RemoteService\")\n",
    "        return self.remote_service.read_file(file_name)\n",
    "\n",
    "    def write_file(self, file_name, contents):\n",
    "        print(\"Proxy: Forwarding write request to RemoteService\")\n",
    "        return self.remote_service.write_file(file_name, contents)\n",
    "\n",
    "    def delete_file(self, file_name):\n",
    "        print(\"Proxy: Forwarding delete request to RemoteService\")\n",
    "        return self.remote_service.delete_file(file_name)"
   ]
  },
  {
   "cell_type": "code",
   "execution_count": 13,
   "metadata": {},
   "outputs": [
    {
     "name": "stdout",
     "output_type": "stream",
     "text": [
      "Proxy: Forwarding read request to RemoteService\n",
      "Reading file from remote server\n"
     ]
    }
   ],
   "source": [
    "proxy = ProxyService()\n",
    "print(proxy.read_file(\"example.txt\"))"
   ]
  },
  {
   "cell_type": "markdown",
   "metadata": {},
   "source": [
    "<hr>"
   ]
  },
  {
   "cell_type": "code",
   "execution_count": 14,
   "metadata": {},
   "outputs": [],
   "source": [
    "from typing import Protocol"
   ]
  },
  {
   "cell_type": "code",
   "execution_count": 15,
   "metadata": {},
   "outputs": [],
   "source": [
    "class DBConnectionInterface(Protocol):\n",
    "    def exec_query(self, query): ..."
   ]
  },
  {
   "cell_type": "code",
   "execution_count": 16,
   "metadata": {},
   "outputs": [],
   "source": [
    "class DBConnection:\n",
    "    def __init__(self):\n",
    "        print(\"DB connection created\")\n",
    "\n",
    "    def exec_query(self, query):\n",
    "        return f\"Executing query: {query}\"\n",
    "\n",
    "    def close(self):\n",
    "        print(\"DB connection closed\")"
   ]
  },
  {
   "cell_type": "code",
   "execution_count": 18,
   "metadata": {},
   "outputs": [],
   "source": [
    "class SmartProxy:\n",
    "    def __init__(self):\n",
    "        self.cnx = None\n",
    "        self.ref_count = 0\n",
    "\n",
    "    def access_resource(self):\n",
    "        if self.cnx is None:\n",
    "            self.cnx = DBConnection()\n",
    "        self.ref_count += 1\n",
    "        print(f\"DB connection now has {self.ref_count} references.\")\n",
    "\n",
    "    def exec_query(self, query):\n",
    "        if self.cnx is None:\n",
    "            # Ensure the connection is created\n",
    "            # if not already\n",
    "            self.access_resource()\n",
    "\n",
    "        result = self.cnx.exec_query(query)\n",
    "        print(result)\n",
    "\n",
    "        # Decrement reference count after\n",
    "        # executing query\n",
    "        self.release_resource()\n",
    "\n",
    "        return result\n",
    "\n",
    "    def release_resource(self):\n",
    "        if self.ref_count > 0:\n",
    "            self.ref_count -= 1\n",
    "            print(\"Reference released...\")\n",
    "            print(f\"{self.ref_count} remaining refs.\")\n",
    "\n",
    "        if self.ref_count == 0 and self.cnx is not None:\n",
    "            self.cnx.close()\n",
    "            self.cnx = None"
   ]
  },
  {
   "cell_type": "code",
   "execution_count": 19,
   "metadata": {},
   "outputs": [
    {
     "name": "stdout",
     "output_type": "stream",
     "text": [
      "DB connection created\n",
      "DB connection now has 1 references.\n",
      "Executing query: SELECT * FROM users\n",
      "Reference released...\n",
      "0 remaining refs.\n",
      "DB connection closed\n",
      "DB connection created\n",
      "DB connection now has 1 references.\n",
      "Executing query: UPDATE users SET name = 'John Doe' WHERE id = 1\n",
      "Reference released...\n",
      "0 remaining refs.\n",
      "DB connection closed\n"
     ]
    },
    {
     "data": {
      "text/plain": [
       "\"Executing query: UPDATE users SET name = 'John Doe' WHERE id = 1\""
      ]
     },
     "execution_count": 19,
     "metadata": {},
     "output_type": "execute_result"
    }
   ],
   "source": [
    "proxy = SmartProxy()\n",
    "proxy.exec_query(\"SELECT * FROM users\")\n",
    "proxy.exec_query(\"UPDATE users SET name = 'John Doe' WHERE id = 1\")"
   ]
  },
  {
   "cell_type": "code",
   "execution_count": null,
   "metadata": {},
   "outputs": [],
   "source": []
  }
 ],
 "metadata": {
  "kernelspec": {
   "display_name": "misc",
   "language": "python",
   "name": "python3"
  },
  "language_info": {
   "codemirror_mode": {
    "name": "ipython",
    "version": 3
   },
   "file_extension": ".py",
   "mimetype": "text/x-python",
   "name": "python",
   "nbconvert_exporter": "python",
   "pygments_lexer": "ipython3",
   "version": "3.12.8"
  }
 },
 "nbformat": 4,
 "nbformat_minor": 2
}
