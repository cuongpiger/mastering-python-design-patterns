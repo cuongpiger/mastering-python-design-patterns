{
 "cells": [
  {
   "cell_type": "markdown",
   "metadata": {},
   "source": [
    "# Adapter pattern\n",
    "- The adapter pattern is a structural design pattern that helps us make two incompatible interfaces compatible. What does that really mean? If we have an old component and we want to use it in a new system, or a new component that we want to use in an old system, the two can rarely communicate without requiring any code changes. But changing the code is not always possible, either because we don’t have access to it, or because it is impractical. In such cases, we can write an extra layer that makes all the required modifications for enabling communication between the two interfaces. This layer is called an adapter."
   ]
  },
  {
   "cell_type": "code",
   "execution_count": 1,
   "metadata": {},
   "outputs": [],
   "source": [
    "class OldPaymentSystem:\n",
    "    def __init__(self, currency):\n",
    "        self.currency = currency\n",
    "\n",
    "    def make_payment(self, amount):\n",
    "        print(f\"[OLD] Pay {amount} {self.currency}\")"
   ]
  },
  {
   "cell_type": "code",
   "execution_count": 2,
   "metadata": {},
   "outputs": [],
   "source": [
    "class NewPaymentGateway:\n",
    "    def __init__(self, currency):\n",
    "        self.currency = currency\n",
    "\n",
    "    def execute_payment(self, amount):\n",
    "        print(f\"Execute payment of {amount} {self.currency}\")"
   ]
  },
  {
   "cell_type": "code",
   "execution_count": 3,
   "metadata": {},
   "outputs": [],
   "source": [
    "class PaymentAdapter:\n",
    "    def __init__(self, system):\n",
    "        self.system = system\n",
    "\n",
    "    def make_payment(self, amount):\n",
    "        self.system.execute_payment(amount)"
   ]
  },
  {
   "cell_type": "code",
   "execution_count": 4,
   "metadata": {},
   "outputs": [],
   "source": [
    "def main():\n",
    "    old_system = OldPaymentSystem(\"euro\")\n",
    "    print(old_system)\n",
    "    new_system = NewPaymentGateway(\"euro\")\n",
    "    print(new_system)\n",
    "\n",
    "    adapter = PaymentAdapter(new_system)\n",
    "    adapter.make_payment(100)"
   ]
  },
  {
   "cell_type": "code",
   "execution_count": 5,
   "metadata": {},
   "outputs": [
    {
     "name": "stdout",
     "output_type": "stream",
     "text": [
      "<__main__.OldPaymentSystem object at 0x7aab3ebe0200>\n",
      "<__main__.NewPaymentGateway object at 0x7aab3ebe02f0>\n",
      "Execute payment of 100 euro\n"
     ]
    }
   ],
   "source": [
    "main()"
   ]
  },
  {
   "cell_type": "markdown",
   "metadata": {},
   "source": [
    "## Adapt several classes into a unified interface"
   ]
  },
  {
   "cell_type": "code",
   "execution_count": 6,
   "metadata": {},
   "outputs": [],
   "source": [
    "class Musician:\n",
    "    def __init__(self, name):\n",
    "        self.name = name\n",
    "\n",
    "    def __str__(self):\n",
    "        return f\"the musician {self.name}\"\n",
    "\n",
    "    def play(self):\n",
    "        return \"plays music\""
   ]
  },
  {
   "cell_type": "code",
   "execution_count": 7,
   "metadata": {},
   "outputs": [],
   "source": [
    "class Dancer:\n",
    "    def __init__(self, name):\n",
    "        self.name = name\n",
    "\n",
    "    def __str__(self):\n",
    "        return f\"the dancer {self.name}\"\n",
    "\n",
    "    def dance(self):\n",
    "        return \"does a dance performance\""
   ]
  },
  {
   "cell_type": "code",
   "execution_count": 8,
   "metadata": {},
   "outputs": [],
   "source": [
    "class Club:\n",
    "    def __init__(self, name):\n",
    "        self.name = name\n",
    "\n",
    "    def __str__(self):\n",
    "        return f\"the club {self.name}\"\n",
    "\n",
    "    def organize_event(self):\n",
    "        return \"hires an artist to perform\""
   ]
  },
  {
   "cell_type": "code",
   "execution_count": 9,
   "metadata": {},
   "outputs": [],
   "source": [
    "class Adapter:\n",
    "    def __init__(self, obj, adapted_methods):\n",
    "        self.obj = obj\n",
    "        self.__dict__.update(adapted_methods)\n",
    "\n",
    "    def __str__(self):\n",
    "        return str(self.obj)"
   ]
  },
  {
   "cell_type": "code",
   "execution_count": 10,
   "metadata": {},
   "outputs": [],
   "source": [
    "def main():\n",
    "    objects = [\n",
    "        Club(\"Jazz Cafe\"),\n",
    "        Musician(\"Roy Ayers\"),\n",
    "        Dancer(\"Shane Sparks\"),\n",
    "    ]\n",
    "\n",
    "    for obj in objects:\n",
    "        if hasattr(obj, \"play\") or hasattr(obj, \"dance\"):\n",
    "            if hasattr(obj, \"play\"):\n",
    "                adapted_methods = dict(organize_event=obj.play)\n",
    "            elif hasattr(obj, \"dance\"):\n",
    "                adapted_methods = dict(organize_event=obj.dance)\n",
    "\n",
    "            # referencing the adapted object here\n",
    "            obj = Adapter(obj, adapted_methods)\n",
    "\n",
    "        print(f\"{obj} {obj.organize_event()}\")"
   ]
  },
  {
   "cell_type": "code",
   "execution_count": 11,
   "metadata": {},
   "outputs": [
    {
     "name": "stdout",
     "output_type": "stream",
     "text": [
      "the club Jazz Cafe hires an artist to perform\n",
      "the musician Roy Ayers plays music\n",
      "the dancer Shane Sparks does a dance performance\n"
     ]
    }
   ],
   "source": [
    "main()"
   ]
  },
  {
   "cell_type": "code",
   "execution_count": null,
   "metadata": {},
   "outputs": [],
   "source": []
  }
 ],
 "metadata": {
  "kernelspec": {
   "display_name": "misc",
   "language": "python",
   "name": "python3"
  },
  "language_info": {
   "codemirror_mode": {
    "name": "ipython",
    "version": 3
   },
   "file_extension": ".py",
   "mimetype": "text/x-python",
   "name": "python",
   "nbconvert_exporter": "python",
   "pygments_lexer": "ipython3",
   "version": "3.12.8"
  }
 },
 "nbformat": 4,
 "nbformat_minor": 2
}
