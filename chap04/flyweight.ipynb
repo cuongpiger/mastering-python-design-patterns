{
 "cells": [
  {
   "cell_type": "markdown",
   "metadata": {},
   "source": [
    "# Flyweight pattern\n",
    "- Whenever we create a new object, extra memory needs to be allocated. Although virtual memory provides us, theoretically, with unlimited memory, the reality is different. If all the physical memory of a system gets exhausted, it will start swapping pages with the secondary storage, usually a hard disk drive (HDD), which, in most cases, is unacceptable due to the performance differences between the main memory and HDD. Solid-state drives (SSDs) generally have better performance than HDDs, but not everybody is expected to use SSDs. So, SSDs are not going to totally replace HDDs anytime soon.\n",
    "- Apart from memory usage, performance is also a consideration. Graphics software, including computer games, should be able to render 3-D information (for example, a forest with thousands of trees, a village full of soldiers, or an urban area with a lot of cars) extremely quickly. If each object in a 3-D terrain is created individually and no data sharing is used, the performance will be prohibitive.\n",
    "- As software engineers, we should solve software problems by writing better software, instead of forcing the customer to buy extra or better hardware. The flyweight design pattern is a technique used to minimize memory usage and improve performance by introducing data sharing between similar objects. A flyweight is a shared object that contains state-independent, immutable (also known as intrinsic) data. The state-dependent, mutable (also known as extrinsic) data should not be part of flyweight because this is information that cannot be shared, since it differs per object. If flyweight needs extrinsic data, it should be provided explicitly by the client code."
   ]
  },
  {
   "cell_type": "code",
   "execution_count": 71,
   "metadata": {},
   "outputs": [],
   "source": [
    "import random\n",
    "from enum import Enum"
   ]
  },
  {
   "cell_type": "code",
   "execution_count": 72,
   "metadata": {},
   "outputs": [],
   "source": [
    "CarType = Enum(\"CarType\", \"SUBCOMPACT COMPACT SUV\")"
   ]
  },
  {
   "cell_type": "code",
   "execution_count": 73,
   "metadata": {},
   "outputs": [],
   "source": [
    "class Car:\n",
    "    pool = dict()\n",
    "\n",
    "    def __new__(cls, car_type):\n",
    "        obj = cls.pool.get(car_type, None)\n",
    "        if not obj:\n",
    "            obj = object.__new__(cls)\n",
    "            cls.pool[car_type] = obj\n",
    "            obj.car_type = car_type\n",
    "        return obj\n",
    "\n",
    "    def render(self, color, x, y):\n",
    "        type = self.car_type\n",
    "        msg = f\"render a {color} {type.name} car at ({x}, {y})\"\n",
    "        print(msg)"
   ]
  },
  {
   "cell_type": "code",
   "execution_count": 74,
   "metadata": {},
   "outputs": [],
   "source": [
    "def main():\n",
    "    rnd = random.Random()\n",
    "    colors = [\n",
    "        \"white\",\n",
    "        \"black\",\n",
    "        \"silver\",\n",
    "        \"gray\",\n",
    "        \"red\",\n",
    "        \"blue\",\n",
    "        \"brown\",\n",
    "        \"beige\",\n",
    "        \"yellow\",\n",
    "        \"green\",\n",
    "    ]\n",
    "    min_point, max_point = 0, 100\n",
    "    car_counter = 0\n",
    "\n",
    "    for _ in range(10):\n",
    "        c1 = Car(CarType.SUBCOMPACT)\n",
    "        c1.render(\n",
    "            random.choice(colors),\n",
    "            rnd.randint(min_point, max_point),\n",
    "            rnd.randint(min_point, max_point),\n",
    "        )\n",
    "        car_counter += 1\n",
    "\n",
    "    for _ in range(3):\n",
    "        c2 = Car(CarType.COMPACT)\n",
    "        c2.render(\n",
    "            random.choice(colors),\n",
    "            rnd.randint(min_point, max_point),\n",
    "            rnd.randint(min_point, max_point),\n",
    "        )\n",
    "        car_counter += 1\n",
    "\n",
    "    for _ in range(5):\n",
    "        c3 = Car(CarType.SUV)\n",
    "        c3.render(\n",
    "            random.choice(colors),\n",
    "            rnd.randint(min_point, max_point),\n",
    "            rnd.randint(min_point, max_point),\n",
    "        )\n",
    "        car_counter += 1\n",
    "\n",
    "    print(f\"cars rendered: {car_counter}\")\n",
    "    print(f\"cars actually created: {len(Car.pool)}\")\n",
    "\n",
    "    c4 = Car(CarType.SUBCOMPACT)\n",
    "    c5 = Car(CarType.SUBCOMPACT)\n",
    "    c6 = Car(CarType.SUV)\n",
    "    print(f\"{id(c4)} == {id(c5)}? {id(c4) == id(c5)}\")\n",
    "    print(f\"{id(c5)} == {id(c6)}? {id(c5) == id(c6)}\")"
   ]
  },
  {
   "cell_type": "code",
   "execution_count": 75,
   "metadata": {},
   "outputs": [
    {
     "name": "stdout",
     "output_type": "stream",
     "text": [
      "render a green SUBCOMPACT car at (39, 52)\n",
      "render a green SUBCOMPACT car at (46, 76)\n",
      "render a silver SUBCOMPACT car at (18, 64)\n",
      "render a silver SUBCOMPACT car at (14, 86)\n",
      "render a brown SUBCOMPACT car at (58, 22)\n",
      "render a red SUBCOMPACT car at (95, 82)\n",
      "render a white SUBCOMPACT car at (93, 73)\n",
      "render a beige SUBCOMPACT car at (56, 89)\n",
      "render a black SUBCOMPACT car at (68, 63)\n",
      "render a green SUBCOMPACT car at (79, 77)\n",
      "render a gray COMPACT car at (35, 51)\n",
      "render a brown COMPACT car at (81, 23)\n",
      "render a green COMPACT car at (9, 20)\n",
      "render a black SUV car at (99, 48)\n",
      "render a silver SUV car at (76, 10)\n",
      "render a brown SUV car at (82, 56)\n",
      "render a yellow SUV car at (34, 5)\n",
      "render a silver SUV car at (33, 82)\n",
      "cars rendered: 18\n",
      "cars actually created: 3\n",
      "139629899199600 == 139629899199600? True\n",
      "139629899199600 == 139629864925088? False\n"
     ]
    }
   ],
   "source": [
    "main()"
   ]
  }
 ],
 "metadata": {
  "kernelspec": {
   "display_name": "misc",
   "language": "python",
   "name": "python3"
  },
  "language_info": {
   "codemirror_mode": {
    "name": "ipython",
    "version": 3
   },
   "file_extension": ".py",
   "mimetype": "text/x-python",
   "name": "python",
   "nbconvert_exporter": "python",
   "pygments_lexer": "ipython3",
   "version": "3.12.8"
  }
 },
 "nbformat": 4,
 "nbformat_minor": 2
}
