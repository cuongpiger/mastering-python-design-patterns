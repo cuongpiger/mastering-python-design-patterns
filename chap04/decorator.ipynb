{
 "cells": [
  {
   "cell_type": "markdown",
   "metadata": {},
   "source": [
    "# Decorator pattern\n",
    "- A second interesting structural pattern to learn about is the decorator pattern, which allows a programmer to add responsibilities to an object dynamically, and in a transparent manner (without affecting other objects)."
   ]
  },
  {
   "cell_type": "code",
   "execution_count": 1,
   "metadata": {},
   "outputs": [],
   "source": [
    "import functools"
   ]
  },
  {
   "cell_type": "code",
   "execution_count": 2,
   "metadata": {},
   "outputs": [],
   "source": [
    "def memoize(func):\n",
    "    cache = {}\n",
    "\n",
    "    @functools.wraps(func)\n",
    "    def memoizer(*args):\n",
    "        if args not in cache:\n",
    "            cache[args] = func(*args)\n",
    "        return cache[args]\n",
    "\n",
    "    return memoizer"
   ]
  },
  {
   "cell_type": "code",
   "execution_count": 3,
   "metadata": {},
   "outputs": [],
   "source": [
    "@memoize\n",
    "def number_sum(n):\n",
    "    \"\"\"Returns the sum of the first n numbers\"\"\"\n",
    "    if n == 0:\n",
    "        return 0\n",
    "    else:\n",
    "        return n + number_sum(n - 1)"
   ]
  },
  {
   "cell_type": "code",
   "execution_count": 4,
   "metadata": {},
   "outputs": [],
   "source": [
    "@memoize\n",
    "def fibonacci(n):\n",
    "    \"\"\"Returns the suite of Fibonacci numbers\"\"\"\n",
    "    if n in (0, 1):\n",
    "        return n\n",
    "    else:\n",
    "        return fibonacci(n - 1) + fibonacci(n - 2)"
   ]
  },
  {
   "cell_type": "code",
   "execution_count": 5,
   "metadata": {},
   "outputs": [],
   "source": [
    "def main():\n",
    "    from timeit import Timer\n",
    "\n",
    "    to_execute = [\n",
    "        (\n",
    "            number_sum,\n",
    "            Timer(\n",
    "                \"number_sum(300)\",\n",
    "                \"from __main__ import number_sum\",\n",
    "            ),\n",
    "        ),\n",
    "        (\n",
    "            fibonacci,\n",
    "            Timer(\n",
    "                \"fibonacci(100)\",\n",
    "                \"from __main__ import fibonacci\",\n",
    "            ),\n",
    "        ),\n",
    "    ]\n",
    "\n",
    "    for item in to_execute:\n",
    "        func = item[0]\n",
    "        print(f'Function \"{func.__name__}\": {func.__doc__}')\n",
    "        t = item[1]\n",
    "        print(f\"Time: {t.timeit()}\")\n",
    "        print()"
   ]
  },
  {
   "cell_type": "code",
   "execution_count": 6,
   "metadata": {},
   "outputs": [
    {
     "name": "stdout",
     "output_type": "stream",
     "text": [
      "Function \"number_sum\": Returns the sum of the first n numbers\n",
      "Time: 0.050052113001584075\n",
      "\n",
      "Function \"fibonacci\": Returns the suite of Fibonacci numbers\n",
      "Time: 0.04732961300032912\n",
      "\n"
     ]
    }
   ],
   "source": [
    "main()"
   ]
  },
  {
   "cell_type": "code",
   "execution_count": null,
   "metadata": {},
   "outputs": [],
   "source": []
  }
 ],
 "metadata": {
  "kernelspec": {
   "display_name": "misc",
   "language": "python",
   "name": "python3"
  },
  "language_info": {
   "codemirror_mode": {
    "name": "ipython",
    "version": 3
   },
   "file_extension": ".py",
   "mimetype": "text/x-python",
   "name": "python",
   "nbconvert_exporter": "python",
   "pygments_lexer": "ipython3",
   "version": "3.12.8"
  }
 },
 "nbformat": 4,
 "nbformat_minor": 2
}
