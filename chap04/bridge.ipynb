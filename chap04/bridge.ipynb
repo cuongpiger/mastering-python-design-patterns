{
 "cells": [
  {
   "cell_type": "markdown",
   "metadata": {},
   "source": [
    "# Bridge pattern\n",
    "- While the adapter pattern is used later to make unrelated classes work together, as we saw in the implementation example we discussed earlier in the section on The adapter pattern, the bridge pattern is designed up-front to decouple an implementation from its abstraction, as we are going to see."
   ]
  },
  {
   "cell_type": "code",
   "execution_count": 1,
   "metadata": {},
   "outputs": [],
   "source": [
    "import os\n",
    "import urllib.request\n",
    "from typing import Protocol"
   ]
  },
  {
   "cell_type": "code",
   "execution_count": 2,
   "metadata": {},
   "outputs": [],
   "source": [
    "class ResourceContentFetcher(Protocol):\n",
    "    \"\"\"\n",
    "    Define the interface (Implementor) for implementation\n",
    "    classes that help fetch content.\n",
    "    \"\"\"\n",
    "\n",
    "    def fetch(self, path: str) -> str: ..."
   ]
  },
  {
   "cell_type": "code",
   "execution_count": 3,
   "metadata": {},
   "outputs": [],
   "source": [
    "class ResourceContent:\n",
    "    \"\"\"\n",
    "    Define the abstraction's interface.\n",
    "    Maintain a reference to an object which represents the Implementor.\n",
    "    \"\"\"\n",
    "\n",
    "    def __init__(self, imp: ResourceContentFetcher):\n",
    "        self._imp = imp\n",
    "\n",
    "    def get_content(self, path):\n",
    "        return self._imp.fetch(path)"
   ]
  },
  {
   "cell_type": "code",
   "execution_count": 4,
   "metadata": {},
   "outputs": [],
   "source": [
    "class URLFetcher:\n",
    "    \"\"\"\n",
    "    Implement the Implementor interface and define its concrete\n",
    "    implementation.\n",
    "    \"\"\"\n",
    "\n",
    "    def fetch(self, path):\n",
    "        res = \"\"\n",
    "        req = urllib.request.Request(path)\n",
    "        with urllib.request.urlopen(req) as response:\n",
    "            if response.code == 200:\n",
    "                res = response.read()\n",
    "        return res"
   ]
  },
  {
   "cell_type": "code",
   "execution_count": 5,
   "metadata": {},
   "outputs": [],
   "source": [
    "class LocalFileFetcher:\n",
    "    \"\"\"\n",
    "    Implement the Implementor interface and define its concrete\n",
    "    implementation.\n",
    "    \"\"\"\n",
    "\n",
    "    def fetch(self, path):\n",
    "        with open(path) as f:\n",
    "            res = f.read()\n",
    "        return res"
   ]
  },
  {
   "cell_type": "code",
   "execution_count": 6,
   "metadata": {},
   "outputs": [],
   "source": [
    "def main():\n",
    "    url_fetcher = URLFetcher()\n",
    "    rc = ResourceContent(url_fetcher)\n",
    "    res = rc.get_content(\"http://python.org\")\n",
    "    print(f\"Fetched content with {len(res)} characters\")\n",
    "\n",
    "    localfs_fetcher = LocalFileFetcher()\n",
    "    rc = ResourceContent(localfs_fetcher)\n",
    "    pathname = os.path.abspath(os.path.realpath(\"__file__\"))\n",
    "    dir_path = os.path.split(pathname)[0]\n",
    "    path = os.path.join(dir_path, \"file.txt\")\n",
    "    res = rc.get_content(path)\n",
    "    print(f\"Fetched content with {len(res)} characters\")"
   ]
  },
  {
   "cell_type": "code",
   "execution_count": 7,
   "metadata": {},
   "outputs": [
    {
     "name": "stdout",
     "output_type": "stream",
     "text": [
      "Fetched content with 50372 characters\n",
      "Fetched content with 1327 characters\n"
     ]
    }
   ],
   "source": [
    "main()"
   ]
  },
  {
   "cell_type": "code",
   "execution_count": null,
   "metadata": {},
   "outputs": [],
   "source": []
  }
 ],
 "metadata": {
  "kernelspec": {
   "display_name": "misc",
   "language": "python",
   "name": "python3"
  },
  "language_info": {
   "codemirror_mode": {
    "name": "ipython",
    "version": 3
   },
   "file_extension": ".py",
   "mimetype": "text/x-python",
   "name": "python",
   "nbconvert_exporter": "python",
   "pygments_lexer": "ipython3",
   "version": "3.12.8"
  }
 },
 "nbformat": 4,
 "nbformat_minor": 2
}
