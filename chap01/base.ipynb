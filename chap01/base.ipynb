{
 "cells": [
  {
   "cell_type": "markdown",
   "metadata": {},
   "source": [
    "# Encapsulate\n",
    "- One of the most common challenges in software development is dealing with change. Requirements evolve, technologies advance, and user needs also change. Therefore, it is crucial to write code that can adapt without causing a ripple effect of modifications throughout your program or application. This is where the principle of Encapsulate What Varies comes into play.\n",
    "\n",
    "##### What does it mean?\n",
    "- The idea behind this principle is straightforward: isolate the parts of your code that are most likely to change and encapsulate them. By doing so, you create a protective barrier that shields the rest of your code from these elements that are subject to change. This encapsulation allows you to make changes to one part of your system without affecting others."
   ]
  },
  {
   "cell_type": "code",
   "execution_count": 1,
   "metadata": {},
   "outputs": [],
   "source": [
    "class PaymentBase:\n",
    "    def __init__(self, amount: int):\n",
    "        self.amount: int = amount\n",
    "\n",
    "    def process_payment(self):\n",
    "        pass"
   ]
  },
  {
   "cell_type": "code",
   "execution_count": 2,
   "metadata": {},
   "outputs": [],
   "source": [
    "class CreditCard(PaymentBase):\n",
    "    def process_payment(self):\n",
    "        msg = f\"Credit card payment: {self.amount}\"\n",
    "        print(msg)"
   ]
  },
  {
   "cell_type": "code",
   "execution_count": 3,
   "metadata": {},
   "outputs": [],
   "source": [
    "class PayPal(PaymentBase):\n",
    "    def process_payment(self):\n",
    "        msg = f\"PayPal payment: {self.amount}\"\n",
    "        print(msg)"
   ]
  },
  {
   "cell_type": "code",
   "execution_count": 4,
   "metadata": {},
   "outputs": [
    {
     "name": "stdout",
     "output_type": "stream",
     "text": [
      "Credit card payment: 100\n",
      "PayPal payment: 200\n"
     ]
    }
   ],
   "source": [
    "payments = [CreditCard(100), PayPal(200)]\n",
    "for payment in payments:\n",
    "    payment.process_payment()"
   ]
  },
  {
   "cell_type": "markdown",
   "metadata": {},
   "source": [
    "# Encapsulating using a property"
   ]
  },
  {
   "cell_type": "code",
   "execution_count": 5,
   "metadata": {},
   "outputs": [],
   "source": [
    "class Circle:\n",
    "    def __init__(self, radius: int):\n",
    "        self._radius: int = radius\n",
    "\n",
    "    @property\n",
    "    def radius(self):\n",
    "        return self._radius\n",
    "\n",
    "    @radius.setter\n",
    "    def radius(self, value: int):\n",
    "        if value < 0:\n",
    "            raise ValueError(\"Radius cannot be negative!\")\n",
    "        self._radius = value"
   ]
  },
  {
   "cell_type": "code",
   "execution_count": 6,
   "metadata": {},
   "outputs": [
    {
     "name": "stdout",
     "output_type": "stream",
     "text": [
      "Initial radius: 10\n",
      "New radius: 15\n"
     ]
    }
   ],
   "source": [
    "circle = Circle(10)\n",
    "print(f\"Initial radius: {circle.radius}\")\n",
    "\n",
    "circle.radius = 15\n",
    "print(f\"New radius: {circle.radius}\")"
   ]
  },
  {
   "cell_type": "markdown",
   "metadata": {},
   "source": [
    "# Composition\n",
    "- In OOP, it's tempting to create complex hierarchies of classes through inheritance. While inheritance has its merits, it can lead to tightly coupled code that is hard to maintain and extend. This is where the principle of Favor Composition Over Inheritance comes into the picture.\n",
    "\n",
    "##### What does it mean?\n",
    "- This principle advises that you should prefer composing objects from simpler parts to inheriting functionalities from a base class. In other words, build complex objects by combining simpler ones."
   ]
  },
  {
   "cell_type": "code",
   "execution_count": 7,
   "metadata": {},
   "outputs": [],
   "source": [
    "class Engine:\n",
    "    def start(self):\n",
    "        print(\"Engine started\")\n",
    "\n",
    "\n",
    "class Car:\n",
    "    def __init__(self):\n",
    "        self.engine = Engine()\n",
    "\n",
    "    def start(self):\n",
    "        self.engine.start()\n",
    "        print(\"Car started\")"
   ]
  },
  {
   "cell_type": "code",
   "execution_count": 8,
   "metadata": {},
   "outputs": [
    {
     "name": "stdout",
     "output_type": "stream",
     "text": [
      "Engine started\n",
      "Car started\n"
     ]
    }
   ],
   "source": [
    "my_car = Car()\n",
    "my_car.start()"
   ]
  },
  {
   "cell_type": "markdown",
   "metadata": {},
   "source": [
    "# Abstractclass\n",
    "- In software design, it’s easy to get caught up in the specifics of how a feature is implemented. However, focusing too much on implementation details can lead to code that is tightly coupled and difficult to modify. The principle of Program to Interfaces, Not Implementations offers a solution to this problem.\n",
    "\n",
    "##### What does it mean?\n",
    "- An interface defines a contract for classes, specifying a set of methods that must be implemented.\n",
    "- This principle encourages you to code against an interface rather than a concrete class. By doing so, you untie your code from the specific classes that provide the required behavior, making it easier to swap or extend implementations without affecting the rest of the system."
   ]
  },
  {
   "cell_type": "code",
   "execution_count": 9,
   "metadata": {},
   "outputs": [],
   "source": [
    "from abc import ABC, abstractmethod"
   ]
  },
  {
   "cell_type": "code",
   "execution_count": 10,
   "metadata": {},
   "outputs": [],
   "source": [
    "class MyInterface(ABC):\n",
    "    @abstractmethod\n",
    "    def do_something(self, param: str):\n",
    "        pass"
   ]
  },
  {
   "cell_type": "code",
   "execution_count": 11,
   "metadata": {},
   "outputs": [],
   "source": [
    "class MyClass(MyInterface):\n",
    "    def do_something(self, param: str):\n",
    "        print(f\"Doing something with: {param}\")"
   ]
  },
  {
   "cell_type": "code",
   "execution_count": 12,
   "metadata": {},
   "outputs": [
    {
     "name": "stdout",
     "output_type": "stream",
     "text": [
      "Doing something with: Cuong. Duong Manh\n"
     ]
    }
   ],
   "source": [
    "MyClass().do_something(\"Cuong. Duong Manh\")"
   ]
  },
  {
   "cell_type": "markdown",
   "metadata": {},
   "source": [
    "# Interfaces"
   ]
  },
  {
   "cell_type": "code",
   "execution_count": 13,
   "metadata": {},
   "outputs": [],
   "source": [
    "class Logger(ABC):\n",
    "    @abstractmethod\n",
    "    def log(self, message: str):\n",
    "        pass"
   ]
  },
  {
   "cell_type": "code",
   "execution_count": 14,
   "metadata": {},
   "outputs": [],
   "source": [
    "class ConsoleLogger(Logger):\n",
    "    def log(self, message: str):\n",
    "        print(f\"Console: {message}\")"
   ]
  },
  {
   "cell_type": "code",
   "execution_count": 15,
   "metadata": {},
   "outputs": [],
   "source": [
    "class FileLogger(Logger):\n",
    "    def log(self, message: str):\n",
    "        with open(\"log.txt\", \"a\") as f:\n",
    "            f.write(f\"File: {message}\\n\")"
   ]
  },
  {
   "cell_type": "code",
   "execution_count": 16,
   "metadata": {},
   "outputs": [],
   "source": [
    "def log_message(logger: Logger, message: str):\n",
    "    logger.log(message)"
   ]
  },
  {
   "cell_type": "code",
   "execution_count": 17,
   "metadata": {},
   "outputs": [
    {
     "name": "stdout",
     "output_type": "stream",
     "text": [
      "Console: A console log.\n"
     ]
    }
   ],
   "source": [
    "log_message(ConsoleLogger(), \"A console log.\")\n",
    "log_message(FileLogger(), \"A file log.\")"
   ]
  },
  {
   "cell_type": "markdown",
   "metadata": {},
   "source": [
    "# Interfaces Bis"
   ]
  },
  {
   "cell_type": "code",
   "execution_count": 18,
   "metadata": {},
   "outputs": [],
   "source": [
    "from typing import Protocol"
   ]
  },
  {
   "cell_type": "code",
   "execution_count": 19,
   "metadata": {},
   "outputs": [],
   "source": [
    "class Logger(Protocol):\n",
    "    def log(self, message: str): ..."
   ]
  },
  {
   "cell_type": "code",
   "execution_count": 20,
   "metadata": {},
   "outputs": [],
   "source": [
    "class ConsoleLogger:\n",
    "    def log(self, message: str):\n",
    "        print(f\"Console: {message}\")"
   ]
  },
  {
   "cell_type": "code",
   "execution_count": 21,
   "metadata": {},
   "outputs": [],
   "source": [
    "class FileLogger:\n",
    "    def log(self, message: str):\n",
    "        with open(\"log.txt\", \"a\") as f:\n",
    "            f.write(f\"File: {message}\\n\")"
   ]
  },
  {
   "cell_type": "code",
   "execution_count": 22,
   "metadata": {},
   "outputs": [],
   "source": [
    "def log_message(logger: Logger, message: str):\n",
    "    logger.log(message)"
   ]
  },
  {
   "cell_type": "code",
   "execution_count": 23,
   "metadata": {},
   "outputs": [
    {
     "name": "stdout",
     "output_type": "stream",
     "text": [
      "Console: A console log.\n"
     ]
    }
   ],
   "source": [
    "log_message(ConsoleLogger(), \"A console log.\")\n",
    "log_message(FileLogger(), \"A file log.\")"
   ]
  },
  {
   "cell_type": "markdown",
   "metadata": {},
   "source": [
    "# Loose Coupling\n",
    "- As software grows in complexity, the relationships between its components can become tangled, leading to a system that is hard to understand, maintain, and extend. The principle of Loose Coupling aims to mitigate this issue.\n",
    "\n",
    "##### What does it mean?\n",
    "- Loose coupling refers to minimizing the dependencies between different parts of a program. In a loosely coupled system, components are independent and interact through well-defined interfaces, making it easier to make changes to one part without affecting others."
   ]
  },
  {
   "cell_type": "code",
   "execution_count": 24,
   "metadata": {},
   "outputs": [],
   "source": [
    "class MessageService:\n",
    "    def __init__(self, sender):\n",
    "        self.sender = sender\n",
    "\n",
    "    def send_message(self, message: str):\n",
    "        self.sender.send(message)"
   ]
  },
  {
   "cell_type": "code",
   "execution_count": 25,
   "metadata": {},
   "outputs": [],
   "source": [
    "class EmailSender:\n",
    "    def send(self, message: str):\n",
    "        print(f\"Sending email: {message}\")"
   ]
  },
  {
   "cell_type": "code",
   "execution_count": 26,
   "metadata": {},
   "outputs": [],
   "source": [
    "class SMSSender:\n",
    "    def send(self, message: str):\n",
    "        print(f\"Sending SMS: {message}\")"
   ]
  },
  {
   "cell_type": "code",
   "execution_count": 27,
   "metadata": {},
   "outputs": [
    {
     "name": "stdout",
     "output_type": "stream",
     "text": [
      "Sending email: Hello via Email\n",
      "Sending SMS: Hello via SMS\n"
     ]
    }
   ],
   "source": [
    "email_service = MessageService(EmailSender())\n",
    "email_service.send_message(\"Hello via Email\")\n",
    "\n",
    "sms_service = MessageService(SMSSender())\n",
    "sms_service.send_message(\"Hello via SMS\")"
   ]
  },
  {
   "cell_type": "code",
   "execution_count": null,
   "metadata": {},
   "outputs": [],
   "source": []
  }
 ],
 "metadata": {
  "kernelspec": {
   "display_name": "misc",
   "language": "python",
   "name": "python3"
  },
  "language_info": {
   "codemirror_mode": {
    "name": "ipython",
    "version": 3
   },
   "file_extension": ".py",
   "mimetype": "text/x-python",
   "name": "python",
   "nbconvert_exporter": "python",
   "pygments_lexer": "ipython3",
   "version": "3.12.8"
  }
 },
 "nbformat": 4,
 "nbformat_minor": 2
}
