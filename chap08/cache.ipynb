{
 "cells": [
  {
   "cell_type": "markdown",
   "metadata": {},
   "source": [
    "# The Cache-Aside pattern"
   ]
  },
  {
   "cell_type": "code",
   "execution_count": 3,
   "metadata": {},
   "outputs": [
    {
     "name": "stdout",
     "output_type": "stream",
     "text": [
      "Collecting redis\n",
      "  Downloading redis-5.2.1-py3-none-any.whl.metadata (9.1 kB)\n",
      "Downloading redis-5.2.1-py3-none-any.whl (261 kB)\n",
      "Installing collected packages: redis\n",
      "Successfully installed redis-5.2.1\n"
     ]
    }
   ],
   "source": [
    "!pip install redis"
   ]
  },
  {
   "cell_type": "markdown",
   "metadata": {},
   "source": [
    "##### Run `redis` inside Docker\n",
    "```bash\n",
    "docker run --name myredis -p 6379:6379 redis\n",
    "```"
   ]
  },
  {
   "cell_type": "code",
   "execution_count": 6,
   "metadata": {},
   "outputs": [],
   "source": [
    "import sqlite3\n",
    "from pathlib import Path\n",
    "import redis\n",
    "import os"
   ]
  },
  {
   "cell_type": "code",
   "execution_count": 7,
   "metadata": {},
   "outputs": [],
   "source": [
    "CACHE_KEY_PREFIX = \"quote\"\n",
    "DB_PATH = Path(os.path.realpath(\"__file__\")).parent / Path(\"quotes.sqlite3\")\n",
    "cache = redis.StrictRedis(host=\"localhost\", port=6379, decode_responses=True)"
   ]
  },
  {
   "cell_type": "code",
   "execution_count": 8,
   "metadata": {},
   "outputs": [],
   "source": [
    "def get_quote(quote_id: str) -> str:\n",
    "    out = []\n",
    "    quote = cache.get(f\"{CACHE_KEY_PREFIX}.{quote_id}\")\n",
    "\n",
    "    if quote is None:\n",
    "        # Get from the database\n",
    "        query_fmt = \"SELECT text FROM quotes WHERE id = {}\"\n",
    "        try:\n",
    "            with sqlite3.connect(DB_PATH) as db:\n",
    "                cursor = db.cursor()\n",
    "                res = cursor.execute(query_fmt.format(quote_id)).fetchone()\n",
    "                if not res:\n",
    "                    return \"There was no quote stored matching that id!\"\n",
    "\n",
    "                quote = res[0]\n",
    "                out.append(f\"Got '{quote}' FROM DB\")\n",
    "        except Exception as e:\n",
    "            print(e)\n",
    "            quote = \"\"\n",
    "\n",
    "        # Add to the cache\n",
    "        if quote:\n",
    "            key = f\"{CACHE_KEY_PREFIX}.{quote_id}\"\n",
    "            cache.set(key, quote, ex=60)\n",
    "            out.append(f\"Added TO CACHE, with key '{key}'\")\n",
    "    else:\n",
    "        out.append(f\"Got '{quote}' FROM CACHE\")\n",
    "\n",
    "    if out:\n",
    "        return \" - \".join(out)\n",
    "    else:\n",
    "        return \"\""
   ]
  },
  {
   "cell_type": "code",
   "execution_count": 11,
   "metadata": {},
   "outputs": [],
   "source": [
    "def main():\n",
    "    while True:\n",
    "        quote_id = input(\"Enter the ID of the quote: \")\n",
    "        if quote_id.isdigit():\n",
    "            out = get_quote(quote_id)\n",
    "            print(out)\n",
    "        else:\n",
    "            print(\"You must enter a number. Please retry.\")"
   ]
  },
  {
   "cell_type": "code",
   "execution_count": null,
   "metadata": {},
   "outputs": [
    {
     "name": "stdout",
     "output_type": "stream",
     "text": [
      "There was no quote stored matching that id!\n",
      "There was no quote stored matching that id!\n",
      "There was no quote stored matching that id!\n",
      "Got 'Here certain require consumer strategy.' FROM DB - Added TO CACHE, with key 'quote.18'\n",
      "You must enter a number. Please retry.\n",
      "You must enter a number. Please retry.\n",
      "You must enter a number. Please retry.\n"
     ]
    }
   ],
   "source": [
    "main()"
   ]
  },
  {
   "cell_type": "code",
   "execution_count": null,
   "metadata": {},
   "outputs": [],
   "source": []
  }
 ],
 "metadata": {
  "kernelspec": {
   "display_name": "Python 3",
   "language": "python",
   "name": "python3"
  },
  "language_info": {
   "codemirror_mode": {
    "name": "ipython",
    "version": 3
   },
   "file_extension": ".py",
   "mimetype": "text/x-python",
   "name": "python",
   "nbconvert_exporter": "python",
   "pygments_lexer": "ipython3",
   "version": "3.11.11"
  }
 },
 "nbformat": 4,
 "nbformat_minor": 2
}
