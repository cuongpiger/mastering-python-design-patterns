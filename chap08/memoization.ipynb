{
 "cells": [
  {
   "cell_type": "markdown",
   "metadata": {},
   "source": [
    "# The Memoization pattern"
   ]
  },
  {
   "cell_type": "code",
   "execution_count": 1,
   "metadata": {},
   "outputs": [],
   "source": [
    "from datetime import timedelta\n",
    "from functools import lru_cache"
   ]
  },
  {
   "cell_type": "code",
   "execution_count": 2,
   "metadata": {},
   "outputs": [],
   "source": [
    "def fibonacci_func1(n):\n",
    "    if n < 2:\n",
    "        return n\n",
    "    return fibonacci_func1(n - 1) + fibonacci_func1(n - 2)"
   ]
  },
  {
   "cell_type": "code",
   "execution_count": 3,
   "metadata": {},
   "outputs": [],
   "source": [
    "@lru_cache(maxsize=None)\n",
    "def fibonacci_func2(n):\n",
    "    if n < 2:\n",
    "        return n\n",
    "    return fibonacci_func2(n - 1) + fibonacci_func2(n - 2)"
   ]
  },
  {
   "cell_type": "code",
   "execution_count": 4,
   "metadata": {},
   "outputs": [],
   "source": [
    "def main():\n",
    "    import time\n",
    "\n",
    "    n = 30\n",
    "\n",
    "    start_time = time.time()\n",
    "    result = fibonacci_func1(n)\n",
    "    duration = timedelta(time.time() - start_time)\n",
    "    print(f\"Fibonacci_func1({n}) = {result}, calculated in {duration}\")\n",
    "\n",
    "    start_time = time.time()\n",
    "    result = fibonacci_func2(n)\n",
    "    duration = timedelta(time.time() - start_time)\n",
    "    print(f\"Fibonacci_func2({n}) = {result}, calculated in {duration}\")"
   ]
  },
  {
   "cell_type": "code",
   "execution_count": 5,
   "metadata": {},
   "outputs": [
    {
     "name": "stdout",
     "output_type": "stream",
     "text": [
      "Fibonacci_func1(30) = 832040, calculated in 1:28:44.235535\n",
      "Fibonacci_func2(30) = 832040, calculated in 0:00:00.803375\n"
     ]
    }
   ],
   "source": [
    "main()"
   ]
  },
  {
   "cell_type": "code",
   "execution_count": null,
   "metadata": {},
   "outputs": [],
   "source": []
  }
 ],
 "metadata": {
  "kernelspec": {
   "display_name": "Python 3",
   "language": "python",
   "name": "python3"
  },
  "language_info": {
   "codemirror_mode": {
    "name": "ipython",
    "version": 3
   },
   "file_extension": ".py",
   "mimetype": "text/x-python",
   "name": "python",
   "nbconvert_exporter": "python",
   "pygments_lexer": "ipython3",
   "version": "3.11.11"
  }
 },
 "nbformat": 4,
 "nbformat_minor": 2
}
