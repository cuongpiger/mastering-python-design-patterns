{
 "cells": [
  {
   "cell_type": "markdown",
   "metadata": {},
   "source": [
    "# The Lazy Loading pattern"
   ]
  },
  {
   "cell_type": "code",
   "execution_count": 1,
   "metadata": {},
   "outputs": [],
   "source": [
    "class LazyLoadedData:\n",
    "    def __init__(self):\n",
    "        self._data = None\n",
    "\n",
    "    @property\n",
    "    def data(self):\n",
    "        if self._data is None:\n",
    "            self._data = self.load_data()\n",
    "        return self._data\n",
    "\n",
    "    def load_data(self):\n",
    "        print(\"Loading expensive data...\")\n",
    "        return sum(i * i for i in range(100000))"
   ]
  },
  {
   "cell_type": "code",
   "execution_count": 2,
   "metadata": {},
   "outputs": [],
   "source": [
    "def main():\n",
    "    obj = LazyLoadedData()\n",
    "    print(\"Object created, expensive attribute not loaded yet.\")\n",
    "\n",
    "    # The expensive operation will occur only when the attribute is accessed for the first time\n",
    "    print(\"Accessing expensive attribute:\")\n",
    "    print(obj.data)\n",
    "    print(\"Accessing expensive attribute again, no reloading occurs:\")\n",
    "    print(obj.data)"
   ]
  },
  {
   "cell_type": "code",
   "execution_count": 3,
   "metadata": {},
   "outputs": [
    {
     "name": "stdout",
     "output_type": "stream",
     "text": [
      "Object created, expensive attribute not loaded yet.\n",
      "Accessing expensive attribute:\n",
      "Loading expensive data...\n",
      "333328333350000\n",
      "Accessing expensive attribute again, no reloading occurs:\n",
      "333328333350000\n"
     ]
    }
   ],
   "source": [
    "main()"
   ]
  },
  {
   "cell_type": "markdown",
   "metadata": {},
   "source": [
    "<hr>"
   ]
  },
  {
   "cell_type": "code",
   "execution_count": 17,
   "metadata": {},
   "outputs": [],
   "source": [
    "import time\n",
    "from datetime import timedelta\n",
    "from functools import lru_cache"
   ]
  },
  {
   "cell_type": "code",
   "execution_count": 18,
   "metadata": {},
   "outputs": [],
   "source": [
    "def recursive_factorial(n):\n",
    "    \"\"\"Calculate factorial (expensive for large n)\"\"\"\n",
    "    if n == 1:\n",
    "        return 1\n",
    "    else:\n",
    "        return n * recursive_factorial(n - 1)"
   ]
  },
  {
   "cell_type": "code",
   "execution_count": 19,
   "metadata": {},
   "outputs": [],
   "source": [
    "@lru_cache(maxsize=128)\n",
    "def cached_factorial(n):\n",
    "    return recursive_factorial(n)"
   ]
  },
  {
   "cell_type": "code",
   "execution_count": 20,
   "metadata": {},
   "outputs": [],
   "source": [
    "def main():\n",
    "    # Testing the performance\n",
    "    n = 300\n",
    "\n",
    "    # Without caching\n",
    "    start_time = time.time()\n",
    "    print(f\"Recursive factorial of {n}: {recursive_factorial(n)}\")\n",
    "    duration = timedelta(time.time() - start_time)\n",
    "    print(f\"Calculation time without caching: {duration}\")\n",
    "\n",
    "    # With caching\n",
    "    start_time = time.time()\n",
    "    print(f\"Cached factorial of {n}: {cached_factorial(n)}\")\n",
    "    duration = timedelta(time.time() - start_time)\n",
    "    print(f\"Calculation time with caching: {duration}\")\n",
    "\n",
    "    # Repeating the calculation to demonstrate caching benefits\n",
    "    start_time = time.time()\n",
    "    print(f\"Cached factorial of {n}, repeated: {cached_factorial(n)}\")\n",
    "    duration = timedelta(time.time() - start_time)\n",
    "    print(f\"Second calculation time with caching: {duration}\")"
   ]
  },
  {
   "cell_type": "code",
   "execution_count": 21,
   "metadata": {},
   "outputs": [
    {
     "name": "stdout",
     "output_type": "stream",
     "text": [
      "Recursive factorial of 300: 306057512216440636035370461297268629388588804173576999416776741259476533176716867465515291422477573349939147888701726368864263907759003154226842927906974559841225476930271954604008012215776252176854255965356903506788725264321896264299365204576448830388909753943489625436053225980776521270822437639449120128678675368305712293681943649956460498166450227716500185176546469340112226034729724066333258583506870150169794168850353752137554910289126407157154830282284937952636580145235233156936482233436799254594095276820608062232812387383880817049600000000000000000000000000000000000000000000000000000000000000000000000000\n",
      "Calculation time without caching: 0:00:06.983185\n",
      "Cached factorial of 300: 306057512216440636035370461297268629388588804173576999416776741259476533176716867465515291422477573349939147888701726368864263907759003154226842927906974559841225476930271954604008012215776252176854255965356903506788725264321896264299365204576448830388909753943489625436053225980776521270822437639449120128678675368305712293681943649956460498166450227716500185176546469340112226034729724066333258583506870150169794168850353752137554910289126407157154830282284937952636580145235233156936482233436799254594095276820608062232812387383880817049600000000000000000000000000000000000000000000000000000000000000000000000000\n",
      "Calculation time with caching: 0:00:02.533722\n",
      "Cached factorial of 300, repeated: 306057512216440636035370461297268629388588804173576999416776741259476533176716867465515291422477573349939147888701726368864263907759003154226842927906974559841225476930271954604008012215776252176854255965356903506788725264321896264299365204576448830388909753943489625436053225980776521270822437639449120128678675368305712293681943649956460498166450227716500185176546469340112226034729724066333258583506870150169794168850353752137554910289126407157154830282284937952636580145235233156936482233436799254594095276820608062232812387383880817049600000000000000000000000000000000000000000000000000000000000000000000000000\n",
      "Second calculation time with caching: 0:00:00.473785\n"
     ]
    }
   ],
   "source": [
    "main()"
   ]
  },
  {
   "cell_type": "code",
   "execution_count": null,
   "metadata": {},
   "outputs": [],
   "source": []
  }
 ],
 "metadata": {
  "kernelspec": {
   "display_name": "Python 3",
   "language": "python",
   "name": "python3"
  },
  "language_info": {
   "codemirror_mode": {
    "name": "ipython",
    "version": 3
   },
   "file_extension": ".py",
   "mimetype": "text/x-python",
   "name": "python",
   "nbconvert_exporter": "python",
   "pygments_lexer": "ipython3",
   "version": "3.11.11"
  }
 },
 "nbformat": 4,
 "nbformat_minor": 2
}
